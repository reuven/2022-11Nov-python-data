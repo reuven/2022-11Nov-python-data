{
 "cells": [
  {
   "cell_type": "markdown",
   "id": "2f277eba",
   "metadata": {},
   "source": [
    "# Week 4: Text and dates\n",
    "\n",
    "1. Text\n",
    "    - Working with text data via the `str` accessor\n",
    "    - Using `str` to clean integer data\n",
    "    - Getting textual statistics \n",
    "    - Cleaning text + strings\n",
    "2. Dates and times\n",
    "    - How do dates and times work as data structures?\n",
    "    - `datetime` and `timedelta` objects\n",
    "    - Reading date information from CSV files\n",
    "    - Retrieving via dates and times\n",
    "    - Time series -- setting the index to use a datetime column\n",
    "    - Resampling -- grouping via time"
   ]
  },
  {
   "cell_type": "code",
   "execution_count": 1,
   "id": "e9bde716",
   "metadata": {},
   "outputs": [],
   "source": [
    "import numpy as np\n",
    "import pandas as pd\n",
    "from pandas import Series, DataFrame"
   ]
  },
  {
   "cell_type": "code",
   "execution_count": 2,
   "id": "321c0fdc",
   "metadata": {},
   "outputs": [],
   "source": [
    "# load NYC taxi data from January, 2019\n",
    "filename = '/Users/reuven/Courses/Current/data/nyc_taxi_2019-01.csv'\n",
    "\n",
    "df = pd.read_csv(filename, \n",
    "                usecols=['passenger_count', 'trip_distance', 'total_amount'])"
   ]
  },
  {
   "cell_type": "code",
   "execution_count": 3,
   "id": "54d779c8",
   "metadata": {},
   "outputs": [
    {
     "data": {
      "text/html": [
       "<div>\n",
       "<style scoped>\n",
       "    .dataframe tbody tr th:only-of-type {\n",
       "        vertical-align: middle;\n",
       "    }\n",
       "\n",
       "    .dataframe tbody tr th {\n",
       "        vertical-align: top;\n",
       "    }\n",
       "\n",
       "    .dataframe thead th {\n",
       "        text-align: right;\n",
       "    }\n",
       "</style>\n",
       "<table border=\"1\" class=\"dataframe\">\n",
       "  <thead>\n",
       "    <tr style=\"text-align: right;\">\n",
       "      <th></th>\n",
       "      <th>passenger_count</th>\n",
       "      <th>trip_distance</th>\n",
       "      <th>total_amount</th>\n",
       "    </tr>\n",
       "  </thead>\n",
       "  <tbody>\n",
       "    <tr>\n",
       "      <th>0</th>\n",
       "      <td>1</td>\n",
       "      <td>1.5</td>\n",
       "      <td>9.95</td>\n",
       "    </tr>\n",
       "    <tr>\n",
       "      <th>1</th>\n",
       "      <td>1</td>\n",
       "      <td>2.6</td>\n",
       "      <td>16.30</td>\n",
       "    </tr>\n",
       "    <tr>\n",
       "      <th>2</th>\n",
       "      <td>3</td>\n",
       "      <td>0.0</td>\n",
       "      <td>5.80</td>\n",
       "    </tr>\n",
       "    <tr>\n",
       "      <th>3</th>\n",
       "      <td>5</td>\n",
       "      <td>0.0</td>\n",
       "      <td>7.55</td>\n",
       "    </tr>\n",
       "    <tr>\n",
       "      <th>4</th>\n",
       "      <td>5</td>\n",
       "      <td>0.0</td>\n",
       "      <td>55.55</td>\n",
       "    </tr>\n",
       "  </tbody>\n",
       "</table>\n",
       "</div>"
      ],
      "text/plain": [
       "   passenger_count  trip_distance  total_amount\n",
       "0                1            1.5          9.95\n",
       "1                1            2.6         16.30\n",
       "2                3            0.0          5.80\n",
       "3                5            0.0          7.55\n",
       "4                5            0.0         55.55"
      ]
     },
     "execution_count": 3,
     "metadata": {},
     "output_type": "execute_result"
    }
   ],
   "source": [
    "df.head()"
   ]
  },
  {
   "cell_type": "code",
   "execution_count": 4,
   "id": "041dd920",
   "metadata": {},
   "outputs": [
    {
     "data": {
      "text/plain": [
       "passenger_count      int64\n",
       "trip_distance      float64\n",
       "total_amount       float64\n",
       "dtype: object"
      ]
     },
     "execution_count": 4,
     "metadata": {},
     "output_type": "execute_result"
    }
   ],
   "source": [
    "df.dtypes"
   ]
  },
  {
   "cell_type": "code",
   "execution_count": 6,
   "id": "cffacc32",
   "metadata": {},
   "outputs": [
    {
     "data": {
      "text/html": [
       "<div>\n",
       "<style scoped>\n",
       "    .dataframe tbody tr th:only-of-type {\n",
       "        vertical-align: middle;\n",
       "    }\n",
       "\n",
       "    .dataframe tbody tr th {\n",
       "        vertical-align: top;\n",
       "    }\n",
       "\n",
       "    .dataframe thead th {\n",
       "        text-align: right;\n",
       "    }\n",
       "</style>\n",
       "<table border=\"1\" class=\"dataframe\">\n",
       "  <thead>\n",
       "    <tr style=\"text-align: right;\">\n",
       "      <th></th>\n",
       "      <th>passenger_count</th>\n",
       "      <th>trip_distance</th>\n",
       "      <th>total_amount</th>\n",
       "    </tr>\n",
       "  </thead>\n",
       "  <tbody>\n",
       "    <tr>\n",
       "      <th>7667791</th>\n",
       "      <td>1</td>\n",
       "      <td>0.0</td>\n",
       "      <td>0.00</td>\n",
       "    </tr>\n",
       "    <tr>\n",
       "      <th>4863796</th>\n",
       "      <td>0</td>\n",
       "      <td>0.0</td>\n",
       "      <td>3.30</td>\n",
       "    </tr>\n",
       "    <tr>\n",
       "      <th>4863795</th>\n",
       "      <td>2</td>\n",
       "      <td>0.0</td>\n",
       "      <td>3.30</td>\n",
       "    </tr>\n",
       "    <tr>\n",
       "      <th>4863794</th>\n",
       "      <td>2</td>\n",
       "      <td>0.0</td>\n",
       "      <td>3.30</td>\n",
       "    </tr>\n",
       "    <tr>\n",
       "      <th>4863793</th>\n",
       "      <td>1</td>\n",
       "      <td>0.0</td>\n",
       "      <td>3.30</td>\n",
       "    </tr>\n",
       "    <tr>\n",
       "      <th>4863792</th>\n",
       "      <td>1</td>\n",
       "      <td>0.0</td>\n",
       "      <td>3.30</td>\n",
       "    </tr>\n",
       "    <tr>\n",
       "      <th>4863789</th>\n",
       "      <td>1</td>\n",
       "      <td>0.0</td>\n",
       "      <td>5.30</td>\n",
       "    </tr>\n",
       "    <tr>\n",
       "      <th>4863768</th>\n",
       "      <td>1</td>\n",
       "      <td>0.0</td>\n",
       "      <td>3.30</td>\n",
       "    </tr>\n",
       "    <tr>\n",
       "      <th>4863743</th>\n",
       "      <td>1</td>\n",
       "      <td>0.0</td>\n",
       "      <td>3.96</td>\n",
       "    </tr>\n",
       "    <tr>\n",
       "      <th>2682283</th>\n",
       "      <td>1</td>\n",
       "      <td>0.0</td>\n",
       "      <td>20.30</td>\n",
       "    </tr>\n",
       "  </tbody>\n",
       "</table>\n",
       "</div>"
      ],
      "text/plain": [
       "         passenger_count  trip_distance  total_amount\n",
       "7667791                1            0.0          0.00\n",
       "4863796                0            0.0          3.30\n",
       "4863795                2            0.0          3.30\n",
       "4863794                2            0.0          3.30\n",
       "4863793                1            0.0          3.30\n",
       "4863792                1            0.0          3.30\n",
       "4863789                1            0.0          5.30\n",
       "4863768                1            0.0          3.30\n",
       "4863743                1            0.0          3.96\n",
       "2682283                1            0.0         20.30"
      ]
     },
     "execution_count": 6,
     "metadata": {},
     "output_type": "execute_result"
    }
   ],
   "source": [
    "# what if I want to find the 10 shortest-distance trips?\n",
    "\n",
    "df.sort_values(by='trip_distance').head(10)"
   ]
  },
  {
   "cell_type": "code",
   "execution_count": 7,
   "id": "c9a74224",
   "metadata": {},
   "outputs": [
    {
     "data": {
      "text/html": [
       "<div>\n",
       "<style scoped>\n",
       "    .dataframe tbody tr th:only-of-type {\n",
       "        vertical-align: middle;\n",
       "    }\n",
       "\n",
       "    .dataframe tbody tr th {\n",
       "        vertical-align: top;\n",
       "    }\n",
       "\n",
       "    .dataframe thead th {\n",
       "        text-align: right;\n",
       "    }\n",
       "</style>\n",
       "<table border=\"1\" class=\"dataframe\">\n",
       "  <thead>\n",
       "    <tr style=\"text-align: right;\">\n",
       "      <th></th>\n",
       "      <th>passenger_count</th>\n",
       "      <th>trip_distance</th>\n",
       "      <th>total_amount</th>\n",
       "    </tr>\n",
       "  </thead>\n",
       "  <tbody>\n",
       "    <tr>\n",
       "      <th>4890628</th>\n",
       "      <td>1</td>\n",
       "      <td>0.0</td>\n",
       "      <td>-362.80</td>\n",
       "    </tr>\n",
       "    <tr>\n",
       "      <th>6308124</th>\n",
       "      <td>2</td>\n",
       "      <td>0.0</td>\n",
       "      <td>-320.30</td>\n",
       "    </tr>\n",
       "    <tr>\n",
       "      <th>57093</th>\n",
       "      <td>1</td>\n",
       "      <td>0.0</td>\n",
       "      <td>-300.30</td>\n",
       "    </tr>\n",
       "    <tr>\n",
       "      <th>7227721</th>\n",
       "      <td>1</td>\n",
       "      <td>0.0</td>\n",
       "      <td>-300.30</td>\n",
       "    </tr>\n",
       "    <tr>\n",
       "      <th>868820</th>\n",
       "      <td>1</td>\n",
       "      <td>0.0</td>\n",
       "      <td>-250.31</td>\n",
       "    </tr>\n",
       "    <tr>\n",
       "      <th>54256</th>\n",
       "      <td>1</td>\n",
       "      <td>0.0</td>\n",
       "      <td>-224.80</td>\n",
       "    </tr>\n",
       "    <tr>\n",
       "      <th>57095</th>\n",
       "      <td>1</td>\n",
       "      <td>0.0</td>\n",
       "      <td>-190.30</td>\n",
       "    </tr>\n",
       "    <tr>\n",
       "      <th>3339311</th>\n",
       "      <td>1</td>\n",
       "      <td>0.0</td>\n",
       "      <td>-165.30</td>\n",
       "    </tr>\n",
       "    <tr>\n",
       "      <th>3310047</th>\n",
       "      <td>1</td>\n",
       "      <td>0.0</td>\n",
       "      <td>-160.80</td>\n",
       "    </tr>\n",
       "    <tr>\n",
       "      <th>6153373</th>\n",
       "      <td>1</td>\n",
       "      <td>0.0</td>\n",
       "      <td>-150.80</td>\n",
       "    </tr>\n",
       "    <tr>\n",
       "      <th>5147061</th>\n",
       "      <td>1</td>\n",
       "      <td>0.0</td>\n",
       "      <td>-150.30</td>\n",
       "    </tr>\n",
       "    <tr>\n",
       "      <th>5977567</th>\n",
       "      <td>1</td>\n",
       "      <td>0.0</td>\n",
       "      <td>-120.80</td>\n",
       "    </tr>\n",
       "    <tr>\n",
       "      <th>5554364</th>\n",
       "      <td>1</td>\n",
       "      <td>0.0</td>\n",
       "      <td>-112.30</td>\n",
       "    </tr>\n",
       "    <tr>\n",
       "      <th>6958613</th>\n",
       "      <td>1</td>\n",
       "      <td>0.0</td>\n",
       "      <td>-110.80</td>\n",
       "    </tr>\n",
       "    <tr>\n",
       "      <th>7102780</th>\n",
       "      <td>2</td>\n",
       "      <td>0.0</td>\n",
       "      <td>-110.80</td>\n",
       "    </tr>\n",
       "    <tr>\n",
       "      <th>4424855</th>\n",
       "      <td>1</td>\n",
       "      <td>0.0</td>\n",
       "      <td>-100.80</td>\n",
       "    </tr>\n",
       "    <tr>\n",
       "      <th>57097</th>\n",
       "      <td>1</td>\n",
       "      <td>0.0</td>\n",
       "      <td>-100.30</td>\n",
       "    </tr>\n",
       "    <tr>\n",
       "      <th>2530388</th>\n",
       "      <td>3</td>\n",
       "      <td>0.0</td>\n",
       "      <td>-100.30</td>\n",
       "    </tr>\n",
       "    <tr>\n",
       "      <th>2644703</th>\n",
       "      <td>1</td>\n",
       "      <td>0.0</td>\n",
       "      <td>-100.30</td>\n",
       "    </tr>\n",
       "    <tr>\n",
       "      <th>2868784</th>\n",
       "      <td>2</td>\n",
       "      <td>0.0</td>\n",
       "      <td>-100.30</td>\n",
       "    </tr>\n",
       "  </tbody>\n",
       "</table>\n",
       "</div>"
      ],
      "text/plain": [
       "         passenger_count  trip_distance  total_amount\n",
       "4890628                1            0.0       -362.80\n",
       "6308124                2            0.0       -320.30\n",
       "57093                  1            0.0       -300.30\n",
       "7227721                1            0.0       -300.30\n",
       "868820                 1            0.0       -250.31\n",
       "54256                  1            0.0       -224.80\n",
       "57095                  1            0.0       -190.30\n",
       "3339311                1            0.0       -165.30\n",
       "3310047                1            0.0       -160.80\n",
       "6153373                1            0.0       -150.80\n",
       "5147061                1            0.0       -150.30\n",
       "5977567                1            0.0       -120.80\n",
       "5554364                1            0.0       -112.30\n",
       "6958613                1            0.0       -110.80\n",
       "7102780                2            0.0       -110.80\n",
       "4424855                1            0.0       -100.80\n",
       "57097                  1            0.0       -100.30\n",
       "2530388                3            0.0       -100.30\n",
       "2644703                1            0.0       -100.30\n",
       "2868784                2            0.0       -100.30"
      ]
     },
     "execution_count": 7,
     "metadata": {},
     "output_type": "execute_result"
    }
   ],
   "source": [
    "# what if I want to sort first by trip_distance, and then (in the case of a tie) by total_amount?\n",
    "\n",
    "df.sort_values(by=['trip_distance', 'total_amount']).head(20)"
   ]
  },
  {
   "cell_type": "code",
   "execution_count": 8,
   "id": "758a4e07",
   "metadata": {},
   "outputs": [
    {
     "data": {
      "text/plain": [
       "passenger_count\n",
       "0    2.651561\n",
       "1    2.779088\n",
       "2    2.880572\n",
       "3    2.840698\n",
       "4    2.853084\n",
       "5    2.865741\n",
       "6    2.842335\n",
       "7    2.561579\n",
       "8    3.142759\n",
       "9    1.486667\n",
       "Name: trip_distance, dtype: float64"
      ]
     },
     "execution_count": 8,
     "metadata": {},
     "output_type": "execute_result"
    }
   ],
   "source": [
    "# grouping \n",
    "\n",
    "# grouping allows us to ask a question, and to get a separate answer for each\n",
    "# unique value of a particular column.\n",
    "\n",
    "# to group, we need:\n",
    "# (1) a categorical column on which to group\n",
    "# (2) a numeric column on which to perform our calculation\n",
    "# (3) an aggregation method that will give us one value back for all rows for each categorical value\n",
    "\n",
    "df.groupby('passenger_count')['trip_distance'].mean()"
   ]
  },
  {
   "cell_type": "code",
   "execution_count": 9,
   "id": "5873450a",
   "metadata": {},
   "outputs": [
    {
     "data": {
      "text/plain": [
       "passenger_count\n",
       "0    18.663658\n",
       "1    15.609601\n",
       "2    15.831294\n",
       "3    15.604015\n",
       "4    15.650307\n",
       "5    15.546940\n",
       "6    15.437892\n",
       "7    48.278421\n",
       "8    64.105517\n",
       "9    31.094444\n",
       "Name: total_amount, dtype: float64"
      ]
     },
     "execution_count": 9,
     "metadata": {},
     "output_type": "execute_result"
    }
   ],
   "source": [
    "df.groupby('passenger_count')['total_amount'].mean()"
   ]
  },
  {
   "cell_type": "code",
   "execution_count": 10,
   "id": "ebde2d45",
   "metadata": {},
   "outputs": [
    {
     "data": {
      "text/html": [
       "<div>\n",
       "<style scoped>\n",
       "    .dataframe tbody tr th:only-of-type {\n",
       "        vertical-align: middle;\n",
       "    }\n",
       "\n",
       "    .dataframe tbody tr th {\n",
       "        vertical-align: top;\n",
       "    }\n",
       "\n",
       "    .dataframe thead th {\n",
       "        text-align: right;\n",
       "    }\n",
       "</style>\n",
       "<table border=\"1\" class=\"dataframe\">\n",
       "  <thead>\n",
       "    <tr style=\"text-align: right;\">\n",
       "      <th></th>\n",
       "      <th>total_amount</th>\n",
       "      <th>trip_distance</th>\n",
       "    </tr>\n",
       "    <tr>\n",
       "      <th>passenger_count</th>\n",
       "      <th></th>\n",
       "      <th></th>\n",
       "    </tr>\n",
       "  </thead>\n",
       "  <tbody>\n",
       "    <tr>\n",
       "      <th>0</th>\n",
       "      <td>18.663658</td>\n",
       "      <td>2.651561</td>\n",
       "    </tr>\n",
       "    <tr>\n",
       "      <th>1</th>\n",
       "      <td>15.609601</td>\n",
       "      <td>2.779088</td>\n",
       "    </tr>\n",
       "    <tr>\n",
       "      <th>2</th>\n",
       "      <td>15.831294</td>\n",
       "      <td>2.880572</td>\n",
       "    </tr>\n",
       "    <tr>\n",
       "      <th>3</th>\n",
       "      <td>15.604015</td>\n",
       "      <td>2.840698</td>\n",
       "    </tr>\n",
       "    <tr>\n",
       "      <th>4</th>\n",
       "      <td>15.650307</td>\n",
       "      <td>2.853084</td>\n",
       "    </tr>\n",
       "    <tr>\n",
       "      <th>5</th>\n",
       "      <td>15.546940</td>\n",
       "      <td>2.865741</td>\n",
       "    </tr>\n",
       "    <tr>\n",
       "      <th>6</th>\n",
       "      <td>15.437892</td>\n",
       "      <td>2.842335</td>\n",
       "    </tr>\n",
       "    <tr>\n",
       "      <th>7</th>\n",
       "      <td>48.278421</td>\n",
       "      <td>2.561579</td>\n",
       "    </tr>\n",
       "    <tr>\n",
       "      <th>8</th>\n",
       "      <td>64.105517</td>\n",
       "      <td>3.142759</td>\n",
       "    </tr>\n",
       "    <tr>\n",
       "      <th>9</th>\n",
       "      <td>31.094444</td>\n",
       "      <td>1.486667</td>\n",
       "    </tr>\n",
       "  </tbody>\n",
       "</table>\n",
       "</div>"
      ],
      "text/plain": [
       "                 total_amount  trip_distance\n",
       "passenger_count                             \n",
       "0                   18.663658       2.651561\n",
       "1                   15.609601       2.779088\n",
       "2                   15.831294       2.880572\n",
       "3                   15.604015       2.840698\n",
       "4                   15.650307       2.853084\n",
       "5                   15.546940       2.865741\n",
       "6                   15.437892       2.842335\n",
       "7                   48.278421       2.561579\n",
       "8                   64.105517       3.142759\n",
       "9                   31.094444       1.486667"
      ]
     },
     "execution_count": 10,
     "metadata": {},
     "output_type": "execute_result"
    }
   ],
   "source": [
    "# what if I want to get info about more than one column?\n",
    "# two options:\n",
    "# (1) don't specify columns in square brackets, and then all numeric columns will be calculated\n",
    "# (2) specify them in double square brackets, giving a list of columns\n",
    "\n",
    "df.groupby('passenger_count')[['total_amount', 'trip_distance']].mean()"
   ]
  },
  {
   "cell_type": "code",
   "execution_count": 11,
   "id": "a658e371",
   "metadata": {},
   "outputs": [
    {
     "data": {
      "text/html": [
       "<div>\n",
       "<style scoped>\n",
       "    .dataframe tbody tr th:only-of-type {\n",
       "        vertical-align: middle;\n",
       "    }\n",
       "\n",
       "    .dataframe tbody tr th {\n",
       "        vertical-align: top;\n",
       "    }\n",
       "\n",
       "    .dataframe thead th {\n",
       "        text-align: right;\n",
       "    }\n",
       "</style>\n",
       "<table border=\"1\" class=\"dataframe\">\n",
       "  <thead>\n",
       "    <tr style=\"text-align: right;\">\n",
       "      <th></th>\n",
       "      <th>total_amount</th>\n",
       "      <th>trip_distance</th>\n",
       "    </tr>\n",
       "    <tr>\n",
       "      <th>passenger_count</th>\n",
       "      <th></th>\n",
       "      <th></th>\n",
       "    </tr>\n",
       "  </thead>\n",
       "  <tbody>\n",
       "    <tr>\n",
       "      <th>6</th>\n",
       "      <td>15.437892</td>\n",
       "      <td>2.842335</td>\n",
       "    </tr>\n",
       "    <tr>\n",
       "      <th>5</th>\n",
       "      <td>15.546940</td>\n",
       "      <td>2.865741</td>\n",
       "    </tr>\n",
       "    <tr>\n",
       "      <th>3</th>\n",
       "      <td>15.604015</td>\n",
       "      <td>2.840698</td>\n",
       "    </tr>\n",
       "    <tr>\n",
       "      <th>1</th>\n",
       "      <td>15.609601</td>\n",
       "      <td>2.779088</td>\n",
       "    </tr>\n",
       "    <tr>\n",
       "      <th>4</th>\n",
       "      <td>15.650307</td>\n",
       "      <td>2.853084</td>\n",
       "    </tr>\n",
       "    <tr>\n",
       "      <th>2</th>\n",
       "      <td>15.831294</td>\n",
       "      <td>2.880572</td>\n",
       "    </tr>\n",
       "    <tr>\n",
       "      <th>0</th>\n",
       "      <td>18.663658</td>\n",
       "      <td>2.651561</td>\n",
       "    </tr>\n",
       "    <tr>\n",
       "      <th>9</th>\n",
       "      <td>31.094444</td>\n",
       "      <td>1.486667</td>\n",
       "    </tr>\n",
       "    <tr>\n",
       "      <th>7</th>\n",
       "      <td>48.278421</td>\n",
       "      <td>2.561579</td>\n",
       "    </tr>\n",
       "    <tr>\n",
       "      <th>8</th>\n",
       "      <td>64.105517</td>\n",
       "      <td>3.142759</td>\n",
       "    </tr>\n",
       "  </tbody>\n",
       "</table>\n",
       "</div>"
      ],
      "text/plain": [
       "                 total_amount  trip_distance\n",
       "passenger_count                             \n",
       "6                   15.437892       2.842335\n",
       "5                   15.546940       2.865741\n",
       "3                   15.604015       2.840698\n",
       "1                   15.609601       2.779088\n",
       "4                   15.650307       2.853084\n",
       "2                   15.831294       2.880572\n",
       "0                   18.663658       2.651561\n",
       "9                   31.094444       1.486667\n",
       "7                   48.278421       2.561579\n",
       "8                   64.105517       3.142759"
      ]
     },
     "execution_count": 11,
     "metadata": {},
     "output_type": "execute_result"
    }
   ],
   "source": [
    "df.groupby('passenger_count')[['total_amount', 'trip_distance']].mean().sort_values(by='total_amount')"
   ]
  },
  {
   "cell_type": "markdown",
   "id": "887197cc",
   "metadata": {},
   "source": [
    "# Text\n",
    "\n",
    "In Python (not Pandas), we use strings all of the time. They're really useful! But think about how Pandas does things: It stores its values inside of NumPy arrays. Those arrays contain C data structures.\n",
    "\n",
    "It's relatively obvious that those C data structures include 8-bit ints, 16-bit ints, 32-bit floats, etc. etc., but where do strings fit in?\n",
    "\n",
    "First: You can, in theory, put strings in NumPy arrays, but then things get very messy. Also, you then have C-style strings, not Python-style strings, which means that they're far more limited.\n",
    "\n",
    "The other thing we can do is use Python strings, stored in Python, but Pandas will keep track of the location of each Python string, and use it as necessary.\n",
    "\n",
    "If we have a series whose `dtype` is listed as `object`, that theoretically means that we could store any kind of Python object there. In practice, it almost always means that we have a string column, or a column containing some strings."
   ]
  },
  {
   "cell_type": "code",
   "execution_count": 12,
   "id": "1e960f6a",
   "metadata": {},
   "outputs": [],
   "source": [
    "s = Series('this is an example of text in Pandas for my course'.split())"
   ]
  },
  {
   "cell_type": "code",
   "execution_count": 13,
   "id": "0b18ddb8",
   "metadata": {},
   "outputs": [
    {
     "data": {
      "text/plain": [
       "0        this\n",
       "1          is\n",
       "2          an\n",
       "3     example\n",
       "4          of\n",
       "5        text\n",
       "6          in\n",
       "7      Pandas\n",
       "8         for\n",
       "9          my\n",
       "10     course\n",
       "dtype: object"
      ]
     },
     "execution_count": 13,
     "metadata": {},
     "output_type": "execute_result"
    }
   ],
   "source": [
    "s"
   ]
  },
  {
   "cell_type": "markdown",
   "id": "a70cbb3d",
   "metadata": {},
   "source": [
    "Once we have our string column, we can print it -- but how can we work with it?\n",
    "\n",
    "For example, if I want to find out the length of each word in `s`, how can I do it?\n",
    "\n",
    "- Option 1: Use a `for` loop to go through each value and get it. Problem: Don't do that.\n",
    "- Option 2: Use the `str` accessor for series (or data frame) to invoke a method on each element of `s`."
   ]
  },
  {
   "cell_type": "code",
   "execution_count": 15,
   "id": "96bddd5e",
   "metadata": {},
   "outputs": [
    {
     "data": {
      "text/plain": [
       "0     4\n",
       "1     2\n",
       "2     2\n",
       "3     7\n",
       "4     2\n",
       "5     4\n",
       "6     2\n",
       "7     6\n",
       "8     3\n",
       "9     2\n",
       "10    6\n",
       "dtype: int64"
      ]
     },
     "execution_count": 15,
     "metadata": {},
     "output_type": "execute_result"
    }
   ],
   "source": [
    "s.str.len()   # we're applying the len() function to the s series, via the str accessor"
   ]
  },
  {
   "cell_type": "markdown",
   "id": "7d03b045",
   "metadata": {},
   "source": [
    "# Exercise: Find longer-than-average words\n",
    "\n",
    "1. Define a series containing strings.\n",
    "2. Construct a query that'll return all strings of above-average length.\n",
    "3. Print the returned results."
   ]
  },
  {
   "cell_type": "code",
   "execution_count": 16,
   "id": "cdb28e99",
   "metadata": {},
   "outputs": [
    {
     "data": {
      "text/plain": [
       "0        this\n",
       "1          is\n",
       "2           a\n",
       "3       bunch\n",
       "4          of\n",
       "5       words\n",
       "6         for\n",
       "7          my\n",
       "8      Pandas\n",
       "9      course\n",
       "10      about\n",
       "11    strings\n",
       "12        and\n",
       "13      dates\n",
       "dtype: object"
      ]
     },
     "execution_count": 16,
     "metadata": {},
     "output_type": "execute_result"
    }
   ],
   "source": [
    "s = Series('this is a bunch of words for my Pandas course about strings and dates'.split())\n",
    "s"
   ]
  },
  {
   "cell_type": "code",
   "execution_count": 18,
   "id": "348c0169",
   "metadata": {},
   "outputs": [
    {
     "data": {
      "text/plain": [
       "4.0"
      ]
     },
     "execution_count": 18,
     "metadata": {},
     "output_type": "execute_result"
    }
   ],
   "source": [
    "# what is the average length of a word in s?\n",
    "# what are the lengths of the words?\n",
    "\n",
    "s.str.len().mean()"
   ]
  },
  {
   "cell_type": "code",
   "execution_count": 19,
   "id": "88706a15",
   "metadata": {},
   "outputs": [
    {
     "data": {
      "text/plain": [
       "0     False\n",
       "1     False\n",
       "2     False\n",
       "3      True\n",
       "4     False\n",
       "5      True\n",
       "6     False\n",
       "7     False\n",
       "8      True\n",
       "9      True\n",
       "10     True\n",
       "11     True\n",
       "12    False\n",
       "13     True\n",
       "dtype: bool"
      ]
     },
     "execution_count": 19,
     "metadata": {},
     "output_type": "execute_result"
    }
   ],
   "source": [
    "# which words are longer than the average?\n",
    "\n",
    "s.str.len() > s.str.len().mean()"
   ]
  },
  {
   "cell_type": "code",
   "execution_count": 20,
   "id": "7411a08f",
   "metadata": {},
   "outputs": [
    {
     "data": {
      "text/plain": [
       "3       bunch\n",
       "5       words\n",
       "8      Pandas\n",
       "9      course\n",
       "10      about\n",
       "11    strings\n",
       "13      dates\n",
       "dtype: object"
      ]
     },
     "execution_count": 20,
     "metadata": {},
     "output_type": "execute_result"
    }
   ],
   "source": [
    "# use the boolean series as a mask index, to get only those items whose lengths are > the mean\n",
    "s.loc[s.str.len() > s.str.len().mean()]"
   ]
  },
  {
   "cell_type": "code",
   "execution_count": 21,
   "id": "8082dda1",
   "metadata": {},
   "outputs": [
    {
     "data": {
      "text/plain": [
       "0     False\n",
       "1     False\n",
       "2     False\n",
       "3     False\n",
       "4     False\n",
       "5     False\n",
       "6     False\n",
       "7     False\n",
       "8     False\n",
       "9     False\n",
       "10    False\n",
       "11    False\n",
       "12    False\n",
       "13    False\n",
       "dtype: bool"
      ]
     },
     "execution_count": 21,
     "metadata": {},
     "output_type": "execute_result"
    }
   ],
   "source": [
    "# in Jupyter, I can say\n",
    "\n",
    "s.str.isdigit()   # this returns a series of booleans -- True wherever the string only contains 0-9"
   ]
  },
  {
   "cell_type": "code",
   "execution_count": 22,
   "id": "21ac5cee",
   "metadata": {},
   "outputs": [],
   "source": [
    "s = Series('I work 40 hours per week at my job, and another 20 hours per week on my consulting.'.split())"
   ]
  },
  {
   "cell_type": "code",
   "execution_count": 23,
   "id": "40cae7ac",
   "metadata": {},
   "outputs": [
    {
     "data": {
      "text/plain": [
       "0               I\n",
       "1            work\n",
       "2              40\n",
       "3           hours\n",
       "4             per\n",
       "5            week\n",
       "6              at\n",
       "7              my\n",
       "8            job,\n",
       "9             and\n",
       "10        another\n",
       "11             20\n",
       "12          hours\n",
       "13            per\n",
       "14           week\n",
       "15             on\n",
       "16             my\n",
       "17    consulting.\n",
       "dtype: object"
      ]
     },
     "execution_count": 23,
     "metadata": {},
     "output_type": "execute_result"
    }
   ],
   "source": [
    "s"
   ]
  },
  {
   "cell_type": "code",
   "execution_count": 25,
   "id": "b327c761",
   "metadata": {},
   "outputs": [
    {
     "data": {
      "text/plain": [
       "2     40\n",
       "11    20\n",
       "dtype: object"
      ]
     },
     "execution_count": 25,
     "metadata": {},
     "output_type": "execute_result"
    }
   ],
   "source": [
    "# how can I we find those strings that contain only digits?\n",
    "\n",
    "s.loc[s.str.isdigit()]   # this returns True, when the string only contains digits"
   ]
  },
  {
   "cell_type": "code",
   "execution_count": 29,
   "id": "1bf2eba0",
   "metadata": {},
   "outputs": [
    {
     "data": {
      "text/plain": [
       "60"
      ]
     },
     "execution_count": 29,
     "metadata": {},
     "output_type": "execute_result"
    }
   ],
   "source": [
    "# I want to sum the numbers\n",
    "\n",
    "# to do that, I have to find which elements of s are numbers\n",
    "# I'll use .astype(np.int64 ) to convert, but the input \n",
    "# must be a series of strings, which we trimmed from using a mask\n",
    "# index, based on isdigit()\n",
    "\n",
    "s.loc[s.str.isdigit()].astype(np.int64).sum()"
   ]
  },
  {
   "cell_type": "markdown",
   "id": "c594db03",
   "metadata": {},
   "source": [
    "# Exercise: Summing ints from the user\n",
    "\n",
    "1. Ask the user to enter a list of 2- and 3-digit integers.  These will be strings, and not all will contain only digits.  Some will contain 0 digits!\n",
    "2. Use the `.str` accessor to keep only those \"words\" that contain only digits.  \n",
    "3. Turn the series into integers\n",
    "4. Calculate descriptive statistics on the data."
   ]
  },
  {
   "cell_type": "code",
   "execution_count": 31,
   "id": "4cda5d6a",
   "metadata": {},
   "outputs": [
    {
     "data": {
      "text/plain": [
       "0         This\n",
       "1     sentence\n",
       "2     contains\n",
       "3           10\n",
       "4     numbers,\n",
       "5         some\n",
       "6           of\n",
       "7        which\n",
       "8          are\n",
       "9           20\n",
       "10          30\n",
       "11          97\n",
       "12          85\n",
       "13         and\n",
       "14          23\n",
       "15           .\n",
       "16         But\n",
       "17          we\n",
       "18        also\n",
       "19        have\n",
       "20          22\n",
       "21         and\n",
       "22          33\n",
       "dtype: object"
      ]
     },
     "execution_count": 31,
     "metadata": {},
     "output_type": "execute_result"
    }
   ],
   "source": [
    "s = Series('This sentence contains 10 numbers, some of which are 20 30 97 85 and 23 . But we also have 22 and 33'.split())\n",
    "s"
   ]
  },
  {
   "cell_type": "code",
   "execution_count": 35,
   "id": "50592857",
   "metadata": {},
   "outputs": [
    {
     "data": {
      "text/plain": [
       "count     8.000000\n",
       "mean     40.000000\n",
       "std      32.372828\n",
       "min      10.000000\n",
       "25%      21.500000\n",
       "50%      26.500000\n",
       "75%      46.000000\n",
       "max      97.000000\n",
       "dtype: float64"
      ]
     },
     "execution_count": 35,
     "metadata": {},
     "output_type": "execute_result"
    }
   ],
   "source": [
    "# I want: Descriptive statistics on the numbers in s\n",
    "# I need: remove all non-numeric strings from s, then use astype to turn the values into integers\n",
    "\n",
    "s.loc[s.str.isdigit()].astype(np.int8).describe()\n"
   ]
  },
  {
   "cell_type": "code",
   "execution_count": 36,
   "id": "572cf919",
   "metadata": {},
   "outputs": [
    {
     "data": {
      "text/plain": [
       "0    10\n",
       "1    20\n",
       "2    30\n",
       "3    40\n",
       "4    50\n",
       "dtype: object"
      ]
     },
     "execution_count": 36,
     "metadata": {},
     "output_type": "execute_result"
    }
   ],
   "source": [
    "s = Series('10 20 30 40 50'.split())\n",
    "s"
   ]
  },
  {
   "cell_type": "code",
   "execution_count": 37,
   "id": "ee6d2b74",
   "metadata": {},
   "outputs": [
    {
     "data": {
      "text/plain": [
       "204060810.0"
      ]
     },
     "execution_count": 37,
     "metadata": {},
     "output_type": "execute_result"
    }
   ],
   "source": [
    "s.mean()"
   ]
  },
  {
   "cell_type": "code",
   "execution_count": 38,
   "id": "ed0d020d",
   "metadata": {},
   "outputs": [
    {
     "data": {
      "text/plain": [
       "'1020304050'"
      ]
     },
     "execution_count": 38,
     "metadata": {},
     "output_type": "execute_result"
    }
   ],
   "source": [
    "s.sum()"
   ]
  },
  {
   "cell_type": "markdown",
   "id": "6ff54639",
   "metadata": {},
   "source": [
    "# Next up:\n",
    "\n",
    "1. Textual statistics\n",
    "2. Trimming strings\n",
    "3. `contains` "
   ]
  },
  {
   "cell_type": "code",
   "execution_count": 39,
   "id": "ecb68b6e",
   "metadata": {},
   "outputs": [],
   "source": [
    "filename = '/Users/reuven/Courses/Current/data/winemag-150k-reviews.csv'\n",
    "\n",
    "df = pd.read_csv(filename)"
   ]
  },
  {
   "cell_type": "code",
   "execution_count": 40,
   "id": "e226695e",
   "metadata": {},
   "outputs": [
    {
     "data": {
      "text/html": [
       "<div>\n",
       "<style scoped>\n",
       "    .dataframe tbody tr th:only-of-type {\n",
       "        vertical-align: middle;\n",
       "    }\n",
       "\n",
       "    .dataframe tbody tr th {\n",
       "        vertical-align: top;\n",
       "    }\n",
       "\n",
       "    .dataframe thead th {\n",
       "        text-align: right;\n",
       "    }\n",
       "</style>\n",
       "<table border=\"1\" class=\"dataframe\">\n",
       "  <thead>\n",
       "    <tr style=\"text-align: right;\">\n",
       "      <th></th>\n",
       "      <th>Unnamed: 0</th>\n",
       "      <th>country</th>\n",
       "      <th>description</th>\n",
       "      <th>designation</th>\n",
       "      <th>points</th>\n",
       "      <th>price</th>\n",
       "      <th>province</th>\n",
       "      <th>region_1</th>\n",
       "      <th>region_2</th>\n",
       "      <th>variety</th>\n",
       "      <th>winery</th>\n",
       "    </tr>\n",
       "  </thead>\n",
       "  <tbody>\n",
       "    <tr>\n",
       "      <th>0</th>\n",
       "      <td>0</td>\n",
       "      <td>US</td>\n",
       "      <td>This tremendous 100% varietal wine hails from ...</td>\n",
       "      <td>Martha's Vineyard</td>\n",
       "      <td>96</td>\n",
       "      <td>235.0</td>\n",
       "      <td>California</td>\n",
       "      <td>Napa Valley</td>\n",
       "      <td>Napa</td>\n",
       "      <td>Cabernet Sauvignon</td>\n",
       "      <td>Heitz</td>\n",
       "    </tr>\n",
       "    <tr>\n",
       "      <th>1</th>\n",
       "      <td>1</td>\n",
       "      <td>Spain</td>\n",
       "      <td>Ripe aromas of fig, blackberry and cassis are ...</td>\n",
       "      <td>Carodorum Selección Especial Reserva</td>\n",
       "      <td>96</td>\n",
       "      <td>110.0</td>\n",
       "      <td>Northern Spain</td>\n",
       "      <td>Toro</td>\n",
       "      <td>NaN</td>\n",
       "      <td>Tinta de Toro</td>\n",
       "      <td>Bodega Carmen Rodríguez</td>\n",
       "    </tr>\n",
       "    <tr>\n",
       "      <th>2</th>\n",
       "      <td>2</td>\n",
       "      <td>US</td>\n",
       "      <td>Mac Watson honors the memory of a wine once ma...</td>\n",
       "      <td>Special Selected Late Harvest</td>\n",
       "      <td>96</td>\n",
       "      <td>90.0</td>\n",
       "      <td>California</td>\n",
       "      <td>Knights Valley</td>\n",
       "      <td>Sonoma</td>\n",
       "      <td>Sauvignon Blanc</td>\n",
       "      <td>Macauley</td>\n",
       "    </tr>\n",
       "    <tr>\n",
       "      <th>3</th>\n",
       "      <td>3</td>\n",
       "      <td>US</td>\n",
       "      <td>This spent 20 months in 30% new French oak, an...</td>\n",
       "      <td>Reserve</td>\n",
       "      <td>96</td>\n",
       "      <td>65.0</td>\n",
       "      <td>Oregon</td>\n",
       "      <td>Willamette Valley</td>\n",
       "      <td>Willamette Valley</td>\n",
       "      <td>Pinot Noir</td>\n",
       "      <td>Ponzi</td>\n",
       "    </tr>\n",
       "    <tr>\n",
       "      <th>4</th>\n",
       "      <td>4</td>\n",
       "      <td>France</td>\n",
       "      <td>This is the top wine from La Bégude, named aft...</td>\n",
       "      <td>La Brûlade</td>\n",
       "      <td>95</td>\n",
       "      <td>66.0</td>\n",
       "      <td>Provence</td>\n",
       "      <td>Bandol</td>\n",
       "      <td>NaN</td>\n",
       "      <td>Provence red blend</td>\n",
       "      <td>Domaine de la Bégude</td>\n",
       "    </tr>\n",
       "  </tbody>\n",
       "</table>\n",
       "</div>"
      ],
      "text/plain": [
       "   Unnamed: 0 country                                        description  \\\n",
       "0           0      US  This tremendous 100% varietal wine hails from ...   \n",
       "1           1   Spain  Ripe aromas of fig, blackberry and cassis are ...   \n",
       "2           2      US  Mac Watson honors the memory of a wine once ma...   \n",
       "3           3      US  This spent 20 months in 30% new French oak, an...   \n",
       "4           4  France  This is the top wine from La Bégude, named aft...   \n",
       "\n",
       "                            designation  points  price        province  \\\n",
       "0                     Martha's Vineyard      96  235.0      California   \n",
       "1  Carodorum Selección Especial Reserva      96  110.0  Northern Spain   \n",
       "2         Special Selected Late Harvest      96   90.0      California   \n",
       "3                               Reserve      96   65.0          Oregon   \n",
       "4                            La Brûlade      95   66.0        Provence   \n",
       "\n",
       "            region_1           region_2             variety  \\\n",
       "0        Napa Valley               Napa  Cabernet Sauvignon   \n",
       "1               Toro                NaN       Tinta de Toro   \n",
       "2     Knights Valley             Sonoma     Sauvignon Blanc   \n",
       "3  Willamette Valley  Willamette Valley          Pinot Noir   \n",
       "4             Bandol                NaN  Provence red blend   \n",
       "\n",
       "                    winery  \n",
       "0                    Heitz  \n",
       "1  Bodega Carmen Rodríguez  \n",
       "2                 Macauley  \n",
       "3                    Ponzi  \n",
       "4     Domaine de la Bégude  "
      ]
     },
     "execution_count": 40,
     "metadata": {},
     "output_type": "execute_result"
    }
   ],
   "source": [
    "df.head()"
   ]
  },
  {
   "cell_type": "code",
   "execution_count": 41,
   "id": "1542a07f",
   "metadata": {},
   "outputs": [
    {
     "data": {
      "text/plain": [
       "Unnamed: 0       int64\n",
       "country         object\n",
       "description     object\n",
       "designation     object\n",
       "points           int64\n",
       "price          float64\n",
       "province        object\n",
       "region_1        object\n",
       "region_2        object\n",
       "variety         object\n",
       "winery          object\n",
       "dtype: object"
      ]
     },
     "execution_count": 41,
     "metadata": {},
     "output_type": "execute_result"
    }
   ],
   "source": [
    "df.dtypes"
   ]
  },
  {
   "cell_type": "code",
   "execution_count": 42,
   "id": "38b2080c",
   "metadata": {},
   "outputs": [
    {
     "data": {
      "text/plain": [
       "winery\n",
       "'37 Cellars          88.000000\n",
       "1+1=3                83.800000\n",
       "10 Knots             84.375000\n",
       "1000 Stories         90.000000\n",
       "1040FU               82.000000\n",
       "                       ...    \n",
       "Ñandú                83.333333\n",
       "Único Luis Miguel    85.000000\n",
       "àMaurice             91.477273\n",
       "áster                87.000000\n",
       "Štoka                89.000000\n",
       "Name: points, Length: 14810, dtype: float64"
      ]
     },
     "execution_count": 42,
     "metadata": {},
     "output_type": "execute_result"
    }
   ],
   "source": [
    "# basic queries using text\n",
    "\n",
    "# for each winery in df,\n",
    "# calculate the mean points\n",
    "\n",
    "df.groupby('winery')['points'].mean()"
   ]
  },
  {
   "cell_type": "code",
   "execution_count": 44,
   "id": "b2a1717e",
   "metadata": {},
   "outputs": [
    {
     "data": {
      "text/plain": [
       "winery\n",
       "Sloan                           100.000000\n",
       "Mascarello Giuseppe e Figlio     99.000000\n",
       "Domaine des Lambrays             98.000000\n",
       "Château Climens                  97.111111\n",
       "Gandona                          97.000000\n",
       "Cardinale                        97.000000\n",
       "Ovid                             97.000000\n",
       "Au Sommet                        97.000000\n",
       "Château d'Yquem                  96.875000\n",
       "Harlan Estate                    96.625000\n",
       "Name: points, dtype: float64"
      ]
     },
     "execution_count": 44,
     "metadata": {},
     "output_type": "execute_result"
    }
   ],
   "source": [
    "df.groupby('winery')['points'].mean().sort_values(ascending=False).head(10)"
   ]
  },
  {
   "cell_type": "code",
   "execution_count": 45,
   "id": "d70f504f",
   "metadata": {},
   "outputs": [
    {
     "data": {
      "text/plain": [
       "country\n",
       "England     92.888889\n",
       "Austria     89.276742\n",
       "France      88.925870\n",
       "Germany     88.626427\n",
       "Italy       88.413664\n",
       "Canada      88.239796\n",
       "Slovenia    88.234043\n",
       "Morocco     88.166667\n",
       "Turkey      88.096154\n",
       "Portugal    88.057685\n",
       "Name: points, dtype: float64"
      ]
     },
     "execution_count": 45,
     "metadata": {},
     "output_type": "execute_result"
    }
   ],
   "source": [
    "df.groupby('country')['points'].mean().sort_values(ascending=False).head(10)"
   ]
  },
  {
   "cell_type": "code",
   "execution_count": 46,
   "id": "3dca95ce",
   "metadata": {},
   "outputs": [
    {
     "data": {
      "text/html": [
       "<div>\n",
       "<style scoped>\n",
       "    .dataframe tbody tr th:only-of-type {\n",
       "        vertical-align: middle;\n",
       "    }\n",
       "\n",
       "    .dataframe tbody tr th {\n",
       "        vertical-align: top;\n",
       "    }\n",
       "\n",
       "    .dataframe thead th {\n",
       "        text-align: right;\n",
       "    }\n",
       "</style>\n",
       "<table border=\"1\" class=\"dataframe\">\n",
       "  <thead>\n",
       "    <tr style=\"text-align: right;\">\n",
       "      <th></th>\n",
       "      <th>Unnamed: 0</th>\n",
       "      <th>country</th>\n",
       "      <th>description</th>\n",
       "      <th>designation</th>\n",
       "      <th>points</th>\n",
       "      <th>price</th>\n",
       "      <th>province</th>\n",
       "      <th>region_1</th>\n",
       "      <th>region_2</th>\n",
       "      <th>variety</th>\n",
       "      <th>winery</th>\n",
       "    </tr>\n",
       "  </thead>\n",
       "  <tbody>\n",
       "    <tr>\n",
       "      <th>0</th>\n",
       "      <td>0</td>\n",
       "      <td>US</td>\n",
       "      <td>This tremendous 100% varietal wine hails from ...</td>\n",
       "      <td>Martha's Vineyard</td>\n",
       "      <td>96</td>\n",
       "      <td>235.0</td>\n",
       "      <td>California</td>\n",
       "      <td>Napa Valley</td>\n",
       "      <td>Napa</td>\n",
       "      <td>Cabernet Sauvignon</td>\n",
       "      <td>Heitz</td>\n",
       "    </tr>\n",
       "    <tr>\n",
       "      <th>1</th>\n",
       "      <td>1</td>\n",
       "      <td>Spain</td>\n",
       "      <td>Ripe aromas of fig, blackberry and cassis are ...</td>\n",
       "      <td>Carodorum Selección Especial Reserva</td>\n",
       "      <td>96</td>\n",
       "      <td>110.0</td>\n",
       "      <td>Northern Spain</td>\n",
       "      <td>Toro</td>\n",
       "      <td>NaN</td>\n",
       "      <td>Tinta de Toro</td>\n",
       "      <td>Bodega Carmen Rodríguez</td>\n",
       "    </tr>\n",
       "    <tr>\n",
       "      <th>2</th>\n",
       "      <td>2</td>\n",
       "      <td>US</td>\n",
       "      <td>Mac Watson honors the memory of a wine once ma...</td>\n",
       "      <td>Special Selected Late Harvest</td>\n",
       "      <td>96</td>\n",
       "      <td>90.0</td>\n",
       "      <td>California</td>\n",
       "      <td>Knights Valley</td>\n",
       "      <td>Sonoma</td>\n",
       "      <td>Sauvignon Blanc</td>\n",
       "      <td>Macauley</td>\n",
       "    </tr>\n",
       "    <tr>\n",
       "      <th>3</th>\n",
       "      <td>3</td>\n",
       "      <td>US</td>\n",
       "      <td>This spent 20 months in 30% new French oak, an...</td>\n",
       "      <td>Reserve</td>\n",
       "      <td>96</td>\n",
       "      <td>65.0</td>\n",
       "      <td>Oregon</td>\n",
       "      <td>Willamette Valley</td>\n",
       "      <td>Willamette Valley</td>\n",
       "      <td>Pinot Noir</td>\n",
       "      <td>Ponzi</td>\n",
       "    </tr>\n",
       "    <tr>\n",
       "      <th>4</th>\n",
       "      <td>4</td>\n",
       "      <td>France</td>\n",
       "      <td>This is the top wine from La Bégude, named aft...</td>\n",
       "      <td>La Brûlade</td>\n",
       "      <td>95</td>\n",
       "      <td>66.0</td>\n",
       "      <td>Provence</td>\n",
       "      <td>Bandol</td>\n",
       "      <td>NaN</td>\n",
       "      <td>Provence red blend</td>\n",
       "      <td>Domaine de la Bégude</td>\n",
       "    </tr>\n",
       "  </tbody>\n",
       "</table>\n",
       "</div>"
      ],
      "text/plain": [
       "   Unnamed: 0 country                                        description  \\\n",
       "0           0      US  This tremendous 100% varietal wine hails from ...   \n",
       "1           1   Spain  Ripe aromas of fig, blackberry and cassis are ...   \n",
       "2           2      US  Mac Watson honors the memory of a wine once ma...   \n",
       "3           3      US  This spent 20 months in 30% new French oak, an...   \n",
       "4           4  France  This is the top wine from La Bégude, named aft...   \n",
       "\n",
       "                            designation  points  price        province  \\\n",
       "0                     Martha's Vineyard      96  235.0      California   \n",
       "1  Carodorum Selección Especial Reserva      96  110.0  Northern Spain   \n",
       "2         Special Selected Late Harvest      96   90.0      California   \n",
       "3                               Reserve      96   65.0          Oregon   \n",
       "4                            La Brûlade      95   66.0        Provence   \n",
       "\n",
       "            region_1           region_2             variety  \\\n",
       "0        Napa Valley               Napa  Cabernet Sauvignon   \n",
       "1               Toro                NaN       Tinta de Toro   \n",
       "2     Knights Valley             Sonoma     Sauvignon Blanc   \n",
       "3  Willamette Valley  Willamette Valley          Pinot Noir   \n",
       "4             Bandol                NaN  Provence red blend   \n",
       "\n",
       "                    winery  \n",
       "0                    Heitz  \n",
       "1  Bodega Carmen Rodríguez  \n",
       "2                 Macauley  \n",
       "3                    Ponzi  \n",
       "4     Domaine de la Bégude  "
      ]
     },
     "execution_count": 46,
     "metadata": {},
     "output_type": "execute_result"
    }
   ],
   "source": [
    "# what if I want to find out something about the text itself?\n",
    "df.head()"
   ]
  },
  {
   "cell_type": "code",
   "execution_count": 47,
   "id": "7c2ad9a7",
   "metadata": {},
   "outputs": [
    {
     "data": {
      "text/plain": [
       "0          True\n",
       "1          True\n",
       "2         False\n",
       "3          True\n",
       "4         False\n",
       "          ...  \n",
       "150925    False\n",
       "150926    False\n",
       "150927    False\n",
       "150928     True\n",
       "150929    False\n",
       "Name: description, Length: 150930, dtype: bool"
      ]
     },
     "execution_count": 47,
     "metadata": {},
     "output_type": "execute_result"
    }
   ],
   "source": [
    "# how many of the descriptions mention the word \"fruit\"?\n",
    "\n",
    "df['description'].str.contains('fruit')   # think of \"str.contains\" as similar to \"in\""
   ]
  },
  {
   "cell_type": "code",
   "execution_count": 49,
   "id": "cbd1a875",
   "metadata": {},
   "outputs": [
    {
     "data": {
      "text/html": [
       "<div>\n",
       "<style scoped>\n",
       "    .dataframe tbody tr th:only-of-type {\n",
       "        vertical-align: middle;\n",
       "    }\n",
       "\n",
       "    .dataframe tbody tr th {\n",
       "        vertical-align: top;\n",
       "    }\n",
       "\n",
       "    .dataframe thead th {\n",
       "        text-align: right;\n",
       "    }\n",
       "</style>\n",
       "<table border=\"1\" class=\"dataframe\">\n",
       "  <thead>\n",
       "    <tr style=\"text-align: right;\">\n",
       "      <th></th>\n",
       "      <th>Unnamed: 0</th>\n",
       "      <th>country</th>\n",
       "      <th>description</th>\n",
       "      <th>designation</th>\n",
       "      <th>points</th>\n",
       "      <th>price</th>\n",
       "      <th>province</th>\n",
       "      <th>region_1</th>\n",
       "      <th>region_2</th>\n",
       "      <th>variety</th>\n",
       "      <th>winery</th>\n",
       "    </tr>\n",
       "  </thead>\n",
       "  <tbody>\n",
       "    <tr>\n",
       "      <th>52</th>\n",
       "      <td>52</td>\n",
       "      <td>France</td>\n",
       "      <td>This ripe, full-bodied wine has ripe green fru...</td>\n",
       "      <td>Les 7 Hommes</td>\n",
       "      <td>90</td>\n",
       "      <td>42.0</td>\n",
       "      <td>Loire Valley</td>\n",
       "      <td>Sancerre</td>\n",
       "      <td>NaN</td>\n",
       "      <td>Sauvignon Blanc</td>\n",
       "      <td>Cherrier Frères</td>\n",
       "    </tr>\n",
       "    <tr>\n",
       "      <th>57</th>\n",
       "      <td>57</td>\n",
       "      <td>US</td>\n",
       "      <td>While exuberantly fruity, almost tropical on t...</td>\n",
       "      <td>Reserve</td>\n",
       "      <td>90</td>\n",
       "      <td>25.0</td>\n",
       "      <td>New York</td>\n",
       "      <td>Finger Lakes</td>\n",
       "      <td>Finger Lakes</td>\n",
       "      <td>Riesling</td>\n",
       "      <td>Dr. Konstantin Frank</td>\n",
       "    </tr>\n",
       "    <tr>\n",
       "      <th>73</th>\n",
       "      <td>73</td>\n",
       "      <td>US</td>\n",
       "      <td>Massively fruity, this is an apple/pear bonanz...</td>\n",
       "      <td>NaN</td>\n",
       "      <td>91</td>\n",
       "      <td>19.0</td>\n",
       "      <td>Oregon</td>\n",
       "      <td>Willamette Valley</td>\n",
       "      <td>Willamette Valley</td>\n",
       "      <td>Pinot Gris</td>\n",
       "      <td>Trinity Vineyards</td>\n",
       "    </tr>\n",
       "    <tr>\n",
       "      <th>86</th>\n",
       "      <td>86</td>\n",
       "      <td>France</td>\n",
       "      <td>This delicious, refreshing wine is textured, t...</td>\n",
       "      <td>Montmains Premier Cru</td>\n",
       "      <td>91</td>\n",
       "      <td>45.0</td>\n",
       "      <td>Burgundy</td>\n",
       "      <td>Chablis</td>\n",
       "      <td>NaN</td>\n",
       "      <td>Chardonnay</td>\n",
       "      <td>Domaine Gérard Duplessis</td>\n",
       "    </tr>\n",
       "    <tr>\n",
       "      <th>90</th>\n",
       "      <td>90</td>\n",
       "      <td>US</td>\n",
       "      <td>Bright, light oak shadings dress up this mediu...</td>\n",
       "      <td>NaN</td>\n",
       "      <td>86</td>\n",
       "      <td>10.0</td>\n",
       "      <td>California</td>\n",
       "      <td>California</td>\n",
       "      <td>California Other</td>\n",
       "      <td>Cabernet Sauvignon</td>\n",
       "      <td>Belle Ambiance</td>\n",
       "    </tr>\n",
       "    <tr>\n",
       "      <th>...</th>\n",
       "      <td>...</td>\n",
       "      <td>...</td>\n",
       "      <td>...</td>\n",
       "      <td>...</td>\n",
       "      <td>...</td>\n",
       "      <td>...</td>\n",
       "      <td>...</td>\n",
       "      <td>...</td>\n",
       "      <td>...</td>\n",
       "      <td>...</td>\n",
       "      <td>...</td>\n",
       "    </tr>\n",
       "    <tr>\n",
       "      <th>150873</th>\n",
       "      <td>150873</td>\n",
       "      <td>US</td>\n",
       "      <td>With a color akin to the soft pink of ripe pea...</td>\n",
       "      <td>White</td>\n",
       "      <td>83</td>\n",
       "      <td>7.0</td>\n",
       "      <td>California</td>\n",
       "      <td>Amador County</td>\n",
       "      <td>Sierra Foothills</td>\n",
       "      <td>Zinfandel</td>\n",
       "      <td>Montevina</td>\n",
       "    </tr>\n",
       "    <tr>\n",
       "      <th>150875</th>\n",
       "      <td>150875</td>\n",
       "      <td>US</td>\n",
       "      <td>From the folks who invented white Zinfandel, a...</td>\n",
       "      <td>NaN</td>\n",
       "      <td>83</td>\n",
       "      <td>6.0</td>\n",
       "      <td>California</td>\n",
       "      <td>California</td>\n",
       "      <td>California Other</td>\n",
       "      <td>Zinfandel</td>\n",
       "      <td>Sutter Home</td>\n",
       "    </tr>\n",
       "    <tr>\n",
       "      <th>150879</th>\n",
       "      <td>150879</td>\n",
       "      <td>US</td>\n",
       "      <td>A heavy wine, atypical of the appellation, whi...</td>\n",
       "      <td>NaN</td>\n",
       "      <td>83</td>\n",
       "      <td>16.0</td>\n",
       "      <td>California</td>\n",
       "      <td>Anderson Valley</td>\n",
       "      <td>Mendocino/Lake Counties</td>\n",
       "      <td>Pinot Noir</td>\n",
       "      <td>Edmeades</td>\n",
       "    </tr>\n",
       "    <tr>\n",
       "      <th>150883</th>\n",
       "      <td>150883</td>\n",
       "      <td>US</td>\n",
       "      <td>A coppery colored, off-dry-to-frankly-sweet wi...</td>\n",
       "      <td>Reserve White</td>\n",
       "      <td>83</td>\n",
       "      <td>7.0</td>\n",
       "      <td>California</td>\n",
       "      <td>California</td>\n",
       "      <td>California Other</td>\n",
       "      <td>Zinfandel</td>\n",
       "      <td>Glen Ellen</td>\n",
       "    </tr>\n",
       "    <tr>\n",
       "      <th>150908</th>\n",
       "      <td>150908</td>\n",
       "      <td>France</td>\n",
       "      <td>Another premier cru from Michel Gros, this one...</td>\n",
       "      <td>Aux Brulees</td>\n",
       "      <td>90</td>\n",
       "      <td>65.0</td>\n",
       "      <td>Burgundy</td>\n",
       "      <td>Vosne-Romanée</td>\n",
       "      <td>NaN</td>\n",
       "      <td>Pinot Noir</td>\n",
       "      <td>Michel Gros</td>\n",
       "    </tr>\n",
       "  </tbody>\n",
       "</table>\n",
       "<p>8669 rows × 11 columns</p>\n",
       "</div>"
      ],
      "text/plain": [
       "        Unnamed: 0 country                                        description  \\\n",
       "52              52  France  This ripe, full-bodied wine has ripe green fru...   \n",
       "57              57      US  While exuberantly fruity, almost tropical on t...   \n",
       "73              73      US  Massively fruity, this is an apple/pear bonanz...   \n",
       "86              86  France  This delicious, refreshing wine is textured, t...   \n",
       "90              90      US  Bright, light oak shadings dress up this mediu...   \n",
       "...            ...     ...                                                ...   \n",
       "150873      150873      US  With a color akin to the soft pink of ripe pea...   \n",
       "150875      150875      US  From the folks who invented white Zinfandel, a...   \n",
       "150879      150879      US  A heavy wine, atypical of the appellation, whi...   \n",
       "150883      150883      US  A coppery colored, off-dry-to-frankly-sweet wi...   \n",
       "150908      150908  France  Another premier cru from Michel Gros, this one...   \n",
       "\n",
       "                  designation  points  price      province           region_1  \\\n",
       "52               Les 7 Hommes      90   42.0  Loire Valley           Sancerre   \n",
       "57                    Reserve      90   25.0      New York       Finger Lakes   \n",
       "73                        NaN      91   19.0        Oregon  Willamette Valley   \n",
       "86      Montmains Premier Cru      91   45.0      Burgundy            Chablis   \n",
       "90                        NaN      86   10.0    California         California   \n",
       "...                       ...     ...    ...           ...                ...   \n",
       "150873                  White      83    7.0    California      Amador County   \n",
       "150875                    NaN      83    6.0    California         California   \n",
       "150879                    NaN      83   16.0    California    Anderson Valley   \n",
       "150883          Reserve White      83    7.0    California         California   \n",
       "150908            Aux Brulees      90   65.0      Burgundy      Vosne-Romanée   \n",
       "\n",
       "                       region_2             variety                    winery  \n",
       "52                          NaN     Sauvignon Blanc           Cherrier Frères  \n",
       "57                 Finger Lakes            Riesling      Dr. Konstantin Frank  \n",
       "73            Willamette Valley          Pinot Gris         Trinity Vineyards  \n",
       "86                          NaN          Chardonnay  Domaine Gérard Duplessis  \n",
       "90             California Other  Cabernet Sauvignon            Belle Ambiance  \n",
       "...                         ...                 ...                       ...  \n",
       "150873         Sierra Foothills           Zinfandel                 Montevina  \n",
       "150875         California Other           Zinfandel               Sutter Home  \n",
       "150879  Mendocino/Lake Counties          Pinot Noir                  Edmeades  \n",
       "150883         California Other           Zinfandel                Glen Ellen  \n",
       "150908                      NaN          Pinot Noir               Michel Gros  \n",
       "\n",
       "[8669 rows x 11 columns]"
      ]
     },
     "execution_count": 49,
     "metadata": {},
     "output_type": "execute_result"
    }
   ],
   "source": [
    "df.loc[df['description'].str.contains('fruity')]"
   ]
  },
  {
   "cell_type": "code",
   "execution_count": 51,
   "id": "09f87cb2",
   "metadata": {},
   "outputs": [
    {
     "data": {
      "text/html": [
       "<div>\n",
       "<style scoped>\n",
       "    .dataframe tbody tr th:only-of-type {\n",
       "        vertical-align: middle;\n",
       "    }\n",
       "\n",
       "    .dataframe tbody tr th {\n",
       "        vertical-align: top;\n",
       "    }\n",
       "\n",
       "    .dataframe thead th {\n",
       "        text-align: right;\n",
       "    }\n",
       "</style>\n",
       "<table border=\"1\" class=\"dataframe\">\n",
       "  <thead>\n",
       "    <tr style=\"text-align: right;\">\n",
       "      <th></th>\n",
       "      <th>Unnamed: 0</th>\n",
       "      <th>country</th>\n",
       "      <th>description</th>\n",
       "      <th>designation</th>\n",
       "      <th>points</th>\n",
       "      <th>price</th>\n",
       "      <th>province</th>\n",
       "      <th>region_1</th>\n",
       "      <th>region_2</th>\n",
       "      <th>variety</th>\n",
       "      <th>winery</th>\n",
       "    </tr>\n",
       "  </thead>\n",
       "  <tbody>\n",
       "    <tr>\n",
       "      <th>8</th>\n",
       "      <td>8</td>\n",
       "      <td>US</td>\n",
       "      <td>This re-named vineyard was formerly bottled as...</td>\n",
       "      <td>Silice</td>\n",
       "      <td>95</td>\n",
       "      <td>65.0</td>\n",
       "      <td>Oregon</td>\n",
       "      <td>Chehalem Mountains</td>\n",
       "      <td>Willamette Valley</td>\n",
       "      <td>Pinot Noir</td>\n",
       "      <td>Bergström</td>\n",
       "    </tr>\n",
       "    <tr>\n",
       "      <th>10</th>\n",
       "      <td>10</td>\n",
       "      <td>Italy</td>\n",
       "      <td>Elegance, complexity and structure come togeth...</td>\n",
       "      <td>Ronco della Chiesa</td>\n",
       "      <td>95</td>\n",
       "      <td>80.0</td>\n",
       "      <td>Northeastern Italy</td>\n",
       "      <td>Collio</td>\n",
       "      <td>NaN</td>\n",
       "      <td>Friulano</td>\n",
       "      <td>Borgo del Tiglio</td>\n",
       "    </tr>\n",
       "    <tr>\n",
       "      <th>13</th>\n",
       "      <td>13</td>\n",
       "      <td>France</td>\n",
       "      <td>This wine is in peak condition. The tannins an...</td>\n",
       "      <td>Château Montus Prestige</td>\n",
       "      <td>95</td>\n",
       "      <td>90.0</td>\n",
       "      <td>Southwest France</td>\n",
       "      <td>Madiran</td>\n",
       "      <td>NaN</td>\n",
       "      <td>Tannat</td>\n",
       "      <td>Vignobles Brumont</td>\n",
       "    </tr>\n",
       "    <tr>\n",
       "      <th>14</th>\n",
       "      <td>14</td>\n",
       "      <td>US</td>\n",
       "      <td>With its sophisticated mix of mineral, acid an...</td>\n",
       "      <td>Grace Vineyard</td>\n",
       "      <td>95</td>\n",
       "      <td>185.0</td>\n",
       "      <td>Oregon</td>\n",
       "      <td>Dundee Hills</td>\n",
       "      <td>Willamette Valley</td>\n",
       "      <td>Pinot Noir</td>\n",
       "      <td>Domaine Serene</td>\n",
       "    </tr>\n",
       "    <tr>\n",
       "      <th>17</th>\n",
       "      <td>17</td>\n",
       "      <td>Spain</td>\n",
       "      <td>Nicely oaked blackberry, licorice, vanilla and...</td>\n",
       "      <td>6 Años Reserva Premium</td>\n",
       "      <td>95</td>\n",
       "      <td>80.0</td>\n",
       "      <td>Northern Spain</td>\n",
       "      <td>Ribera del Duero</td>\n",
       "      <td>NaN</td>\n",
       "      <td>Tempranillo</td>\n",
       "      <td>Valduero</td>\n",
       "    </tr>\n",
       "    <tr>\n",
       "      <th>...</th>\n",
       "      <td>...</td>\n",
       "      <td>...</td>\n",
       "      <td>...</td>\n",
       "      <td>...</td>\n",
       "      <td>...</td>\n",
       "      <td>...</td>\n",
       "      <td>...</td>\n",
       "      <td>...</td>\n",
       "      <td>...</td>\n",
       "      <td>...</td>\n",
       "      <td>...</td>\n",
       "    </tr>\n",
       "    <tr>\n",
       "      <th>150887</th>\n",
       "      <td>150887</td>\n",
       "      <td>Chile</td>\n",
       "      <td>The pineapple and lemon aromas and flavors in ...</td>\n",
       "      <td>Prima Reserva</td>\n",
       "      <td>82</td>\n",
       "      <td>13.0</td>\n",
       "      <td>Maipo Valley</td>\n",
       "      <td>NaN</td>\n",
       "      <td>NaN</td>\n",
       "      <td>Chardonnay</td>\n",
       "      <td>De Martino</td>\n",
       "    </tr>\n",
       "    <tr>\n",
       "      <th>150905</th>\n",
       "      <td>150905</td>\n",
       "      <td>Chile</td>\n",
       "      <td>There's not much point in making a reserve-sty...</td>\n",
       "      <td>Prima Reserva</td>\n",
       "      <td>80</td>\n",
       "      <td>13.0</td>\n",
       "      <td>Maipo Valley</td>\n",
       "      <td>NaN</td>\n",
       "      <td>NaN</td>\n",
       "      <td>Merlot</td>\n",
       "      <td>De Martino</td>\n",
       "    </tr>\n",
       "    <tr>\n",
       "      <th>150912</th>\n",
       "      <td>150912</td>\n",
       "      <td>France</td>\n",
       "      <td>The nose is dominated by the attractive scents...</td>\n",
       "      <td>Les Charmes</td>\n",
       "      <td>87</td>\n",
       "      <td>65.0</td>\n",
       "      <td>Burgundy</td>\n",
       "      <td>Chambolle-Musigny</td>\n",
       "      <td>NaN</td>\n",
       "      <td>Pinot Noir</td>\n",
       "      <td>Daniel Rion</td>\n",
       "    </tr>\n",
       "    <tr>\n",
       "      <th>150921</th>\n",
       "      <td>150921</td>\n",
       "      <td>France</td>\n",
       "      <td>Shows some older notes: a bouquet of toasted w...</td>\n",
       "      <td>Blanc de Blancs Brut Mosaïque</td>\n",
       "      <td>91</td>\n",
       "      <td>38.0</td>\n",
       "      <td>Champagne</td>\n",
       "      <td>Champagne</td>\n",
       "      <td>NaN</td>\n",
       "      <td>Champagne Blend</td>\n",
       "      <td>Jacquart</td>\n",
       "    </tr>\n",
       "    <tr>\n",
       "      <th>150924</th>\n",
       "      <td>150924</td>\n",
       "      <td>France</td>\n",
       "      <td>Really fine for a low-acid vintage, there's an...</td>\n",
       "      <td>Diamant Bleu</td>\n",
       "      <td>91</td>\n",
       "      <td>70.0</td>\n",
       "      <td>Champagne</td>\n",
       "      <td>Champagne</td>\n",
       "      <td>NaN</td>\n",
       "      <td>Champagne Blend</td>\n",
       "      <td>Heidsieck &amp; Co Monopole</td>\n",
       "    </tr>\n",
       "  </tbody>\n",
       "</table>\n",
       "<p>10426 rows × 11 columns</p>\n",
       "</div>"
      ],
      "text/plain": [
       "        Unnamed: 0 country                                        description  \\\n",
       "8                8      US  This re-named vineyard was formerly bottled as...   \n",
       "10              10   Italy  Elegance, complexity and structure come togeth...   \n",
       "13              13  France  This wine is in peak condition. The tannins an...   \n",
       "14              14      US  With its sophisticated mix of mineral, acid an...   \n",
       "17              17   Spain  Nicely oaked blackberry, licorice, vanilla and...   \n",
       "...            ...     ...                                                ...   \n",
       "150887      150887   Chile  The pineapple and lemon aromas and flavors in ...   \n",
       "150905      150905   Chile  There's not much point in making a reserve-sty...   \n",
       "150912      150912  France  The nose is dominated by the attractive scents...   \n",
       "150921      150921  France  Shows some older notes: a bouquet of toasted w...   \n",
       "150924      150924  France  Really fine for a low-acid vintage, there's an...   \n",
       "\n",
       "                          designation  points  price            province  \\\n",
       "8                              Silice      95   65.0              Oregon   \n",
       "10                 Ronco della Chiesa      95   80.0  Northeastern Italy   \n",
       "13            Château Montus Prestige      95   90.0    Southwest France   \n",
       "14                     Grace Vineyard      95  185.0              Oregon   \n",
       "17             6 Años Reserva Premium      95   80.0      Northern Spain   \n",
       "...                               ...     ...    ...                 ...   \n",
       "150887                  Prima Reserva      82   13.0        Maipo Valley   \n",
       "150905                  Prima Reserva      80   13.0        Maipo Valley   \n",
       "150912                    Les Charmes      87   65.0            Burgundy   \n",
       "150921  Blanc de Blancs Brut Mosaïque      91   38.0           Champagne   \n",
       "150924                   Diamant Bleu      91   70.0           Champagne   \n",
       "\n",
       "                  region_1           region_2          variety  \\\n",
       "8       Chehalem Mountains  Willamette Valley       Pinot Noir   \n",
       "10                  Collio                NaN         Friulano   \n",
       "13                 Madiran                NaN           Tannat   \n",
       "14            Dundee Hills  Willamette Valley       Pinot Noir   \n",
       "17        Ribera del Duero                NaN      Tempranillo   \n",
       "...                    ...                ...              ...   \n",
       "150887                 NaN                NaN       Chardonnay   \n",
       "150905                 NaN                NaN           Merlot   \n",
       "150912   Chambolle-Musigny                NaN       Pinot Noir   \n",
       "150921           Champagne                NaN  Champagne Blend   \n",
       "150924           Champagne                NaN  Champagne Blend   \n",
       "\n",
       "                         winery  \n",
       "8                     Bergström  \n",
       "10             Borgo del Tiglio  \n",
       "13            Vignobles Brumont  \n",
       "14               Domaine Serene  \n",
       "17                     Valduero  \n",
       "...                         ...  \n",
       "150887               De Martino  \n",
       "150905               De Martino  \n",
       "150912              Daniel Rion  \n",
       "150921                 Jacquart  \n",
       "150924  Heidsieck & Co Monopole  \n",
       "\n",
       "[10426 rows x 11 columns]"
      ]
     },
     "execution_count": 51,
     "metadata": {},
     "output_type": "execute_result"
    }
   ],
   "source": [
    "df.loc[df['description'].str.contains('x') & \n",
    "       df['description'].str.contains('j')]"
   ]
  },
  {
   "cell_type": "code",
   "execution_count": 53,
   "id": "6e3a6c9b",
   "metadata": {},
   "outputs": [
    {
     "data": {
      "text/plain": [
       "0         60\n",
       "1         51\n",
       "2         47\n",
       "3         62\n",
       "4         66\n",
       "          ..\n",
       "150925    45\n",
       "150926    44\n",
       "150927    65\n",
       "150928    41\n",
       "150929    37\n",
       "Name: description, Length: 150930, dtype: int64"
      ]
     },
     "execution_count": 53,
     "metadata": {},
     "output_type": "execute_result"
    }
   ],
   "source": [
    "# what if we only want 'fruit' and not 'fruity'?\n",
    "# one way to work things is to break up the description into a list\n",
    "\n",
    "# it turns out that the .str accessor works on any Python object!\n",
    "# if the dtype is object, then we're fine.\n",
    "\n",
    "# we can also use many methods via the .str accessor that will\n",
    "# work on non-string objects.\n",
    "\n",
    "df['description'].str.split().str.len()  # get the number of words in the description"
   ]
  },
  {
   "cell_type": "code",
   "execution_count": 62,
   "id": "ad662a8b",
   "metadata": {},
   "outputs": [
    {
     "data": {
      "text/plain": [
       "0         [This, tremendous, 100%, varietal, wine, hails...\n",
       "1         [Ripe, aromas, of, fig,, blackberry, and, cass...\n",
       "2         [Mac, Watson, honors, the, memory, of, a, wine...\n",
       "3         [This, spent, 20, months, in, 30%, new, French...\n",
       "4         [This, is, the, top, wine, from, La, Bégude,, ...\n",
       "                                ...                        \n",
       "150925    [Many, people, feel, Fiano, represents, southe...\n",
       "150926    [Offers, an, intriguing, nose, with, ginger,, ...\n",
       "150927    [This, classic, example, comes, from, a, cru, ...\n",
       "150928    [A, perfect, salmon, shade,, with, scents, of,...\n",
       "150929    [More, Pinot, Grigios, should, taste, like, th...\n",
       "Name: description, Length: 150930, dtype: object"
      ]
     },
     "execution_count": 62,
     "metadata": {},
     "output_type": "execute_result"
    }
   ],
   "source": [
    "# does the word 'fruit' (and not fruity!) appear in the description?\n",
    "\n",
    "df['description'].str.split()"
   ]
  },
  {
   "cell_type": "markdown",
   "id": "678961f6",
   "metadata": {},
   "source": [
    "# Exercise: Words with `e` or `i` in them\n",
    "\n",
    "1. Ask the user to enter a sentence. Turn this sentence into a Pandas series.\n",
    "2. Find all of the words in the series that contain either `e` or `i`.\n",
    "\n",
    "Hint: You'll want to use the `.str.contains` method."
   ]
  },
  {
   "cell_type": "code",
   "execution_count": 63,
   "id": "452d895b",
   "metadata": {},
   "outputs": [
    {
     "name": "stdout",
     "output_type": "stream",
     "text": [
      "Enter a string: This is a bunch of words that are here for my Pandas course\n"
     ]
    }
   ],
   "source": [
    "s = Series(input('Enter a string: ').split())"
   ]
  },
  {
   "cell_type": "code",
   "execution_count": 64,
   "id": "3791d86f",
   "metadata": {},
   "outputs": [
    {
     "data": {
      "text/plain": [
       "0       This\n",
       "1         is\n",
       "2          a\n",
       "3      bunch\n",
       "4         of\n",
       "5      words\n",
       "6       that\n",
       "7        are\n",
       "8       here\n",
       "9        for\n",
       "10        my\n",
       "11    Pandas\n",
       "12    course\n",
       "dtype: object"
      ]
     },
     "execution_count": 64,
     "metadata": {},
     "output_type": "execute_result"
    }
   ],
   "source": [
    "s"
   ]
  },
  {
   "cell_type": "code",
   "execution_count": 66,
   "id": "3e4e53d2",
   "metadata": {},
   "outputs": [
    {
     "data": {
      "text/plain": [
       "7        are\n",
       "8       here\n",
       "12    course\n",
       "dtype: object"
      ]
     },
     "execution_count": 66,
     "metadata": {},
     "output_type": "execute_result"
    }
   ],
   "source": [
    "# find all words that contain e\n",
    "\n",
    "s.loc[s.str.contains('e')]"
   ]
  },
  {
   "cell_type": "code",
   "execution_count": 67,
   "id": "c0c487e8",
   "metadata": {},
   "outputs": [
    {
     "data": {
      "text/plain": [
       "0    This\n",
       "1      is\n",
       "dtype: object"
      ]
     },
     "execution_count": 67,
     "metadata": {},
     "output_type": "execute_result"
    }
   ],
   "source": [
    "s.loc[s.str.contains('i')]"
   ]
  },
  {
   "cell_type": "code",
   "execution_count": 68,
   "id": "5b28b0b3",
   "metadata": {},
   "outputs": [
    {
     "data": {
      "text/plain": [
       "0       This\n",
       "1         is\n",
       "7        are\n",
       "8       here\n",
       "12    course\n",
       "dtype: object"
      ]
     },
     "execution_count": 68,
     "metadata": {},
     "output_type": "execute_result"
    }
   ],
   "source": [
    "s.loc[s.str.contains('e') | s.str.contains('i')]"
   ]
  },
  {
   "cell_type": "code",
   "execution_count": 71,
   "id": "0d1d90bb",
   "metadata": {},
   "outputs": [],
   "source": [
    "# descriptive statistics on a regular numeric column give us: mean, std, min, 25%, 50% (median), 75%, max"
   ]
  },
  {
   "cell_type": "code",
   "execution_count": 72,
   "id": "3002c5f5",
   "metadata": {},
   "outputs": [
    {
     "data": {
      "text/plain": [
       "0    10\n",
       "1    20\n",
       "2    30\n",
       "3    40\n",
       "4    50\n",
       "dtype: int64"
      ]
     },
     "execution_count": 72,
     "metadata": {},
     "output_type": "execute_result"
    }
   ],
   "source": [
    "# what if we have a textual column? What does it mean to get descriptive statistics?\n",
    "\n",
    "s"
   ]
  },
  {
   "cell_type": "code",
   "execution_count": 73,
   "id": "a8c7be53",
   "metadata": {},
   "outputs": [
    {
     "name": "stdout",
     "output_type": "stream",
     "text": [
      "Enter a string: This is a bunch of words that are here for my Pandas course\n"
     ]
    }
   ],
   "source": [
    "s = Series(input('Enter a string: ').split())"
   ]
  },
  {
   "cell_type": "code",
   "execution_count": 74,
   "id": "d92ce9d9",
   "metadata": {},
   "outputs": [
    {
     "data": {
      "text/plain": [
       "0       This\n",
       "1         is\n",
       "2          a\n",
       "3      bunch\n",
       "4         of\n",
       "5      words\n",
       "6       that\n",
       "7        are\n",
       "8       here\n",
       "9        for\n",
       "10        my\n",
       "11    Pandas\n",
       "12    course\n",
       "dtype: object"
      ]
     },
     "execution_count": 74,
     "metadata": {},
     "output_type": "execute_result"
    }
   ],
   "source": [
    "s"
   ]
  },
  {
   "cell_type": "code",
   "execution_count": 75,
   "id": "63076cf6",
   "metadata": {},
   "outputs": [
    {
     "data": {
      "text/plain": [
       "count       13\n",
       "unique      13\n",
       "top       This\n",
       "freq         1\n",
       "dtype: object"
      ]
     },
     "execution_count": 75,
     "metadata": {},
     "output_type": "execute_result"
    }
   ],
   "source": [
    "s.describe()"
   ]
  },
  {
   "cell_type": "code",
   "execution_count": 76,
   "id": "234f3e37",
   "metadata": {},
   "outputs": [
    {
     "data": {
      "text/plain": [
       "0       this\n",
       "1         is\n",
       "2          a\n",
       "3      bunch\n",
       "4         of\n",
       "5      words\n",
       "6        and\n",
       "7          a\n",
       "8      bunch\n",
       "9         of\n",
       "10     words\n",
       "11        is\n",
       "12      what\n",
       "13       you\n",
       "14      need\n",
       "15       and\n",
       "16         a\n",
       "17     bunch\n",
       "18        of\n",
       "19     words\n",
       "20        is\n",
       "21    always\n",
       "22      good\n",
       "dtype: object"
      ]
     },
     "execution_count": 76,
     "metadata": {},
     "output_type": "execute_result"
    }
   ],
   "source": [
    "s = Series('this is a bunch of words and a bunch of words is what you need and a bunch of words is always good'.split())\n",
    "\n",
    "s"
   ]
  },
  {
   "cell_type": "code",
   "execution_count": 78,
   "id": "d0501fd9",
   "metadata": {},
   "outputs": [
    {
     "data": {
      "text/plain": [
       "count     23\n",
       "unique    12\n",
       "top       is\n",
       "freq       3\n",
       "dtype: object"
      ]
     },
     "execution_count": 78,
     "metadata": {},
     "output_type": "execute_result"
    }
   ],
   "source": [
    "s.describe()"
   ]
  },
  {
   "cell_type": "code",
   "execution_count": 80,
   "id": "8399aac6",
   "metadata": {},
   "outputs": [
    {
     "name": "stdout",
     "output_type": "stream",
     "text": [
      "../data/alice-in-wonderland.txt  ../data/nyc-temps.txt\r\n",
      "../data/linux-etc-passwd.txt\t ../data/words.txt\r\n"
     ]
    }
   ],
   "source": [
    "!ls ../data/*.txt"
   ]
  },
  {
   "cell_type": "code",
   "execution_count": 82,
   "id": "01466e23",
   "metadata": {},
   "outputs": [],
   "source": [
    "# I'm going to load the contents of Alice in Wonderland into a series\n",
    "# each word will be a separate value\n",
    "\n",
    "s = Series(open('../data/alice-in-wonderland.txt').read().split())"
   ]
  },
  {
   "cell_type": "code",
   "execution_count": 83,
   "id": "e75f7cc2",
   "metadata": {},
   "outputs": [
    {
     "data": {
      "text/plain": [
       "0             ﻿The\n",
       "1          Project\n",
       "2        Gutenberg\n",
       "3            EBook\n",
       "4               of\n",
       "           ...    \n",
       "12758           to\n",
       "12759         hear\n",
       "12760        about\n",
       "12761          new\n",
       "12762      eBooks.\n",
       "Length: 12763, dtype: object"
      ]
     },
     "execution_count": 83,
     "metadata": {},
     "output_type": "execute_result"
    }
   ],
   "source": [
    "s"
   ]
  },
  {
   "cell_type": "code",
   "execution_count": 86,
   "id": "0f9465ce",
   "metadata": {},
   "outputs": [
    {
     "data": {
      "text/plain": [
       "the             732\n",
       "and             362\n",
       "a               321\n",
       "to              311\n",
       "of              300\n",
       "in              211\n",
       "she             197\n",
       "was             160\n",
       "said            129\n",
       "it              122\n",
       "you             122\n",
       "with            111\n",
       "or              103\n",
       "Alice           101\n",
       "her              92\n",
       "that             90\n",
       "as               89\n",
       "I                89\n",
       "at               85\n",
       "Project          78\n",
       "all              68\n",
       "this             65\n",
       "on               65\n",
       "had              64\n",
       "for              61\n",
       "little           56\n",
       "be               54\n",
       "Gutenberg-tm     53\n",
       "The              52\n",
       "is               52\n",
       "dtype: int64"
      ]
     },
     "execution_count": 86,
     "metadata": {},
     "output_type": "execute_result"
    }
   ],
   "source": [
    "# what are the 10 most common words in Alice in Wonderland?\n",
    "# solution: use value_counts\n",
    "\n",
    "s.value_counts().head(30)"
   ]
  },
  {
   "cell_type": "code",
   "execution_count": 87,
   "id": "c33a0656",
   "metadata": {},
   "outputs": [],
   "source": [
    "# I want to take s and turn all of its strings into lowercase words\n",
    "\n",
    "s = s.str.lower() "
   ]
  },
  {
   "cell_type": "code",
   "execution_count": 88,
   "id": "a0f7a7b4",
   "metadata": {},
   "outputs": [
    {
     "data": {
      "text/plain": [
       "the             792\n",
       "and             379\n",
       "a               325\n",
       "to              318\n",
       "of              313\n",
       "she             232\n",
       "in              222\n",
       "was             160\n",
       "you             141\n",
       "it              136\n",
       "said            130\n",
       "with            113\n",
       "or              109\n",
       "alice           103\n",
       "as               95\n",
       "her              94\n",
       "that             93\n",
       "at               93\n",
       "i                89\n",
       "this             82\n",
       "project          82\n",
       "for              70\n",
       "all              70\n",
       "on               67\n",
       "had              64\n",
       "little           57\n",
       "be               55\n",
       "gutenberg-tm     54\n",
       "is               52\n",
       "not              52\n",
       "dtype: int64"
      ]
     },
     "execution_count": 88,
     "metadata": {},
     "output_type": "execute_result"
    }
   ],
   "source": [
    "s.value_counts().head(30)"
   ]
  },
  {
   "cell_type": "code",
   "execution_count": 91,
   "id": "670ad3f7",
   "metadata": {},
   "outputs": [
    {
     "data": {
      "text/plain": [
       "0         ﻿the\n",
       "15         the\n",
       "40         the\n",
       "43         the\n",
       "92         the\n",
       "102        the\n",
       "105        the\n",
       "107       _the\n",
       "137        the\n",
       "152        the\n",
       "167        the\n",
       "185        the\n",
       "210        the\n",
       "219    whether\n",
       "220        the\n",
       "229        the\n",
       "236        the\n",
       "250      there\n",
       "268        the\n",
       "272        the\n",
       "288        the\n",
       "303       then\n",
       "326     either\n",
       "344        the\n",
       "362        the\n",
       "365    another\n",
       "373        the\n",
       "385       then\n",
       "416     either\n",
       "417        the\n",
       "dtype: object"
      ]
     },
     "execution_count": 91,
     "metadata": {},
     "output_type": "execute_result"
    }
   ],
   "source": [
    "# which words contain the string 'the'?\n",
    "\n",
    "s.loc[s.str.contains('the')].head(30)"
   ]
  },
  {
   "cell_type": "code",
   "execution_count": 92,
   "id": "741acff1",
   "metadata": {},
   "outputs": [],
   "source": [
    "# the strip method removes whitespace from the start and/or finish of a string\n",
    "\n",
    "s = s.str.strip()  # this returns a new series in which values are the same as before, but without leading/trailing whitespace\n",
    "\n"
   ]
  },
  {
   "cell_type": "code",
   "execution_count": 93,
   "id": "518dfbf7",
   "metadata": {},
   "outputs": [
    {
     "data": {
      "text/plain": [
       "the             792\n",
       "and             379\n",
       "a               325\n",
       "to              318\n",
       "of              313\n",
       "she             232\n",
       "in              222\n",
       "was             160\n",
       "you             141\n",
       "it              136\n",
       "said            130\n",
       "with            113\n",
       "or              109\n",
       "alice           103\n",
       "as               95\n",
       "her              94\n",
       "that             93\n",
       "at               93\n",
       "i                89\n",
       "this             82\n",
       "project          82\n",
       "for              70\n",
       "all              70\n",
       "on               67\n",
       "had              64\n",
       "little           57\n",
       "be               55\n",
       "gutenberg-tm     54\n",
       "is               52\n",
       "not              52\n",
       "any              48\n",
       "by               47\n",
       "out              45\n",
       "down             44\n",
       "if               41\n",
       "about            40\n",
       "into             39\n",
       "up               39\n",
       "very             39\n",
       "they             39\n",
       "work             38\n",
       "but              38\n",
       "when             37\n",
       "do               36\n",
       "so               35\n",
       "are              32\n",
       "one              32\n",
       "like             32\n",
       "no               31\n",
       "from             31\n",
       "dtype: int64"
      ]
     },
     "execution_count": 93,
     "metadata": {},
     "output_type": "execute_result"
    }
   ],
   "source": [
    "\n",
    "s.value_counts().head(50)"
   ]
  },
  {
   "cell_type": "code",
   "execution_count": 94,
   "id": "3a8528b4",
   "metadata": {},
   "outputs": [
    {
     "data": {
      "text/plain": [
       "0         ﻿the\n",
       "15         the\n",
       "40         the\n",
       "43         the\n",
       "92         the\n",
       "102        the\n",
       "105        the\n",
       "107       _the\n",
       "137        the\n",
       "152        the\n",
       "167        the\n",
       "185        the\n",
       "210        the\n",
       "219    whether\n",
       "220        the\n",
       "229        the\n",
       "236        the\n",
       "250      there\n",
       "268        the\n",
       "272        the\n",
       "288        the\n",
       "303       then\n",
       "326     either\n",
       "344        the\n",
       "362        the\n",
       "365    another\n",
       "373        the\n",
       "385       then\n",
       "416     either\n",
       "417        the\n",
       "dtype: object"
      ]
     },
     "execution_count": 94,
     "metadata": {},
     "output_type": "execute_result"
    }
   ],
   "source": [
    "s.loc[s.str.contains('the')].head(30)"
   ]
  },
  {
   "cell_type": "code",
   "execution_count": 103,
   "id": "1ff72f19",
   "metadata": {},
   "outputs": [
    {
     "data": {
      "text/plain": [
       "0     word\n",
       "1    excel\n",
       "2    hello\n",
       "dtype: object"
      ]
     },
     "execution_count": 103,
     "metadata": {},
     "output_type": "execute_result"
    }
   ],
   "source": [
    "# if you invoke str.strip on a string, and you don't pass any arguments, then it removes\n",
    "# any and all occurrences of \\n, \\t, space, \\r, and \\v.  \n",
    "\n",
    "# If you invoke str.strip on a string, and you do pass a string argument, Python will remove\n",
    "# any and all of the characters in that string from each element in the original series.\n",
    "\n",
    "s = Series(['   word.exe ', '  excel.exe ', '    hello.txt '])\n",
    "\n",
    "s.str.strip().str.removesuffix('.exe').str.removesuffix('.txt')"
   ]
  },
  {
   "cell_type": "markdown",
   "id": "90ec7160",
   "metadata": {},
   "source": [
    "# Exercise: Calculating with dollars\n",
    "\n",
    "1. Create a series in which the elements are Python strings, each containing a number, and starting with the dollar sign.\n",
    "2. Find the mean of these prices. You'll need to remove the dollar sign from the start of each string.\n",
    "\n",
    "So if I have a series containing `$10, $20, $30`, then I'll get `20` back, calculating its mean."
   ]
  },
  {
   "cell_type": "code",
   "execution_count": 105,
   "id": "63cf7b00",
   "metadata": {},
   "outputs": [
    {
     "data": {
      "text/plain": [
       "0    $10\n",
       "1    $20\n",
       "2    $30\n",
       "3    $50\n",
       "dtype: object"
      ]
     },
     "execution_count": 105,
     "metadata": {},
     "output_type": "execute_result"
    }
   ],
   "source": [
    "s = Series('$10 $20 $30 $50'.split())\n",
    "s"
   ]
  },
  {
   "cell_type": "code",
   "execution_count": 109,
   "id": "2a5df6af",
   "metadata": {},
   "outputs": [
    {
     "data": {
      "text/plain": [
       "27.5"
      ]
     },
     "execution_count": 109,
     "metadata": {},
     "output_type": "execute_result"
    }
   ],
   "source": [
    "s.str.strip('$').astype(np.int8).mean()"
   ]
  },
  {
   "cell_type": "code",
   "execution_count": 111,
   "id": "678fcc56",
   "metadata": {},
   "outputs": [
    {
     "data": {
      "text/plain": [
       "0       $10   \n",
       "1       $20   \n",
       "2       $30   \n",
       "3       $50   \n",
       "dtype: object"
      ]
     },
     "execution_count": 111,
     "metadata": {},
     "output_type": "execute_result"
    }
   ],
   "source": [
    "s = Series('   $10   ,  $20   , $30   , $50   '.split(','))\n",
    "s"
   ]
  },
  {
   "cell_type": "code",
   "execution_count": 116,
   "id": "8a66d398",
   "metadata": {},
   "outputs": [
    {
     "data": {
      "text/plain": [
       "27.5"
      ]
     },
     "execution_count": 116,
     "metadata": {},
     "output_type": "execute_result"
    }
   ],
   "source": [
    "# whitespace, then $\n",
    "s.str.strip().str.strip('$').astype(np.int8).mean()"
   ]
  },
  {
   "cell_type": "code",
   "execution_count": 117,
   "id": "8233b27b",
   "metadata": {},
   "outputs": [],
   "source": [
    "s = Series('This is a bunch of words for my course'.split())"
   ]
  },
  {
   "cell_type": "code",
   "execution_count": 118,
   "id": "b9501ee2",
   "metadata": {},
   "outputs": [
    {
     "data": {
      "text/plain": [
       "0      This\n",
       "1        is\n",
       "2         a\n",
       "3     bunch\n",
       "4        of\n",
       "5     words\n",
       "6       for\n",
       "7        my\n",
       "8    course\n",
       "dtype: object"
      ]
     },
     "execution_count": 118,
     "metadata": {},
     "output_type": "execute_result"
    }
   ],
   "source": [
    "s\n"
   ]
  },
  {
   "cell_type": "code",
   "execution_count": 119,
   "id": "47f39659",
   "metadata": {},
   "outputs": [
    {
     "data": {
      "text/plain": [
       "0    T\n",
       "1    i\n",
       "2    a\n",
       "3    b\n",
       "4    o\n",
       "5    w\n",
       "6    f\n",
       "7    m\n",
       "8    c\n",
       "dtype: object"
      ]
     },
     "execution_count": 119,
     "metadata": {},
     "output_type": "execute_result"
    }
   ],
   "source": [
    "# we can retrieve the character at any index with .str.get\n",
    "\n",
    "s.str.get(0)   # return the first character of every word in s"
   ]
  },
  {
   "cell_type": "code",
   "execution_count": 121,
   "id": "1acfcbf1",
   "metadata": {},
   "outputs": [
    {
     "data": {
      "text/plain": [
       "0    is\n",
       "1      \n",
       "2      \n",
       "3    nc\n",
       "4      \n",
       "5    rd\n",
       "6     r\n",
       "7      \n",
       "8    ur\n",
       "dtype: object"
      ]
     },
     "execution_count": 121,
     "metadata": {},
     "output_type": "execute_result"
    }
   ],
   "source": [
    "# slice allows us to retrieve from an index, to an ending index\n",
    "s.str.slice(2, 4)"
   ]
  },
  {
   "cell_type": "markdown",
   "id": "182d782f",
   "metadata": {},
   "source": [
    "# Exercise: Find words with the same first and last letter\n",
    "\n",
    "1. Create a series containing a bunch of words. \n",
    "2. Show the words in that series whose first letters and last letters are the same.\n",
    "\n",
    "Examples:\n",
    "\n",
    "1. `prop`  -- yes, first and last letters are the same\n",
    "2. `fluff` -- yes, first and last letters are the same\n",
    "3. `fluffy` -- no different letters"
   ]
  },
  {
   "cell_type": "code",
   "execution_count": 122,
   "id": "ef721a7a",
   "metadata": {},
   "outputs": [
    {
     "data": {
      "text/plain": [
       "0             ﻿The\n",
       "1          Project\n",
       "2        Gutenberg\n",
       "3            EBook\n",
       "4               of\n",
       "           ...    \n",
       "12758           to\n",
       "12759         hear\n",
       "12760        about\n",
       "12761          new\n",
       "12762      eBooks.\n",
       "Length: 12763, dtype: object"
      ]
     },
     "execution_count": 122,
     "metadata": {},
     "output_type": "execute_result"
    }
   ],
   "source": [
    "s = Series(open('../data/alice-in-wonderland.txt').read().split())\n",
    "s"
   ]
  },
  {
   "cell_type": "code",
   "execution_count": 126,
   "id": "253d94a8",
   "metadata": {},
   "outputs": [
    {
     "data": {
      "text/plain": [
       "0             ﻿The\n",
       "1          Project\n",
       "2        Gutenberg\n",
       "3            EBook\n",
       "4               of\n",
       "5            Alice\n",
       "6               in\n",
       "7       Wonderland\n",
       "8               by\n",
       "9            Lewis\n",
       "10         Carroll\n",
       "11            This\n",
       "12           eBook\n",
       "13              is\n",
       "14             for\n",
       "15             the\n",
       "16             use\n",
       "17              of\n",
       "18          anyone\n",
       "19        anywhere\n",
       "20              at\n",
       "21              no\n",
       "22            cost\n",
       "23             and\n",
       "24            with\n",
       "25          almost\n",
       "26              no\n",
       "27    restrictions\n",
       "28      whatsoever\n",
       "29             You\n",
       "dtype: object"
      ]
     },
     "execution_count": 126,
     "metadata": {},
     "output_type": "execute_result"
    }
   ],
   "source": [
    "# remove punctuation!\n",
    "s = s.str.strip('.?!\"\\';,')\n",
    "s.head(30)"
   ]
  },
  {
   "cell_type": "code",
   "execution_count": 131,
   "id": "71745d04",
   "metadata": {},
   "outputs": [
    {
     "data": {
      "text/plain": [
       "0              ***\n",
       "1        GUTENBERG\n",
       "2             SONS\n",
       "3                &\n",
       "4                a\n",
       "5          thought\n",
       "6          getting\n",
       "7             that\n",
       "8              did\n",
       "9                I\n",
       "10             pop\n",
       "11          dipped\n",
       "12           sides\n",
       "13         shelves\n",
       "14            else\n",
       "15        to-night\n",
       "16        remember\n",
       "17          sticks\n",
       "18            high\n",
       "19           label\n",
       "20        _poison_\n",
       "21           _not_\n",
       "22               *\n",
       "23           going\n",
       "24         decided\n",
       "25          rather\n",
       "26       sometimes\n",
       "27             eye\n",
       "28         growing\n",
       "29           shoes\n",
       "30       stockings\n",
       "31           dried\n",
       "32         dressed\n",
       "33         _won't_\n",
       "34         dropped\n",
       "35       yesterday\n",
       "36           _Was_\n",
       "37        _that's_\n",
       "38           _can_\n",
       "39           _was_\n",
       "40          escape\n",
       "41       existence\n",
       "42               O\n",
       "43           _you_\n",
       "44             _I_\n",
       "45         _hated_\n",
       "46    fond--of--of\n",
       "47               A\n",
       "48        draggled\n",
       "49          _I'll_\n",
       "dtype: object"
      ]
     },
     "execution_count": 131,
     "metadata": {},
     "output_type": "execute_result"
    }
   ],
   "source": [
    "# which words start and end with the same letter?\n",
    "Series(s.loc[s.str.get(0) == s.str.get(-1)].unique()).head(50)"
   ]
  },
  {
   "cell_type": "markdown",
   "id": "7a62438e",
   "metadata": {},
   "source": [
    "# Next up\n",
    "\n",
    "1. Dates and times!\n",
    "    - Datetime objects (and timedelta objects)\n",
    "    - Reading from CSV files\n",
    "    - Comparing with and using them.\n",
    "    "
   ]
  },
  {
   "cell_type": "markdown",
   "id": "692d67ff",
   "metadata": {},
   "source": [
    "# Dates and times\n",
    "\n",
    "When we talk about \"time\" in our day-to-day conversations, we are actually referring to two different things:\n",
    "\n",
    "1. A particular point in time, with a specific (and unique) year, month, day, hour, minute, second. This first type of \"time\" is known in the programming world as a \"datetime\" object.\n",
    "2. A range of time, starting at a particular point and ending at a different point. This is known in the programming world as a \"timedelta.\"\n",
    "\n",
    "You can do time math, as follows:\n",
    "\n",
    "- datetime + timedelta = datetime\n",
    "- datetime - datetime = timedelta\n",
    "\n",
    "Let's take this class as an example: It started at a certain time (datetime). It will end at a certain time (that's a datetime). In between, where we are now, is part of a timedelta, the distance between the start time and the end time."
   ]
  },
  {
   "cell_type": "code",
   "execution_count": 132,
   "id": "38a1f635",
   "metadata": {},
   "outputs": [],
   "source": [
    "# let's read the taxi data, including two new columns: tpep_pickup_datetime and tpep_dropoff_datetime\n",
    "\n",
    "df = pd.read_csv('../data/nyc_taxi_2019-01.csv',\n",
    "                usecols=['tpep_pickup_datetime',\n",
    "                        'tpep_dropoff_datetime',\n",
    "                        'passenger_count',\n",
    "                        'trip_distance',\n",
    "                        'total_amount',\n",
    "                        'tip_amount'])"
   ]
  },
  {
   "cell_type": "code",
   "execution_count": 133,
   "id": "62ccccee",
   "metadata": {},
   "outputs": [
    {
     "data": {
      "text/html": [
       "<div>\n",
       "<style scoped>\n",
       "    .dataframe tbody tr th:only-of-type {\n",
       "        vertical-align: middle;\n",
       "    }\n",
       "\n",
       "    .dataframe tbody tr th {\n",
       "        vertical-align: top;\n",
       "    }\n",
       "\n",
       "    .dataframe thead th {\n",
       "        text-align: right;\n",
       "    }\n",
       "</style>\n",
       "<table border=\"1\" class=\"dataframe\">\n",
       "  <thead>\n",
       "    <tr style=\"text-align: right;\">\n",
       "      <th></th>\n",
       "      <th>tpep_pickup_datetime</th>\n",
       "      <th>tpep_dropoff_datetime</th>\n",
       "      <th>passenger_count</th>\n",
       "      <th>trip_distance</th>\n",
       "      <th>tip_amount</th>\n",
       "      <th>total_amount</th>\n",
       "    </tr>\n",
       "  </thead>\n",
       "  <tbody>\n",
       "    <tr>\n",
       "      <th>0</th>\n",
       "      <td>2019-01-01 00:46:40</td>\n",
       "      <td>2019-01-01 00:53:20</td>\n",
       "      <td>1</td>\n",
       "      <td>1.5</td>\n",
       "      <td>1.65</td>\n",
       "      <td>9.95</td>\n",
       "    </tr>\n",
       "    <tr>\n",
       "      <th>1</th>\n",
       "      <td>2019-01-01 00:59:47</td>\n",
       "      <td>2019-01-01 01:18:59</td>\n",
       "      <td>1</td>\n",
       "      <td>2.6</td>\n",
       "      <td>1.00</td>\n",
       "      <td>16.30</td>\n",
       "    </tr>\n",
       "    <tr>\n",
       "      <th>2</th>\n",
       "      <td>2018-12-21 13:48:30</td>\n",
       "      <td>2018-12-21 13:52:40</td>\n",
       "      <td>3</td>\n",
       "      <td>0.0</td>\n",
       "      <td>0.00</td>\n",
       "      <td>5.80</td>\n",
       "    </tr>\n",
       "    <tr>\n",
       "      <th>3</th>\n",
       "      <td>2018-11-28 15:52:25</td>\n",
       "      <td>2018-11-28 15:55:45</td>\n",
       "      <td>5</td>\n",
       "      <td>0.0</td>\n",
       "      <td>0.00</td>\n",
       "      <td>7.55</td>\n",
       "    </tr>\n",
       "    <tr>\n",
       "      <th>4</th>\n",
       "      <td>2018-11-28 15:56:57</td>\n",
       "      <td>2018-11-28 15:58:33</td>\n",
       "      <td>5</td>\n",
       "      <td>0.0</td>\n",
       "      <td>0.00</td>\n",
       "      <td>55.55</td>\n",
       "    </tr>\n",
       "  </tbody>\n",
       "</table>\n",
       "</div>"
      ],
      "text/plain": [
       "  tpep_pickup_datetime tpep_dropoff_datetime  passenger_count  trip_distance  \\\n",
       "0  2019-01-01 00:46:40   2019-01-01 00:53:20                1            1.5   \n",
       "1  2019-01-01 00:59:47   2019-01-01 01:18:59                1            2.6   \n",
       "2  2018-12-21 13:48:30   2018-12-21 13:52:40                3            0.0   \n",
       "3  2018-11-28 15:52:25   2018-11-28 15:55:45                5            0.0   \n",
       "4  2018-11-28 15:56:57   2018-11-28 15:58:33                5            0.0   \n",
       "\n",
       "   tip_amount  total_amount  \n",
       "0        1.65          9.95  \n",
       "1        1.00         16.30  \n",
       "2        0.00          5.80  \n",
       "3        0.00          7.55  \n",
       "4        0.00         55.55  "
      ]
     },
     "execution_count": 133,
     "metadata": {},
     "output_type": "execute_result"
    }
   ],
   "source": [
    "df.head()"
   ]
  },
  {
   "cell_type": "code",
   "execution_count": 134,
   "id": "231211b5",
   "metadata": {},
   "outputs": [
    {
     "data": {
      "text/plain": [
       "tpep_pickup_datetime      object\n",
       "tpep_dropoff_datetime     object\n",
       "passenger_count            int64\n",
       "trip_distance            float64\n",
       "tip_amount               float64\n",
       "total_amount             float64\n",
       "dtype: object"
      ]
     },
     "execution_count": 134,
     "metadata": {},
     "output_type": "execute_result"
    }
   ],
   "source": [
    "# what dtypes do we have?\n",
    "df.dtypes"
   ]
  },
  {
   "cell_type": "code",
   "execution_count": 135,
   "id": "b63f7e39",
   "metadata": {},
   "outputs": [],
   "source": [
    "# if we want Pandas to read one or more columns as datetime values, we need to specify that\n",
    "# when we run read_csv:\n",
    "\n",
    "df = pd.read_csv('../data/nyc_taxi_2019-01.csv',\n",
    "                usecols=['tpep_pickup_datetime',\n",
    "                        'tpep_dropoff_datetime',\n",
    "                        'passenger_count',\n",
    "                        'trip_distance',\n",
    "                        'total_amount',\n",
    "                        'tip_amount'],\n",
    "                parse_dates=['tpep_pickup_datetime', 'tpep_dropoff_datetime'])"
   ]
  },
  {
   "cell_type": "code",
   "execution_count": 136,
   "id": "7e60b7ba",
   "metadata": {},
   "outputs": [
    {
     "data": {
      "text/plain": [
       "tpep_pickup_datetime     datetime64[ns]\n",
       "tpep_dropoff_datetime    datetime64[ns]\n",
       "passenger_count                   int64\n",
       "trip_distance                   float64\n",
       "tip_amount                      float64\n",
       "total_amount                    float64\n",
       "dtype: object"
      ]
     },
     "execution_count": 136,
     "metadata": {},
     "output_type": "execute_result"
    }
   ],
   "source": [
    "df.dtypes"
   ]
  },
  {
   "cell_type": "code",
   "execution_count": 137,
   "id": "34677487",
   "metadata": {},
   "outputs": [
    {
     "name": "stdout",
     "output_type": "stream",
     "text": [
      "VendorID,tpep_pickup_datetime,tpep_dropoff_datetime,passenger_count,trip_distance,RatecodeID,store_and_fwd_flag,PULocationID,DOLocationID,payment_type,fare_amount,extra,mta_tax,tip_amount,tolls_amount,improvement_surcharge,total_amount,congestion_surcharge\r",
      "\r\n",
      "1,2019-01-01 00:46:40,2019-01-01 00:53:20,1,1.50,1,N,151,239,1,7,0.5,0.5,1.65,0,0.3,9.95,\r",
      "\r\n",
      "1,2019-01-01 00:59:47,2019-01-01 01:18:59,1,2.60,1,N,239,246,1,14,0.5,0.5,1,0,0.3,16.3,\r",
      "\r\n",
      "2,2018-12-21 13:48:30,2018-12-21 13:52:40,3,.00,1,N,236,236,1,4.5,0.5,0.5,0,0,0.3,5.8,\r",
      "\r\n",
      "2,2018-11-28 15:52:25,2018-11-28 15:55:45,5,.00,1,N,193,193,2,3.5,0.5,0.5,0,0,0.3,7.55,\r",
      "\r\n",
      "2,2018-11-28 15:56:57,2018-11-28 15:58:33,5,.00,2,N,193,193,2,52,0,0.5,0,0,0.3,55.55,\r",
      "\r\n",
      "2,2018-11-28 16:25:49,2018-11-28 16:28:26,5,.00,1,N,193,193,2,3.5,0.5,0.5,0,5.76,0.3,13.31,\r",
      "\r\n",
      "2,2018-11-28 16:29:37,2018-11-28 16:33:43,5,.00,2,N,193,193,2,52,0,0.5,0,0,0.3,55.55,\r",
      "\r\n",
      "1,2019-01-01 00:21:28,2019-01-01 00:28:37,1,1.30,1,N,163,229,1,6.5,0.5,0.5,1.25,0,0.3,9.05,\r",
      "\r\n",
      "1,2019-01-01 00:32:01,2019-01-01 00:45:39,1,3.70,1,N,229,7,1,13.5,0.5,0.5,3.7,0,0.3,18.5,\r",
      "\r\n"
     ]
    }
   ],
   "source": [
    "!head ../data/nyc_taxi_2019-01.csv"
   ]
  },
  {
   "cell_type": "markdown",
   "id": "51e70f3d",
   "metadata": {},
   "source": [
    "What if the date is listed as 05-07-2021  -- is that May 7th? Or is that July 5th?\n",
    "in the US, it's May 7th.  Everywhere else, it's July 5th.  (In Asian countries, they typically\n",
    "prefer the YYMMDD format.)\n",
    "\n",
    "One of the parameters to `read_csv` is `dayfirst`, which defaults to `False`. If you're reading dates, and finding that they are swapped (month/day), then you should set `dayfirst=True` when you call `read_csv`.\n",
    "\n"
   ]
  },
  {
   "cell_type": "code",
   "execution_count": 138,
   "id": "f03e9a1e",
   "metadata": {},
   "outputs": [],
   "source": [
    "# so what? Now I have the pickup and dropoff in datetime objects... so?"
   ]
  },
  {
   "cell_type": "code",
   "execution_count": 139,
   "id": "c22ab5a7",
   "metadata": {},
   "outputs": [
    {
     "data": {
      "text/html": [
       "<div>\n",
       "<style scoped>\n",
       "    .dataframe tbody tr th:only-of-type {\n",
       "        vertical-align: middle;\n",
       "    }\n",
       "\n",
       "    .dataframe tbody tr th {\n",
       "        vertical-align: top;\n",
       "    }\n",
       "\n",
       "    .dataframe thead th {\n",
       "        text-align: right;\n",
       "    }\n",
       "</style>\n",
       "<table border=\"1\" class=\"dataframe\">\n",
       "  <thead>\n",
       "    <tr style=\"text-align: right;\">\n",
       "      <th></th>\n",
       "      <th>tpep_pickup_datetime</th>\n",
       "      <th>tpep_dropoff_datetime</th>\n",
       "      <th>passenger_count</th>\n",
       "      <th>trip_distance</th>\n",
       "      <th>tip_amount</th>\n",
       "      <th>total_amount</th>\n",
       "    </tr>\n",
       "  </thead>\n",
       "  <tbody>\n",
       "    <tr>\n",
       "      <th>0</th>\n",
       "      <td>2019-01-01 00:46:40</td>\n",
       "      <td>2019-01-01 00:53:20</td>\n",
       "      <td>1</td>\n",
       "      <td>1.5</td>\n",
       "      <td>1.65</td>\n",
       "      <td>9.95</td>\n",
       "    </tr>\n",
       "    <tr>\n",
       "      <th>1</th>\n",
       "      <td>2019-01-01 00:59:47</td>\n",
       "      <td>2019-01-01 01:18:59</td>\n",
       "      <td>1</td>\n",
       "      <td>2.6</td>\n",
       "      <td>1.00</td>\n",
       "      <td>16.30</td>\n",
       "    </tr>\n",
       "    <tr>\n",
       "      <th>2</th>\n",
       "      <td>2018-12-21 13:48:30</td>\n",
       "      <td>2018-12-21 13:52:40</td>\n",
       "      <td>3</td>\n",
       "      <td>0.0</td>\n",
       "      <td>0.00</td>\n",
       "      <td>5.80</td>\n",
       "    </tr>\n",
       "    <tr>\n",
       "      <th>3</th>\n",
       "      <td>2018-11-28 15:52:25</td>\n",
       "      <td>2018-11-28 15:55:45</td>\n",
       "      <td>5</td>\n",
       "      <td>0.0</td>\n",
       "      <td>0.00</td>\n",
       "      <td>7.55</td>\n",
       "    </tr>\n",
       "    <tr>\n",
       "      <th>4</th>\n",
       "      <td>2018-11-28 15:56:57</td>\n",
       "      <td>2018-11-28 15:58:33</td>\n",
       "      <td>5</td>\n",
       "      <td>0.0</td>\n",
       "      <td>0.00</td>\n",
       "      <td>55.55</td>\n",
       "    </tr>\n",
       "  </tbody>\n",
       "</table>\n",
       "</div>"
      ],
      "text/plain": [
       "  tpep_pickup_datetime tpep_dropoff_datetime  passenger_count  trip_distance  \\\n",
       "0  2019-01-01 00:46:40   2019-01-01 00:53:20                1            1.5   \n",
       "1  2019-01-01 00:59:47   2019-01-01 01:18:59                1            2.6   \n",
       "2  2018-12-21 13:48:30   2018-12-21 13:52:40                3            0.0   \n",
       "3  2018-11-28 15:52:25   2018-11-28 15:55:45                5            0.0   \n",
       "4  2018-11-28 15:56:57   2018-11-28 15:58:33                5            0.0   \n",
       "\n",
       "   tip_amount  total_amount  \n",
       "0        1.65          9.95  \n",
       "1        1.00         16.30  \n",
       "2        0.00          5.80  \n",
       "3        0.00          7.55  \n",
       "4        0.00         55.55  "
      ]
     },
     "execution_count": 139,
     "metadata": {},
     "output_type": "execute_result"
    }
   ],
   "source": [
    "df.head()"
   ]
  },
  {
   "cell_type": "code",
   "execution_count": null,
   "id": "f5e85219",
   "metadata": {},
   "outputs": [],
   "source": [
    "# we can retrieve pieces of the datetime object\n",
    "# we use a special acc"
   ]
  }
 ],
 "metadata": {
  "kernelspec": {
   "display_name": "Python 3 (ipykernel)",
   "language": "python",
   "name": "python3"
  },
  "language_info": {
   "codemirror_mode": {
    "name": "ipython",
    "version": 3
   },
   "file_extension": ".py",
   "mimetype": "text/x-python",
   "name": "python",
   "nbconvert_exporter": "python",
   "pygments_lexer": "ipython3",
   "version": "3.11.0"
  }
 },
 "nbformat": 4,
 "nbformat_minor": 5
}
