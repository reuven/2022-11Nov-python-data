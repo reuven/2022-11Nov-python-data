{
 "cells": [
  {
   "cell_type": "markdown",
   "id": "143ecc22",
   "metadata": {},
   "source": [
    "# Week 4: Text and dates\n",
    "\n",
    "1. Text\n",
    "    - Working with text data via the `str` accessor\n",
    "    - Using `str` to clean integer data\n",
    "    - Getting textual statistics \n",
    "    - Cleaning text + strings\n",
    "2. Dates and times\n",
    "    - How do dates and times work as data structures?\n",
    "    - `datetime` and `timedelta` objects\n",
    "    - Reading date information from CSV files\n",
    "    - Retrieving via dates and times\n",
    "    - Time series -- setting the index to use a datetime column\n",
    "    - Resampling -- grouping via time"
   ]
  },
  {
   "cell_type": "code",
   "execution_count": 1,
   "id": "1aabed69",
   "metadata": {},
   "outputs": [],
   "source": [
    "import numpy as np\n",
    "import pandas as pd\n",
    "from pandas import Series, DataFrame"
   ]
  },
  {
   "cell_type": "code",
   "execution_count": null,
   "id": "b4b83d08",
   "metadata": {},
   "outputs": [],
   "source": []
  }
 ],
 "metadata": {
  "kernelspec": {
   "display_name": "Python 3 (ipykernel)",
   "language": "python",
   "name": "python3"
  },
  "language_info": {
   "codemirror_mode": {
    "name": "ipython",
    "version": 3
   },
   "file_extension": ".py",
   "mimetype": "text/x-python",
   "name": "python",
   "nbconvert_exporter": "python",
   "pygments_lexer": "ipython3",
   "version": "3.11.0"
  }
 },
 "nbformat": 4,
 "nbformat_minor": 5
}
