{
 "cells": [
  {
   "cell_type": "markdown",
   "id": "4bcb16ef",
   "metadata": {},
   "source": [
    "# Week 4: Text and dates\n",
    "\n",
    "1. Text\n",
    "    - Working with text data via the `str` accessor\n",
    "    - Using `str` to clean integer data\n",
    "    - Getting textual statistics \n",
    "    - Cleaning text + strings\n",
    "2. Dates and times\n",
    "    - How do dates and times work as data structures?\n",
    "    - `datetime` and `timedelta` objects\n",
    "    - Reading date information from CSV files\n",
    "    - Retrieving via dates and times\n",
    "    - Time series -- setting the index to use a datetime column\n",
    "    - Resampling -- grouping via time"
   ]
  },
  {
   "cell_type": "code",
   "execution_count": 1,
   "id": "6267e6e4",
   "metadata": {},
   "outputs": [],
   "source": [
    "import numpy as np\n",
    "import pandas as pd\n",
    "from pandas import Series, DataFrame"
   ]
  },
  {
   "cell_type": "code",
   "execution_count": 2,
   "id": "89895b98",
   "metadata": {},
   "outputs": [],
   "source": [
    "# load NYC taxi data from January, 2019\n",
    "filename = '/Users/reuven/Courses/Current/data/nyc_taxi_2019-01.csv'\n",
    "\n",
    "df = pd.read_csv(filename, \n",
    "                usecols=['passenger_count', 'trip_distance', 'total_amount'])"
   ]
  },
  {
   "cell_type": "code",
   "execution_count": 3,
   "id": "7d305b09",
   "metadata": {},
   "outputs": [
    {
     "data": {
      "text/html": [
       "<div>\n",
       "<style scoped>\n",
       "    .dataframe tbody tr th:only-of-type {\n",
       "        vertical-align: middle;\n",
       "    }\n",
       "\n",
       "    .dataframe tbody tr th {\n",
       "        vertical-align: top;\n",
       "    }\n",
       "\n",
       "    .dataframe thead th {\n",
       "        text-align: right;\n",
       "    }\n",
       "</style>\n",
       "<table border=\"1\" class=\"dataframe\">\n",
       "  <thead>\n",
       "    <tr style=\"text-align: right;\">\n",
       "      <th></th>\n",
       "      <th>passenger_count</th>\n",
       "      <th>trip_distance</th>\n",
       "      <th>total_amount</th>\n",
       "    </tr>\n",
       "  </thead>\n",
       "  <tbody>\n",
       "    <tr>\n",
       "      <th>0</th>\n",
       "      <td>1</td>\n",
       "      <td>1.5</td>\n",
       "      <td>9.95</td>\n",
       "    </tr>\n",
       "    <tr>\n",
       "      <th>1</th>\n",
       "      <td>1</td>\n",
       "      <td>2.6</td>\n",
       "      <td>16.30</td>\n",
       "    </tr>\n",
       "    <tr>\n",
       "      <th>2</th>\n",
       "      <td>3</td>\n",
       "      <td>0.0</td>\n",
       "      <td>5.80</td>\n",
       "    </tr>\n",
       "    <tr>\n",
       "      <th>3</th>\n",
       "      <td>5</td>\n",
       "      <td>0.0</td>\n",
       "      <td>7.55</td>\n",
       "    </tr>\n",
       "    <tr>\n",
       "      <th>4</th>\n",
       "      <td>5</td>\n",
       "      <td>0.0</td>\n",
       "      <td>55.55</td>\n",
       "    </tr>\n",
       "  </tbody>\n",
       "</table>\n",
       "</div>"
      ],
      "text/plain": [
       "   passenger_count  trip_distance  total_amount\n",
       "0                1            1.5          9.95\n",
       "1                1            2.6         16.30\n",
       "2                3            0.0          5.80\n",
       "3                5            0.0          7.55\n",
       "4                5            0.0         55.55"
      ]
     },
     "execution_count": 3,
     "metadata": {},
     "output_type": "execute_result"
    }
   ],
   "source": [
    "df.head()"
   ]
  },
  {
   "cell_type": "code",
   "execution_count": 4,
   "id": "ccc4465d",
   "metadata": {},
   "outputs": [
    {
     "data": {
      "text/plain": [
       "passenger_count      int64\n",
       "trip_distance      float64\n",
       "total_amount       float64\n",
       "dtype: object"
      ]
     },
     "execution_count": 4,
     "metadata": {},
     "output_type": "execute_result"
    }
   ],
   "source": [
    "df.dtypes"
   ]
  },
  {
   "cell_type": "code",
   "execution_count": 6,
   "id": "cdbc5705",
   "metadata": {},
   "outputs": [
    {
     "data": {
      "text/html": [
       "<div>\n",
       "<style scoped>\n",
       "    .dataframe tbody tr th:only-of-type {\n",
       "        vertical-align: middle;\n",
       "    }\n",
       "\n",
       "    .dataframe tbody tr th {\n",
       "        vertical-align: top;\n",
       "    }\n",
       "\n",
       "    .dataframe thead th {\n",
       "        text-align: right;\n",
       "    }\n",
       "</style>\n",
       "<table border=\"1\" class=\"dataframe\">\n",
       "  <thead>\n",
       "    <tr style=\"text-align: right;\">\n",
       "      <th></th>\n",
       "      <th>passenger_count</th>\n",
       "      <th>trip_distance</th>\n",
       "      <th>total_amount</th>\n",
       "    </tr>\n",
       "  </thead>\n",
       "  <tbody>\n",
       "    <tr>\n",
       "      <th>7667791</th>\n",
       "      <td>1</td>\n",
       "      <td>0.0</td>\n",
       "      <td>0.00</td>\n",
       "    </tr>\n",
       "    <tr>\n",
       "      <th>4863796</th>\n",
       "      <td>0</td>\n",
       "      <td>0.0</td>\n",
       "      <td>3.30</td>\n",
       "    </tr>\n",
       "    <tr>\n",
       "      <th>4863795</th>\n",
       "      <td>2</td>\n",
       "      <td>0.0</td>\n",
       "      <td>3.30</td>\n",
       "    </tr>\n",
       "    <tr>\n",
       "      <th>4863794</th>\n",
       "      <td>2</td>\n",
       "      <td>0.0</td>\n",
       "      <td>3.30</td>\n",
       "    </tr>\n",
       "    <tr>\n",
       "      <th>4863793</th>\n",
       "      <td>1</td>\n",
       "      <td>0.0</td>\n",
       "      <td>3.30</td>\n",
       "    </tr>\n",
       "    <tr>\n",
       "      <th>4863792</th>\n",
       "      <td>1</td>\n",
       "      <td>0.0</td>\n",
       "      <td>3.30</td>\n",
       "    </tr>\n",
       "    <tr>\n",
       "      <th>4863789</th>\n",
       "      <td>1</td>\n",
       "      <td>0.0</td>\n",
       "      <td>5.30</td>\n",
       "    </tr>\n",
       "    <tr>\n",
       "      <th>4863768</th>\n",
       "      <td>1</td>\n",
       "      <td>0.0</td>\n",
       "      <td>3.30</td>\n",
       "    </tr>\n",
       "    <tr>\n",
       "      <th>4863743</th>\n",
       "      <td>1</td>\n",
       "      <td>0.0</td>\n",
       "      <td>3.96</td>\n",
       "    </tr>\n",
       "    <tr>\n",
       "      <th>2682283</th>\n",
       "      <td>1</td>\n",
       "      <td>0.0</td>\n",
       "      <td>20.30</td>\n",
       "    </tr>\n",
       "  </tbody>\n",
       "</table>\n",
       "</div>"
      ],
      "text/plain": [
       "         passenger_count  trip_distance  total_amount\n",
       "7667791                1            0.0          0.00\n",
       "4863796                0            0.0          3.30\n",
       "4863795                2            0.0          3.30\n",
       "4863794                2            0.0          3.30\n",
       "4863793                1            0.0          3.30\n",
       "4863792                1            0.0          3.30\n",
       "4863789                1            0.0          5.30\n",
       "4863768                1            0.0          3.30\n",
       "4863743                1            0.0          3.96\n",
       "2682283                1            0.0         20.30"
      ]
     },
     "execution_count": 6,
     "metadata": {},
     "output_type": "execute_result"
    }
   ],
   "source": [
    "# what if I want to find the 10 shortest-distance trips?\n",
    "\n",
    "df.sort_values(by='trip_distance').head(10)"
   ]
  },
  {
   "cell_type": "code",
   "execution_count": 7,
   "id": "8aed8009",
   "metadata": {},
   "outputs": [
    {
     "data": {
      "text/html": [
       "<div>\n",
       "<style scoped>\n",
       "    .dataframe tbody tr th:only-of-type {\n",
       "        vertical-align: middle;\n",
       "    }\n",
       "\n",
       "    .dataframe tbody tr th {\n",
       "        vertical-align: top;\n",
       "    }\n",
       "\n",
       "    .dataframe thead th {\n",
       "        text-align: right;\n",
       "    }\n",
       "</style>\n",
       "<table border=\"1\" class=\"dataframe\">\n",
       "  <thead>\n",
       "    <tr style=\"text-align: right;\">\n",
       "      <th></th>\n",
       "      <th>passenger_count</th>\n",
       "      <th>trip_distance</th>\n",
       "      <th>total_amount</th>\n",
       "    </tr>\n",
       "  </thead>\n",
       "  <tbody>\n",
       "    <tr>\n",
       "      <th>4890628</th>\n",
       "      <td>1</td>\n",
       "      <td>0.0</td>\n",
       "      <td>-362.80</td>\n",
       "    </tr>\n",
       "    <tr>\n",
       "      <th>6308124</th>\n",
       "      <td>2</td>\n",
       "      <td>0.0</td>\n",
       "      <td>-320.30</td>\n",
       "    </tr>\n",
       "    <tr>\n",
       "      <th>57093</th>\n",
       "      <td>1</td>\n",
       "      <td>0.0</td>\n",
       "      <td>-300.30</td>\n",
       "    </tr>\n",
       "    <tr>\n",
       "      <th>7227721</th>\n",
       "      <td>1</td>\n",
       "      <td>0.0</td>\n",
       "      <td>-300.30</td>\n",
       "    </tr>\n",
       "    <tr>\n",
       "      <th>868820</th>\n",
       "      <td>1</td>\n",
       "      <td>0.0</td>\n",
       "      <td>-250.31</td>\n",
       "    </tr>\n",
       "    <tr>\n",
       "      <th>54256</th>\n",
       "      <td>1</td>\n",
       "      <td>0.0</td>\n",
       "      <td>-224.80</td>\n",
       "    </tr>\n",
       "    <tr>\n",
       "      <th>57095</th>\n",
       "      <td>1</td>\n",
       "      <td>0.0</td>\n",
       "      <td>-190.30</td>\n",
       "    </tr>\n",
       "    <tr>\n",
       "      <th>3339311</th>\n",
       "      <td>1</td>\n",
       "      <td>0.0</td>\n",
       "      <td>-165.30</td>\n",
       "    </tr>\n",
       "    <tr>\n",
       "      <th>3310047</th>\n",
       "      <td>1</td>\n",
       "      <td>0.0</td>\n",
       "      <td>-160.80</td>\n",
       "    </tr>\n",
       "    <tr>\n",
       "      <th>6153373</th>\n",
       "      <td>1</td>\n",
       "      <td>0.0</td>\n",
       "      <td>-150.80</td>\n",
       "    </tr>\n",
       "    <tr>\n",
       "      <th>5147061</th>\n",
       "      <td>1</td>\n",
       "      <td>0.0</td>\n",
       "      <td>-150.30</td>\n",
       "    </tr>\n",
       "    <tr>\n",
       "      <th>5977567</th>\n",
       "      <td>1</td>\n",
       "      <td>0.0</td>\n",
       "      <td>-120.80</td>\n",
       "    </tr>\n",
       "    <tr>\n",
       "      <th>5554364</th>\n",
       "      <td>1</td>\n",
       "      <td>0.0</td>\n",
       "      <td>-112.30</td>\n",
       "    </tr>\n",
       "    <tr>\n",
       "      <th>6958613</th>\n",
       "      <td>1</td>\n",
       "      <td>0.0</td>\n",
       "      <td>-110.80</td>\n",
       "    </tr>\n",
       "    <tr>\n",
       "      <th>7102780</th>\n",
       "      <td>2</td>\n",
       "      <td>0.0</td>\n",
       "      <td>-110.80</td>\n",
       "    </tr>\n",
       "    <tr>\n",
       "      <th>4424855</th>\n",
       "      <td>1</td>\n",
       "      <td>0.0</td>\n",
       "      <td>-100.80</td>\n",
       "    </tr>\n",
       "    <tr>\n",
       "      <th>57097</th>\n",
       "      <td>1</td>\n",
       "      <td>0.0</td>\n",
       "      <td>-100.30</td>\n",
       "    </tr>\n",
       "    <tr>\n",
       "      <th>2530388</th>\n",
       "      <td>3</td>\n",
       "      <td>0.0</td>\n",
       "      <td>-100.30</td>\n",
       "    </tr>\n",
       "    <tr>\n",
       "      <th>2644703</th>\n",
       "      <td>1</td>\n",
       "      <td>0.0</td>\n",
       "      <td>-100.30</td>\n",
       "    </tr>\n",
       "    <tr>\n",
       "      <th>2868784</th>\n",
       "      <td>2</td>\n",
       "      <td>0.0</td>\n",
       "      <td>-100.30</td>\n",
       "    </tr>\n",
       "  </tbody>\n",
       "</table>\n",
       "</div>"
      ],
      "text/plain": [
       "         passenger_count  trip_distance  total_amount\n",
       "4890628                1            0.0       -362.80\n",
       "6308124                2            0.0       -320.30\n",
       "57093                  1            0.0       -300.30\n",
       "7227721                1            0.0       -300.30\n",
       "868820                 1            0.0       -250.31\n",
       "54256                  1            0.0       -224.80\n",
       "57095                  1            0.0       -190.30\n",
       "3339311                1            0.0       -165.30\n",
       "3310047                1            0.0       -160.80\n",
       "6153373                1            0.0       -150.80\n",
       "5147061                1            0.0       -150.30\n",
       "5977567                1            0.0       -120.80\n",
       "5554364                1            0.0       -112.30\n",
       "6958613                1            0.0       -110.80\n",
       "7102780                2            0.0       -110.80\n",
       "4424855                1            0.0       -100.80\n",
       "57097                  1            0.0       -100.30\n",
       "2530388                3            0.0       -100.30\n",
       "2644703                1            0.0       -100.30\n",
       "2868784                2            0.0       -100.30"
      ]
     },
     "execution_count": 7,
     "metadata": {},
     "output_type": "execute_result"
    }
   ],
   "source": [
    "# what if I want to sort first by trip_distance, and then (in the case of a tie) by total_amount?\n",
    "\n",
    "df.sort_values(by=['trip_distance', 'total_amount']).head(20)"
   ]
  },
  {
   "cell_type": "code",
   "execution_count": 8,
   "id": "9274bdce",
   "metadata": {},
   "outputs": [
    {
     "data": {
      "text/plain": [
       "passenger_count\n",
       "0    2.651561\n",
       "1    2.779088\n",
       "2    2.880572\n",
       "3    2.840698\n",
       "4    2.853084\n",
       "5    2.865741\n",
       "6    2.842335\n",
       "7    2.561579\n",
       "8    3.142759\n",
       "9    1.486667\n",
       "Name: trip_distance, dtype: float64"
      ]
     },
     "execution_count": 8,
     "metadata": {},
     "output_type": "execute_result"
    }
   ],
   "source": [
    "# grouping \n",
    "\n",
    "# grouping allows us to ask a question, and to get a separate answer for each\n",
    "# unique value of a particular column.\n",
    "\n",
    "# to group, we need:\n",
    "# (1) a categorical column on which to group\n",
    "# (2) a numeric column on which to perform our calculation\n",
    "# (3) an aggregation method that will give us one value back for all rows for each categorical value\n",
    "\n",
    "df.groupby('passenger_count')['trip_distance'].mean()"
   ]
  },
  {
   "cell_type": "code",
   "execution_count": 9,
   "id": "7f5b14ee",
   "metadata": {},
   "outputs": [
    {
     "data": {
      "text/plain": [
       "passenger_count\n",
       "0    18.663658\n",
       "1    15.609601\n",
       "2    15.831294\n",
       "3    15.604015\n",
       "4    15.650307\n",
       "5    15.546940\n",
       "6    15.437892\n",
       "7    48.278421\n",
       "8    64.105517\n",
       "9    31.094444\n",
       "Name: total_amount, dtype: float64"
      ]
     },
     "execution_count": 9,
     "metadata": {},
     "output_type": "execute_result"
    }
   ],
   "source": [
    "df.groupby('passenger_count')['total_amount'].mean()"
   ]
  },
  {
   "cell_type": "code",
   "execution_count": 10,
   "id": "c30fe430",
   "metadata": {},
   "outputs": [
    {
     "data": {
      "text/html": [
       "<div>\n",
       "<style scoped>\n",
       "    .dataframe tbody tr th:only-of-type {\n",
       "        vertical-align: middle;\n",
       "    }\n",
       "\n",
       "    .dataframe tbody tr th {\n",
       "        vertical-align: top;\n",
       "    }\n",
       "\n",
       "    .dataframe thead th {\n",
       "        text-align: right;\n",
       "    }\n",
       "</style>\n",
       "<table border=\"1\" class=\"dataframe\">\n",
       "  <thead>\n",
       "    <tr style=\"text-align: right;\">\n",
       "      <th></th>\n",
       "      <th>total_amount</th>\n",
       "      <th>trip_distance</th>\n",
       "    </tr>\n",
       "    <tr>\n",
       "      <th>passenger_count</th>\n",
       "      <th></th>\n",
       "      <th></th>\n",
       "    </tr>\n",
       "  </thead>\n",
       "  <tbody>\n",
       "    <tr>\n",
       "      <th>0</th>\n",
       "      <td>18.663658</td>\n",
       "      <td>2.651561</td>\n",
       "    </tr>\n",
       "    <tr>\n",
       "      <th>1</th>\n",
       "      <td>15.609601</td>\n",
       "      <td>2.779088</td>\n",
       "    </tr>\n",
       "    <tr>\n",
       "      <th>2</th>\n",
       "      <td>15.831294</td>\n",
       "      <td>2.880572</td>\n",
       "    </tr>\n",
       "    <tr>\n",
       "      <th>3</th>\n",
       "      <td>15.604015</td>\n",
       "      <td>2.840698</td>\n",
       "    </tr>\n",
       "    <tr>\n",
       "      <th>4</th>\n",
       "      <td>15.650307</td>\n",
       "      <td>2.853084</td>\n",
       "    </tr>\n",
       "    <tr>\n",
       "      <th>5</th>\n",
       "      <td>15.546940</td>\n",
       "      <td>2.865741</td>\n",
       "    </tr>\n",
       "    <tr>\n",
       "      <th>6</th>\n",
       "      <td>15.437892</td>\n",
       "      <td>2.842335</td>\n",
       "    </tr>\n",
       "    <tr>\n",
       "      <th>7</th>\n",
       "      <td>48.278421</td>\n",
       "      <td>2.561579</td>\n",
       "    </tr>\n",
       "    <tr>\n",
       "      <th>8</th>\n",
       "      <td>64.105517</td>\n",
       "      <td>3.142759</td>\n",
       "    </tr>\n",
       "    <tr>\n",
       "      <th>9</th>\n",
       "      <td>31.094444</td>\n",
       "      <td>1.486667</td>\n",
       "    </tr>\n",
       "  </tbody>\n",
       "</table>\n",
       "</div>"
      ],
      "text/plain": [
       "                 total_amount  trip_distance\n",
       "passenger_count                             \n",
       "0                   18.663658       2.651561\n",
       "1                   15.609601       2.779088\n",
       "2                   15.831294       2.880572\n",
       "3                   15.604015       2.840698\n",
       "4                   15.650307       2.853084\n",
       "5                   15.546940       2.865741\n",
       "6                   15.437892       2.842335\n",
       "7                   48.278421       2.561579\n",
       "8                   64.105517       3.142759\n",
       "9                   31.094444       1.486667"
      ]
     },
     "execution_count": 10,
     "metadata": {},
     "output_type": "execute_result"
    }
   ],
   "source": [
    "# what if I want to get info about more than one column?\n",
    "# two options:\n",
    "# (1) don't specify columns in square brackets, and then all numeric columns will be calculated\n",
    "# (2) specify them in double square brackets, giving a list of columns\n",
    "\n",
    "df.groupby('passenger_count')[['total_amount', 'trip_distance']].mean()"
   ]
  },
  {
   "cell_type": "code",
   "execution_count": 11,
   "id": "d2ea8088",
   "metadata": {},
   "outputs": [
    {
     "data": {
      "text/html": [
       "<div>\n",
       "<style scoped>\n",
       "    .dataframe tbody tr th:only-of-type {\n",
       "        vertical-align: middle;\n",
       "    }\n",
       "\n",
       "    .dataframe tbody tr th {\n",
       "        vertical-align: top;\n",
       "    }\n",
       "\n",
       "    .dataframe thead th {\n",
       "        text-align: right;\n",
       "    }\n",
       "</style>\n",
       "<table border=\"1\" class=\"dataframe\">\n",
       "  <thead>\n",
       "    <tr style=\"text-align: right;\">\n",
       "      <th></th>\n",
       "      <th>total_amount</th>\n",
       "      <th>trip_distance</th>\n",
       "    </tr>\n",
       "    <tr>\n",
       "      <th>passenger_count</th>\n",
       "      <th></th>\n",
       "      <th></th>\n",
       "    </tr>\n",
       "  </thead>\n",
       "  <tbody>\n",
       "    <tr>\n",
       "      <th>6</th>\n",
       "      <td>15.437892</td>\n",
       "      <td>2.842335</td>\n",
       "    </tr>\n",
       "    <tr>\n",
       "      <th>5</th>\n",
       "      <td>15.546940</td>\n",
       "      <td>2.865741</td>\n",
       "    </tr>\n",
       "    <tr>\n",
       "      <th>3</th>\n",
       "      <td>15.604015</td>\n",
       "      <td>2.840698</td>\n",
       "    </tr>\n",
       "    <tr>\n",
       "      <th>1</th>\n",
       "      <td>15.609601</td>\n",
       "      <td>2.779088</td>\n",
       "    </tr>\n",
       "    <tr>\n",
       "      <th>4</th>\n",
       "      <td>15.650307</td>\n",
       "      <td>2.853084</td>\n",
       "    </tr>\n",
       "    <tr>\n",
       "      <th>2</th>\n",
       "      <td>15.831294</td>\n",
       "      <td>2.880572</td>\n",
       "    </tr>\n",
       "    <tr>\n",
       "      <th>0</th>\n",
       "      <td>18.663658</td>\n",
       "      <td>2.651561</td>\n",
       "    </tr>\n",
       "    <tr>\n",
       "      <th>9</th>\n",
       "      <td>31.094444</td>\n",
       "      <td>1.486667</td>\n",
       "    </tr>\n",
       "    <tr>\n",
       "      <th>7</th>\n",
       "      <td>48.278421</td>\n",
       "      <td>2.561579</td>\n",
       "    </tr>\n",
       "    <tr>\n",
       "      <th>8</th>\n",
       "      <td>64.105517</td>\n",
       "      <td>3.142759</td>\n",
       "    </tr>\n",
       "  </tbody>\n",
       "</table>\n",
       "</div>"
      ],
      "text/plain": [
       "                 total_amount  trip_distance\n",
       "passenger_count                             \n",
       "6                   15.437892       2.842335\n",
       "5                   15.546940       2.865741\n",
       "3                   15.604015       2.840698\n",
       "1                   15.609601       2.779088\n",
       "4                   15.650307       2.853084\n",
       "2                   15.831294       2.880572\n",
       "0                   18.663658       2.651561\n",
       "9                   31.094444       1.486667\n",
       "7                   48.278421       2.561579\n",
       "8                   64.105517       3.142759"
      ]
     },
     "execution_count": 11,
     "metadata": {},
     "output_type": "execute_result"
    }
   ],
   "source": [
    "df.groupby('passenger_count')[['total_amount', 'trip_distance']].mean().sort_values(by='total_amount')"
   ]
  },
  {
   "cell_type": "markdown",
   "id": "3d5082c4",
   "metadata": {},
   "source": [
    "# Text\n",
    "\n",
    "In Python (not Pandas), we use strings all of the time. They're really useful! But think about how Pandas does things: It stores its values inside of NumPy arrays. Those arrays contain C data structures.\n",
    "\n",
    "It's relatively obvious that those C data structures include 8-bit ints, 16-bit ints, 32-bit floats, etc. etc., but where do strings fit in?\n",
    "\n",
    "First: You can, in theory, put strings in NumPy arrays, but then things get very messy. Also, you then have C-style strings, not Python-style strings, which means that they're far more limited.\n",
    "\n",
    "The other thing we can do is use Python strings, stored in Python, but Pandas will keep track of the location of each Python string, and use it as necessary.\n",
    "\n",
    "If we have a series whose `dtype` is listed as `object`, that theoretically means that we could store any kind of Python object there. In practice, it almost always means that we have a string column, or a column containing some strings."
   ]
  },
  {
   "cell_type": "code",
   "execution_count": 12,
   "id": "7f0f8555",
   "metadata": {},
   "outputs": [],
   "source": [
    "s = Series('this is an example of text in Pandas for my course'.split())"
   ]
  },
  {
   "cell_type": "code",
   "execution_count": 13,
   "id": "6ee4dba2",
   "metadata": {},
   "outputs": [
    {
     "data": {
      "text/plain": [
       "0        this\n",
       "1          is\n",
       "2          an\n",
       "3     example\n",
       "4          of\n",
       "5        text\n",
       "6          in\n",
       "7      Pandas\n",
       "8         for\n",
       "9          my\n",
       "10     course\n",
       "dtype: object"
      ]
     },
     "execution_count": 13,
     "metadata": {},
     "output_type": "execute_result"
    }
   ],
   "source": [
    "s"
   ]
  },
  {
   "cell_type": "markdown",
   "id": "dad652d1",
   "metadata": {},
   "source": [
    "Once we have our string column, we can print it -- but how can we work with it?\n",
    "\n",
    "For example, if I want to find out the length of each word in `s`, how can I do it?\n",
    "\n",
    "- Option 1: Use a `for` loop to go through each value and get it. Problem: Don't do that.\n",
    "- Option 2: Use the `str` accessor for series (or data frame) to invoke a method on each element of `s`."
   ]
  },
  {
   "cell_type": "code",
   "execution_count": 15,
   "id": "73fc749a",
   "metadata": {},
   "outputs": [
    {
     "data": {
      "text/plain": [
       "0     4\n",
       "1     2\n",
       "2     2\n",
       "3     7\n",
       "4     2\n",
       "5     4\n",
       "6     2\n",
       "7     6\n",
       "8     3\n",
       "9     2\n",
       "10    6\n",
       "dtype: int64"
      ]
     },
     "execution_count": 15,
     "metadata": {},
     "output_type": "execute_result"
    }
   ],
   "source": [
    "s.str.len()   # we're applying the len() function to the s series, via the str accessor"
   ]
  },
  {
   "cell_type": "markdown",
   "id": "2e32e7fb",
   "metadata": {},
   "source": [
    "# Exercise: Find longer-than-average words\n",
    "\n",
    "1. Define a series containing strings.\n",
    "2. Construct a query that'll return all strings of above-average length.\n",
    "3. Print the returned results."
   ]
  },
  {
   "cell_type": "code",
   "execution_count": 16,
   "id": "816818b8",
   "metadata": {},
   "outputs": [
    {
     "data": {
      "text/plain": [
       "0        this\n",
       "1          is\n",
       "2           a\n",
       "3       bunch\n",
       "4          of\n",
       "5       words\n",
       "6         for\n",
       "7          my\n",
       "8      Pandas\n",
       "9      course\n",
       "10      about\n",
       "11    strings\n",
       "12        and\n",
       "13      dates\n",
       "dtype: object"
      ]
     },
     "execution_count": 16,
     "metadata": {},
     "output_type": "execute_result"
    }
   ],
   "source": [
    "s = Series('this is a bunch of words for my Pandas course about strings and dates'.split())\n",
    "s"
   ]
  },
  {
   "cell_type": "code",
   "execution_count": 18,
   "id": "9ffba181",
   "metadata": {},
   "outputs": [
    {
     "data": {
      "text/plain": [
       "4.0"
      ]
     },
     "execution_count": 18,
     "metadata": {},
     "output_type": "execute_result"
    }
   ],
   "source": [
    "# what is the average length of a word in s?\n",
    "# what are the lengths of the words?\n",
    "\n",
    "s.str.len().mean()"
   ]
  },
  {
   "cell_type": "code",
   "execution_count": 19,
   "id": "f080c7f4",
   "metadata": {},
   "outputs": [
    {
     "data": {
      "text/plain": [
       "0     False\n",
       "1     False\n",
       "2     False\n",
       "3      True\n",
       "4     False\n",
       "5      True\n",
       "6     False\n",
       "7     False\n",
       "8      True\n",
       "9      True\n",
       "10     True\n",
       "11     True\n",
       "12    False\n",
       "13     True\n",
       "dtype: bool"
      ]
     },
     "execution_count": 19,
     "metadata": {},
     "output_type": "execute_result"
    }
   ],
   "source": [
    "# which words are longer than the average?\n",
    "\n",
    "s.str.len() > s.str.len().mean()"
   ]
  },
  {
   "cell_type": "code",
   "execution_count": 20,
   "id": "f57528ed",
   "metadata": {},
   "outputs": [
    {
     "data": {
      "text/plain": [
       "3       bunch\n",
       "5       words\n",
       "8      Pandas\n",
       "9      course\n",
       "10      about\n",
       "11    strings\n",
       "13      dates\n",
       "dtype: object"
      ]
     },
     "execution_count": 20,
     "metadata": {},
     "output_type": "execute_result"
    }
   ],
   "source": [
    "# use the boolean series as a mask index, to get only those items whose lengths are > the mean\n",
    "s.loc[s.str.len() > s.str.len().mean()]"
   ]
  },
  {
   "cell_type": "code",
   "execution_count": 21,
   "id": "392a1234",
   "metadata": {},
   "outputs": [
    {
     "data": {
      "text/plain": [
       "0     False\n",
       "1     False\n",
       "2     False\n",
       "3     False\n",
       "4     False\n",
       "5     False\n",
       "6     False\n",
       "7     False\n",
       "8     False\n",
       "9     False\n",
       "10    False\n",
       "11    False\n",
       "12    False\n",
       "13    False\n",
       "dtype: bool"
      ]
     },
     "execution_count": 21,
     "metadata": {},
     "output_type": "execute_result"
    }
   ],
   "source": [
    "# in Jupyter, I can say\n",
    "\n",
    "s.str.isdigit()   # this returns a series of booleans -- True wherever the string only contains 0-9"
   ]
  },
  {
   "cell_type": "code",
   "execution_count": 22,
   "id": "c5a792ab",
   "metadata": {},
   "outputs": [],
   "source": [
    "s = Series('I work 40 hours per week at my job, and another 20 hours per week on my consulting.'.split())"
   ]
  },
  {
   "cell_type": "code",
   "execution_count": 23,
   "id": "25cd0e08",
   "metadata": {},
   "outputs": [
    {
     "data": {
      "text/plain": [
       "0               I\n",
       "1            work\n",
       "2              40\n",
       "3           hours\n",
       "4             per\n",
       "5            week\n",
       "6              at\n",
       "7              my\n",
       "8            job,\n",
       "9             and\n",
       "10        another\n",
       "11             20\n",
       "12          hours\n",
       "13            per\n",
       "14           week\n",
       "15             on\n",
       "16             my\n",
       "17    consulting.\n",
       "dtype: object"
      ]
     },
     "execution_count": 23,
     "metadata": {},
     "output_type": "execute_result"
    }
   ],
   "source": [
    "s"
   ]
  },
  {
   "cell_type": "code",
   "execution_count": 25,
   "id": "7c4ca9aa",
   "metadata": {},
   "outputs": [
    {
     "data": {
      "text/plain": [
       "2     40\n",
       "11    20\n",
       "dtype: object"
      ]
     },
     "execution_count": 25,
     "metadata": {},
     "output_type": "execute_result"
    }
   ],
   "source": [
    "# how can I we find those strings that contain only digits?\n",
    "\n",
    "s.loc[s.str.isdigit()]   # this returns True, when the string only contains digits"
   ]
  },
  {
   "cell_type": "code",
   "execution_count": 29,
   "id": "ba6f5f8f",
   "metadata": {},
   "outputs": [
    {
     "data": {
      "text/plain": [
       "60"
      ]
     },
     "execution_count": 29,
     "metadata": {},
     "output_type": "execute_result"
    }
   ],
   "source": [
    "# I want to sum the numbers\n",
    "\n",
    "# to do that, I have to find which elements of s are numbers\n",
    "# I'll use .astype(np.int64 ) to convert, but the input \n",
    "# must be a series of strings, which we trimmed from using a mask\n",
    "# index, based on isdigit()\n",
    "\n",
    "s.loc[s.str.isdigit()].astype(np.int64).sum()"
   ]
  },
  {
   "cell_type": "markdown",
   "id": "d86e4843",
   "metadata": {},
   "source": [
    "# Exercise: Summing ints from the user\n",
    "\n",
    "1. Ask the user to enter a list of 2- and 3-digit integers.  These will be strings, and not all will contain only digits.  Some will contain 0 digits!\n",
    "2. Use the `.str` accessor to keep only those \"words\" that contain only digits.  \n",
    "3. Turn the series into integers\n",
    "4. Calculate descriptive statistics on the data."
   ]
  },
  {
   "cell_type": "code",
   "execution_count": 31,
   "id": "19ca044b",
   "metadata": {},
   "outputs": [
    {
     "data": {
      "text/plain": [
       "0         This\n",
       "1     sentence\n",
       "2     contains\n",
       "3           10\n",
       "4     numbers,\n",
       "5         some\n",
       "6           of\n",
       "7        which\n",
       "8          are\n",
       "9           20\n",
       "10          30\n",
       "11          97\n",
       "12          85\n",
       "13         and\n",
       "14          23\n",
       "15           .\n",
       "16         But\n",
       "17          we\n",
       "18        also\n",
       "19        have\n",
       "20          22\n",
       "21         and\n",
       "22          33\n",
       "dtype: object"
      ]
     },
     "execution_count": 31,
     "metadata": {},
     "output_type": "execute_result"
    }
   ],
   "source": [
    "s = Series('This sentence contains 10 numbers, some of which are 20 30 97 85 and 23 . But we also have 22 and 33'.split())\n",
    "s"
   ]
  },
  {
   "cell_type": "code",
   "execution_count": 35,
   "id": "fbd96cfb",
   "metadata": {},
   "outputs": [
    {
     "data": {
      "text/plain": [
       "count     8.000000\n",
       "mean     40.000000\n",
       "std      32.372828\n",
       "min      10.000000\n",
       "25%      21.500000\n",
       "50%      26.500000\n",
       "75%      46.000000\n",
       "max      97.000000\n",
       "dtype: float64"
      ]
     },
     "execution_count": 35,
     "metadata": {},
     "output_type": "execute_result"
    }
   ],
   "source": [
    "# I want: Descriptive statistics on the numbers in s\n",
    "# I need: remove all non-numeric strings from s, then use astype to turn the values into integers\n",
    "\n",
    "s.loc[s.str.isdigit()].astype(np.int8).describe()\n"
   ]
  },
  {
   "cell_type": "code",
   "execution_count": 36,
   "id": "ecdb54e6",
   "metadata": {},
   "outputs": [
    {
     "data": {
      "text/plain": [
       "0    10\n",
       "1    20\n",
       "2    30\n",
       "3    40\n",
       "4    50\n",
       "dtype: object"
      ]
     },
     "execution_count": 36,
     "metadata": {},
     "output_type": "execute_result"
    }
   ],
   "source": [
    "s = Series('10 20 30 40 50'.split())\n",
    "s"
   ]
  },
  {
   "cell_type": "code",
   "execution_count": 37,
   "id": "19d8513a",
   "metadata": {},
   "outputs": [
    {
     "data": {
      "text/plain": [
       "204060810.0"
      ]
     },
     "execution_count": 37,
     "metadata": {},
     "output_type": "execute_result"
    }
   ],
   "source": [
    "s.mean()"
   ]
  },
  {
   "cell_type": "code",
   "execution_count": 38,
   "id": "520534f8",
   "metadata": {},
   "outputs": [
    {
     "data": {
      "text/plain": [
       "'1020304050'"
      ]
     },
     "execution_count": 38,
     "metadata": {},
     "output_type": "execute_result"
    }
   ],
   "source": [
    "s.sum()"
   ]
  },
  {
   "cell_type": "markdown",
   "id": "b3dcec5f",
   "metadata": {},
   "source": [
    "# Next up:\n",
    "\n",
    "1. Textual statistics\n",
    "2. Trimming strings\n",
    "3. `contains` "
   ]
  },
  {
   "cell_type": "code",
   "execution_count": 39,
   "id": "cd4a9c1c",
   "metadata": {},
   "outputs": [],
   "source": [
    "filename = '/Users/reuven/Courses/Current/data/winemag-150k-reviews.csv'\n",
    "\n",
    "df = pd.read_csv(filename)"
   ]
  },
  {
   "cell_type": "code",
   "execution_count": 40,
   "id": "d1e3e4c3",
   "metadata": {},
   "outputs": [
    {
     "data": {
      "text/html": [
       "<div>\n",
       "<style scoped>\n",
       "    .dataframe tbody tr th:only-of-type {\n",
       "        vertical-align: middle;\n",
       "    }\n",
       "\n",
       "    .dataframe tbody tr th {\n",
       "        vertical-align: top;\n",
       "    }\n",
       "\n",
       "    .dataframe thead th {\n",
       "        text-align: right;\n",
       "    }\n",
       "</style>\n",
       "<table border=\"1\" class=\"dataframe\">\n",
       "  <thead>\n",
       "    <tr style=\"text-align: right;\">\n",
       "      <th></th>\n",
       "      <th>Unnamed: 0</th>\n",
       "      <th>country</th>\n",
       "      <th>description</th>\n",
       "      <th>designation</th>\n",
       "      <th>points</th>\n",
       "      <th>price</th>\n",
       "      <th>province</th>\n",
       "      <th>region_1</th>\n",
       "      <th>region_2</th>\n",
       "      <th>variety</th>\n",
       "      <th>winery</th>\n",
       "    </tr>\n",
       "  </thead>\n",
       "  <tbody>\n",
       "    <tr>\n",
       "      <th>0</th>\n",
       "      <td>0</td>\n",
       "      <td>US</td>\n",
       "      <td>This tremendous 100% varietal wine hails from ...</td>\n",
       "      <td>Martha's Vineyard</td>\n",
       "      <td>96</td>\n",
       "      <td>235.0</td>\n",
       "      <td>California</td>\n",
       "      <td>Napa Valley</td>\n",
       "      <td>Napa</td>\n",
       "      <td>Cabernet Sauvignon</td>\n",
       "      <td>Heitz</td>\n",
       "    </tr>\n",
       "    <tr>\n",
       "      <th>1</th>\n",
       "      <td>1</td>\n",
       "      <td>Spain</td>\n",
       "      <td>Ripe aromas of fig, blackberry and cassis are ...</td>\n",
       "      <td>Carodorum Selección Especial Reserva</td>\n",
       "      <td>96</td>\n",
       "      <td>110.0</td>\n",
       "      <td>Northern Spain</td>\n",
       "      <td>Toro</td>\n",
       "      <td>NaN</td>\n",
       "      <td>Tinta de Toro</td>\n",
       "      <td>Bodega Carmen Rodríguez</td>\n",
       "    </tr>\n",
       "    <tr>\n",
       "      <th>2</th>\n",
       "      <td>2</td>\n",
       "      <td>US</td>\n",
       "      <td>Mac Watson honors the memory of a wine once ma...</td>\n",
       "      <td>Special Selected Late Harvest</td>\n",
       "      <td>96</td>\n",
       "      <td>90.0</td>\n",
       "      <td>California</td>\n",
       "      <td>Knights Valley</td>\n",
       "      <td>Sonoma</td>\n",
       "      <td>Sauvignon Blanc</td>\n",
       "      <td>Macauley</td>\n",
       "    </tr>\n",
       "    <tr>\n",
       "      <th>3</th>\n",
       "      <td>3</td>\n",
       "      <td>US</td>\n",
       "      <td>This spent 20 months in 30% new French oak, an...</td>\n",
       "      <td>Reserve</td>\n",
       "      <td>96</td>\n",
       "      <td>65.0</td>\n",
       "      <td>Oregon</td>\n",
       "      <td>Willamette Valley</td>\n",
       "      <td>Willamette Valley</td>\n",
       "      <td>Pinot Noir</td>\n",
       "      <td>Ponzi</td>\n",
       "    </tr>\n",
       "    <tr>\n",
       "      <th>4</th>\n",
       "      <td>4</td>\n",
       "      <td>France</td>\n",
       "      <td>This is the top wine from La Bégude, named aft...</td>\n",
       "      <td>La Brûlade</td>\n",
       "      <td>95</td>\n",
       "      <td>66.0</td>\n",
       "      <td>Provence</td>\n",
       "      <td>Bandol</td>\n",
       "      <td>NaN</td>\n",
       "      <td>Provence red blend</td>\n",
       "      <td>Domaine de la Bégude</td>\n",
       "    </tr>\n",
       "  </tbody>\n",
       "</table>\n",
       "</div>"
      ],
      "text/plain": [
       "   Unnamed: 0 country                                        description  \\\n",
       "0           0      US  This tremendous 100% varietal wine hails from ...   \n",
       "1           1   Spain  Ripe aromas of fig, blackberry and cassis are ...   \n",
       "2           2      US  Mac Watson honors the memory of a wine once ma...   \n",
       "3           3      US  This spent 20 months in 30% new French oak, an...   \n",
       "4           4  France  This is the top wine from La Bégude, named aft...   \n",
       "\n",
       "                            designation  points  price        province  \\\n",
       "0                     Martha's Vineyard      96  235.0      California   \n",
       "1  Carodorum Selección Especial Reserva      96  110.0  Northern Spain   \n",
       "2         Special Selected Late Harvest      96   90.0      California   \n",
       "3                               Reserve      96   65.0          Oregon   \n",
       "4                            La Brûlade      95   66.0        Provence   \n",
       "\n",
       "            region_1           region_2             variety  \\\n",
       "0        Napa Valley               Napa  Cabernet Sauvignon   \n",
       "1               Toro                NaN       Tinta de Toro   \n",
       "2     Knights Valley             Sonoma     Sauvignon Blanc   \n",
       "3  Willamette Valley  Willamette Valley          Pinot Noir   \n",
       "4             Bandol                NaN  Provence red blend   \n",
       "\n",
       "                    winery  \n",
       "0                    Heitz  \n",
       "1  Bodega Carmen Rodríguez  \n",
       "2                 Macauley  \n",
       "3                    Ponzi  \n",
       "4     Domaine de la Bégude  "
      ]
     },
     "execution_count": 40,
     "metadata": {},
     "output_type": "execute_result"
    }
   ],
   "source": [
    "df.head()"
   ]
  },
  {
   "cell_type": "code",
   "execution_count": null,
   "id": "1d70a2be",
   "metadata": {},
   "outputs": [],
   "source": []
  }
 ],
 "metadata": {
  "kernelspec": {
   "display_name": "Python 3 (ipykernel)",
   "language": "python",
   "name": "python3"
  },
  "language_info": {
   "codemirror_mode": {
    "name": "ipython",
    "version": 3
   },
   "file_extension": ".py",
   "mimetype": "text/x-python",
   "name": "python",
   "nbconvert_exporter": "python",
   "pygments_lexer": "ipython3",
   "version": "3.11.0"
  }
 },
 "nbformat": 4,
 "nbformat_minor": 5
}
