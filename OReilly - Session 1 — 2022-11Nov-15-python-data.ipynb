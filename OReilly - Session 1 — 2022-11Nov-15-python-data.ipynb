{
 "cells": [
  {
   "cell_type": "markdown",
   "metadata": {},
   "source": [
    "# Agenda: The full course\n",
    "\n",
    "1. Getting started\n",
    "    - What is data analytics?\n",
    "    - What is Pandas?\n",
    "    - Descriptive statistics\n",
    "    - Pandas series \n",
    "    - Retrieving values\n",
    "    - Setting values\n",
    "    - Broadcasting operations\n",
    "    - Mask arrays (boolean arrays) for retrieving selected values\n",
    "    - Indexes\n",
    "    - Some useful methods\n",
    "2. Data frames, for 2-dimensional data\n",
    "3. Real-world data\n",
    "4. Text data and date/time data\n",
    "5. Visualization"
   ]
  },
  {
   "cell_type": "markdown",
   "metadata": {},
   "source": [
    "# Jupyter\n",
    "\n",
    "I see Jupyter as my Python laboratory -- I can try things, and then if they don't work, I can modify my experiment and try again.\n",
    "\n",
    "Everything in Jupyter is done in a \"cell.\" We have two types of cells:\n",
    "\n",
    "- Code cells, in which we can run Python code\n",
    "- Markdown cells, in which we have Markdown text, which turns into HTML very nicely\n",
    "\n",
    "When I press Enter, I go down one line. But when I press shift+Enter together, the cell executes -- which, if it's a code cell, actually runs the Python.  And if it's a Markdown cell, then it gets formatted."
   ]
  },
  {
   "cell_type": "markdown",
   "metadata": {},
   "source": [
    "# Two modes in Jupyter\n",
    "\n",
    "- Edit mode -- this allows us to type into Jupyter. The cell has a green outline. We can get into edit mode by clicking in the cell or by press ENTER.\n",
    "- Command mode -- this allows us to give Jupyter commands, typically one character long. The cell has a blue outline in this case. We can get into command mode by clicking to the left of the cell or pressing ESC.\n",
    "\n",
    "What can I do in command mode?\n",
    "\n",
    "- `m` -- turn the cell into a Markdown cell, for text\n",
    "- `y` -- turn the cell into a Python code cell, for programming\n",
    "- `c` -- copy the current cell\n",
    "- `x` -- cut the current cell\n",
    "- `v` -- paste the copied/cut cell\n",
    "- `h` -- get help, a full list of commands\n",
    "- `a` -- create a new cell *above* the current one\n",
    "- `b` -- create a new cell *below* the current one"
   ]
  },
  {
   "cell_type": "code",
   "execution_count": 2,
   "metadata": {},
   "outputs": [
    {
     "name": "stdout",
     "output_type": "stream",
     "text": [
      "Hello!\n"
     ]
    }
   ],
   "source": [
    "# this is Python code\n",
    "\n",
    "print('Hello!')   # shift+enter sends the cell's contents to the back-end Python process, where it runs"
   ]
  },
  {
   "cell_type": "markdown",
   "metadata": {},
   "source": [
    "# What is data science?\n",
    "\n",
    "There is no one definition! (So everyone can choose the definition that they like.)\n",
    "\n",
    "I define data science as data analytics + (data engineering +) machine learning.\n",
    "\n",
    "- Data analytics -- we have a bunch of data. We want to understand it.  For example: Who bought from our store? What time do people use the train? How much do people spend on taxis?\n",
    "- Data engineering -- the data all exists in one place, and is very messy.  How can we easily and efficiently get it from its current location to our systems, cleaning it up along the way?\n",
    "- Machine learning -- let's use this existing data to make projections/predictions about the future.  How many people will buy at our Black Friday sale? How many toll collectors do we need at 6 a.m. on Sunday?  If we hear a certain soundwave, can we predict the meaning? If we see a picture, can we accurately predict the animal in the picture?\n",
    "\n",
    "In this class, we'll be talking about how to use Python and Pandas for data analytics.\n",
    "\n",
    "Data science is all about asking questions and using scientific or scientific-like methods to answer our questions."
   ]
  },
  {
   "cell_type": "markdown",
   "metadata": {},
   "source": [
    "# Exercise: \n",
    "\n",
    "1. What kinds of data does Amazon have?\n",
    "2. What sorts of questions can they ask of that data?"
   ]
  },
  {
   "cell_type": "markdown",
   "metadata": {},
   "source": [
    "# Python and Pandas\n",
    "\n",
    "Python has been around for about 30 years. It's a fantastic high-level programming language.\n",
    "\n",
    "But it is *not* very fast or efficient, certainly not compared with C, Java, and C#.  It takes far more time, and it uses far more memory than these other languages.\n",
    "\n",
    "So: Why would we use Python?  Just because it's fun and easy to use?\n",
    "\n",
    "No: A library called NumPy provides us with a Python interface to C-language data structures. So we have the speed and efficiency of C, but the ease of use of Python.\n",
    "\n",
    "NumPy is still very popular and very useful. But it can be a bit low level for many people. Enter Pandas, which is a wrapper around NumPy that makes it easier to use and more convenient.\n",
    "\n",
    "I call Pandas the automatic transmission to NumPy's stick shift.\n",
    "\n",
    "We're going to use Pandas, but we will occasionally see hints of NumPy under the hood."
   ]
  },
  {
   "cell_type": "code",
   "execution_count": 3,
   "metadata": {},
   "outputs": [],
   "source": [
    "# we have to load Pandas (and also NumPy)\n",
    "\n",
    "# I very strongly encourage you to load NumPy and Pandas and give them these very standard aliases\n",
    "\n",
    "import numpy as np\n",
    "import pandas as pd\n",
    "from pandas import Series   # this allows me to avoid saying pd.Series; I can just say Series"
   ]
  },
  {
   "cell_type": "code",
   "execution_count": 4,
   "metadata": {},
   "outputs": [],
   "source": [
    "# I'll create a Pandas series with 5 integers\n",
    "# I do this by creating a new Series, passing it a Python list of integers\n",
    "\n",
    "s = Series([10, 20, 30, 40, 50])"
   ]
  },
  {
   "cell_type": "code",
   "execution_count": 5,
   "metadata": {},
   "outputs": [
    {
     "data": {
      "text/plain": [
       "pandas.core.series.Series"
      ]
     },
     "execution_count": 5,
     "metadata": {},
     "output_type": "execute_result"
    }
   ],
   "source": [
    "# we see that s isn't a list, but rather a Pandas series:\n",
    "\n",
    "type(s)"
   ]
  },
  {
   "cell_type": "code",
   "execution_count": 6,
   "metadata": {},
   "outputs": [
    {
     "data": {
      "text/plain": [
       "0    10\n",
       "1    20\n",
       "2    30\n",
       "3    40\n",
       "4    50\n",
       "dtype: int64"
      ]
     },
     "execution_count": 6,
     "metadata": {},
     "output_type": "execute_result"
    }
   ],
   "source": [
    "# let's take a look at s\n",
    "# note: in Jupyter, I don't have to use print to see something. The final line of a cell,\n",
    "# if it returns a value, is displayed automatically.\n",
    "\n",
    "s"
   ]
  },
  {
   "cell_type": "markdown",
   "metadata": {},
   "source": [
    "# Series\n",
    "\n",
    "A series contains values, and also has an index. The index, by default, is integers that start at 0 and go all the way to the series length - 1.\n",
    "\n",
    "We can have almost any data types we want in the series, but we'll soon see that we normally will stick to a limited set, matching C's data types\n",
    "\n",
    "Series are always displayed in this way, with the index and values in two parallel columns. At the end, we see the \"dtype,\" describing the type of data that's in our series.  For now, we'll mostly (not always) have 64-bit integers, known as int64."
   ]
  },
  {
   "cell_type": "code",
   "execution_count": 7,
   "metadata": {},
   "outputs": [
    {
     "data": {
      "text/plain": [
       "10"
      ]
     },
     "execution_count": 7,
     "metadata": {},
     "output_type": "execute_result"
    }
   ],
   "source": [
    "# in some ways, a series is like a Python list\n",
    "\n",
    "s[0]"
   ]
  },
  {
   "cell_type": "code",
   "execution_count": 8,
   "metadata": {},
   "outputs": [
    {
     "data": {
      "text/plain": [
       "20"
      ]
     },
     "execution_count": 8,
     "metadata": {},
     "output_type": "execute_result"
    }
   ],
   "source": [
    "s[1]"
   ]
  },
  {
   "cell_type": "code",
   "execution_count": 10,
   "metadata": {},
   "outputs": [
    {
     "ename": "KeyError",
     "evalue": "-1",
     "output_type": "error",
     "traceback": [
      "\u001b[0;31m---------------------------------------------------------------------------\u001b[0m",
      "\u001b[0;31mValueError\u001b[0m                                Traceback (most recent call last)",
      "File \u001b[0;32m/usr/local/lib/python3.11/site-packages/pandas/core/indexes/range.py:391\u001b[0m, in \u001b[0;36mRangeIndex.get_loc\u001b[0;34m(self, key, method, tolerance)\u001b[0m\n\u001b[1;32m    390\u001b[0m \u001b[38;5;28;01mtry\u001b[39;00m:\n\u001b[0;32m--> 391\u001b[0m     \u001b[38;5;28;01mreturn\u001b[39;00m \u001b[38;5;28;43mself\u001b[39;49m\u001b[38;5;241;43m.\u001b[39;49m\u001b[43m_range\u001b[49m\u001b[38;5;241;43m.\u001b[39;49m\u001b[43mindex\u001b[49m\u001b[43m(\u001b[49m\u001b[43mnew_key\u001b[49m\u001b[43m)\u001b[49m\n\u001b[1;32m    392\u001b[0m \u001b[38;5;28;01mexcept\u001b[39;00m \u001b[38;5;167;01mValueError\u001b[39;00m \u001b[38;5;28;01mas\u001b[39;00m err:\n",
      "\u001b[0;31mValueError\u001b[0m: -1 is not in range",
      "\nThe above exception was the direct cause of the following exception:\n",
      "\u001b[0;31mKeyError\u001b[0m                                  Traceback (most recent call last)",
      "Cell \u001b[0;32mIn [10], line 4\u001b[0m\n\u001b[1;32m      1\u001b[0m \u001b[38;5;66;03m# can I get the final element with s[-1]?\u001b[39;00m\n\u001b[1;32m      2\u001b[0m \u001b[38;5;66;03m# no... not quite like a list\u001b[39;00m\n\u001b[0;32m----> 4\u001b[0m \u001b[43ms\u001b[49m\u001b[43m[\u001b[49m\u001b[38;5;241;43m-\u001b[39;49m\u001b[38;5;241;43m1\u001b[39;49m\u001b[43m]\u001b[49m\n",
      "File \u001b[0;32m/usr/local/lib/python3.11/site-packages/pandas/core/series.py:981\u001b[0m, in \u001b[0;36mSeries.__getitem__\u001b[0;34m(self, key)\u001b[0m\n\u001b[1;32m    978\u001b[0m     \u001b[38;5;28;01mreturn\u001b[39;00m \u001b[38;5;28mself\u001b[39m\u001b[38;5;241m.\u001b[39m_values[key]\n\u001b[1;32m    980\u001b[0m \u001b[38;5;28;01melif\u001b[39;00m key_is_scalar:\n\u001b[0;32m--> 981\u001b[0m     \u001b[38;5;28;01mreturn\u001b[39;00m \u001b[38;5;28;43mself\u001b[39;49m\u001b[38;5;241;43m.\u001b[39;49m\u001b[43m_get_value\u001b[49m\u001b[43m(\u001b[49m\u001b[43mkey\u001b[49m\u001b[43m)\u001b[49m\n\u001b[1;32m    983\u001b[0m \u001b[38;5;28;01mif\u001b[39;00m is_hashable(key):\n\u001b[1;32m    984\u001b[0m     \u001b[38;5;66;03m# Otherwise index.get_value will raise InvalidIndexError\u001b[39;00m\n\u001b[1;32m    985\u001b[0m     \u001b[38;5;28;01mtry\u001b[39;00m:\n\u001b[1;32m    986\u001b[0m         \u001b[38;5;66;03m# For labels that don't resolve as scalars like tuples and frozensets\u001b[39;00m\n",
      "File \u001b[0;32m/usr/local/lib/python3.11/site-packages/pandas/core/series.py:1089\u001b[0m, in \u001b[0;36mSeries._get_value\u001b[0;34m(self, label, takeable)\u001b[0m\n\u001b[1;32m   1086\u001b[0m     \u001b[38;5;28;01mreturn\u001b[39;00m \u001b[38;5;28mself\u001b[39m\u001b[38;5;241m.\u001b[39m_values[label]\n\u001b[1;32m   1088\u001b[0m \u001b[38;5;66;03m# Similar to Index.get_value, but we do not fall back to positional\u001b[39;00m\n\u001b[0;32m-> 1089\u001b[0m loc \u001b[38;5;241m=\u001b[39m \u001b[38;5;28;43mself\u001b[39;49m\u001b[38;5;241;43m.\u001b[39;49m\u001b[43mindex\u001b[49m\u001b[38;5;241;43m.\u001b[39;49m\u001b[43mget_loc\u001b[49m\u001b[43m(\u001b[49m\u001b[43mlabel\u001b[49m\u001b[43m)\u001b[49m\n\u001b[1;32m   1090\u001b[0m \u001b[38;5;28;01mreturn\u001b[39;00m \u001b[38;5;28mself\u001b[39m\u001b[38;5;241m.\u001b[39mindex\u001b[38;5;241m.\u001b[39m_get_values_for_loc(\u001b[38;5;28mself\u001b[39m, loc, label)\n",
      "File \u001b[0;32m/usr/local/lib/python3.11/site-packages/pandas/core/indexes/range.py:393\u001b[0m, in \u001b[0;36mRangeIndex.get_loc\u001b[0;34m(self, key, method, tolerance)\u001b[0m\n\u001b[1;32m    391\u001b[0m         \u001b[38;5;28;01mreturn\u001b[39;00m \u001b[38;5;28mself\u001b[39m\u001b[38;5;241m.\u001b[39m_range\u001b[38;5;241m.\u001b[39mindex(new_key)\n\u001b[1;32m    392\u001b[0m     \u001b[38;5;28;01mexcept\u001b[39;00m \u001b[38;5;167;01mValueError\u001b[39;00m \u001b[38;5;28;01mas\u001b[39;00m err:\n\u001b[0;32m--> 393\u001b[0m         \u001b[38;5;28;01mraise\u001b[39;00m \u001b[38;5;167;01mKeyError\u001b[39;00m(key) \u001b[38;5;28;01mfrom\u001b[39;00m \u001b[38;5;21;01merr\u001b[39;00m\n\u001b[1;32m    394\u001b[0m \u001b[38;5;28mself\u001b[39m\u001b[38;5;241m.\u001b[39m_check_indexing_error(key)\n\u001b[1;32m    395\u001b[0m \u001b[38;5;28;01mraise\u001b[39;00m \u001b[38;5;167;01mKeyError\u001b[39;00m(key)\n",
      "\u001b[0;31mKeyError\u001b[0m: -1"
     ]
    }
   ],
   "source": [
    "# can I get the final element with s[-1]?\n",
    "# no... not quite like a list\n",
    "\n",
    "s[-1]"
   ]
  },
  {
   "cell_type": "code",
   "execution_count": 11,
   "metadata": {},
   "outputs": [
    {
     "data": {
      "text/plain": [
       "0    10\n",
       "1    20\n",
       "2    30\n",
       "3    40\n",
       "4    50\n",
       "dtype: int64"
      ]
     },
     "execution_count": 11,
     "metadata": {},
     "output_type": "execute_result"
    }
   ],
   "source": [
    "s"
   ]
  },
  {
   "cell_type": "code",
   "execution_count": 12,
   "metadata": {},
   "outputs": [
    {
     "data": {
      "text/plain": [
       "20"
      ]
     },
     "execution_count": 12,
     "metadata": {},
     "output_type": "execute_result"
    }
   ],
   "source": [
    "s[0] + 10"
   ]
  },
  {
   "cell_type": "code",
   "execution_count": 13,
   "metadata": {},
   "outputs": [
    {
     "data": {
      "text/plain": [
       "0     20\n",
       "1     40\n",
       "2     60\n",
       "3     80\n",
       "4    100\n",
       "dtype: int64"
      ]
     },
     "execution_count": 13,
     "metadata": {},
     "output_type": "execute_result"
    }
   ],
   "source": [
    "s + s  # can I add a series to itself?  And if so, what do I get back?"
   ]
  },
  {
   "cell_type": "code",
   "execution_count": 14,
   "metadata": {},
   "outputs": [
    {
     "data": {
      "text/plain": [
       "0    110\n",
       "1    220\n",
       "2    330\n",
       "3    440\n",
       "4    550\n",
       "dtype: int64"
      ]
     },
     "execution_count": 14,
     "metadata": {},
     "output_type": "execute_result"
    }
   ],
   "source": [
    "# the result of adding a series to itself is a new series,\n",
    "# one with the same length (and thus index) as before, but in which\n",
    "# the values are doubled from before.\n",
    "\n",
    "# what about adding two different series together?\n",
    "\n",
    "s1 = Series([10, 20, 30, 40, 50])\n",
    "s2 = Series([100, 200, 300, 400, 500])\n",
    "\n",
    "s1 + s2"
   ]
  },
  {
   "cell_type": "code",
   "execution_count": 15,
   "metadata": {},
   "outputs": [
    {
     "data": {
      "text/plain": [
       "0    133.0\n",
       "1    476.0\n",
       "2    819.0\n",
       "3      NaN\n",
       "4      NaN\n",
       "dtype: float64"
      ]
     },
     "execution_count": 15,
     "metadata": {},
     "output_type": "execute_result"
    }
   ],
   "source": [
    "# what if the two series are not the same length?\n",
    "\n",
    "s3 = Series([123, 456, 789])\n",
    "\n",
    "s1 + s3  # it works... but we get NaN (\"not a number\") back"
   ]
  },
  {
   "cell_type": "code",
   "execution_count": 16,
   "metadata": {},
   "outputs": [
    {
     "data": {
      "text/plain": [
       "0    110\n",
       "1    220\n",
       "2    330\n",
       "3    440\n",
       "4    550\n",
       "dtype: int64"
      ]
     },
     "execution_count": 16,
     "metadata": {},
     "output_type": "execute_result"
    }
   ],
   "source": [
    "# all operations in Pandas are *vectorized*\n",
    "# meaning: When I perform an operation on a series, I'm not running it on a single value in the series\n",
    "# the operation is repeated for every single element.\n",
    "\n",
    "# if I say s1 + s2, I get a new series back based on s1 and s2, but not modifying them\n",
    "s1 + s2"
   ]
  },
  {
   "cell_type": "code",
   "execution_count": 17,
   "metadata": {},
   "outputs": [
    {
     "data": {
      "text/plain": [
       "0    110\n",
       "1    220\n",
       "2    330\n",
       "3    440\n",
       "4    550\n",
       "dtype: int64"
      ]
     },
     "execution_count": 17,
     "metadata": {},
     "output_type": "execute_result"
    }
   ],
   "source": [
    "# I can, of course, assign the sum back to s1 (or any other variable, including a new one)\n",
    "\n",
    "series_sum = s1 + s2\n",
    "series_sum"
   ]
  },
  {
   "cell_type": "code",
   "execution_count": 18,
   "metadata": {},
   "outputs": [
    {
     "data": {
      "text/plain": [
       "0    110\n",
       "1    220\n",
       "2    330\n",
       "3    440\n",
       "4    550\n",
       "dtype: int64"
      ]
     },
     "execution_count": 18,
     "metadata": {},
     "output_type": "execute_result"
    }
   ],
   "source": [
    "# I can use all of our favorite Python operators on two series\n",
    "\n",
    "s1 + s2"
   ]
  },
  {
   "cell_type": "code",
   "execution_count": 19,
   "metadata": {},
   "outputs": [
    {
     "data": {
      "text/plain": [
       "0    -90\n",
       "1   -180\n",
       "2   -270\n",
       "3   -360\n",
       "4   -450\n",
       "dtype: int64"
      ]
     },
     "execution_count": 19,
     "metadata": {},
     "output_type": "execute_result"
    }
   ],
   "source": [
    "s1 - s2"
   ]
  },
  {
   "cell_type": "code",
   "execution_count": 20,
   "metadata": {},
   "outputs": [
    {
     "data": {
      "text/plain": [
       "0     1000\n",
       "1     4000\n",
       "2     9000\n",
       "3    16000\n",
       "4    25000\n",
       "dtype: int64"
      ]
     },
     "execution_count": 20,
     "metadata": {},
     "output_type": "execute_result"
    }
   ],
   "source": [
    "s1 * s2"
   ]
  },
  {
   "cell_type": "code",
   "execution_count": 21,
   "metadata": {},
   "outputs": [
    {
     "data": {
      "text/plain": [
       "0    0.1\n",
       "1    0.1\n",
       "2    0.1\n",
       "3    0.1\n",
       "4    0.1\n",
       "dtype: float64"
      ]
     },
     "execution_count": 21,
     "metadata": {},
     "output_type": "execute_result"
    }
   ],
   "source": [
    "s1 / s2   # notice that division always returns a float... so we'll get back floating-point numbers (and dtype)"
   ]
  },
  {
   "cell_type": "code",
   "execution_count": 22,
   "metadata": {},
   "outputs": [
    {
     "data": {
      "text/plain": [
       "0    0\n",
       "1    0\n",
       "2    0\n",
       "3    0\n",
       "4    0\n",
       "dtype: int64"
      ]
     },
     "execution_count": 22,
     "metadata": {},
     "output_type": "execute_result"
    }
   ],
   "source": [
    "# Python has a // operator, which returns an int from division, ignoring the remainder\n",
    "\n",
    "s1 // s2"
   ]
  },
  {
   "cell_type": "code",
   "execution_count": 23,
   "metadata": {},
   "outputs": [
    {
     "data": {
      "text/plain": [
       "0    0\n",
       "1    0\n",
       "2    0\n",
       "3    0\n",
       "4    0\n",
       "dtype: int64"
      ]
     },
     "execution_count": 23,
     "metadata": {},
     "output_type": "execute_result"
    }
   ],
   "source": [
    "s1 ** s2   # s1 to the s2 power"
   ]
  },
  {
   "cell_type": "code",
   "execution_count": 25,
   "metadata": {},
   "outputs": [
    {
     "data": {
      "text/plain": [
       "0    10\n",
       "1    20\n",
       "2    30\n",
       "3    40\n",
       "4    50\n",
       "dtype: int64"
      ]
     },
     "execution_count": 25,
     "metadata": {},
     "output_type": "execute_result"
    }
   ],
   "source": [
    "s1 % s2    # divide s1 by s2, return the remainder"
   ]
  },
  {
   "cell_type": "markdown",
   "metadata": {},
   "source": [
    "# Exercise: Temperature differences\n",
    "\n",
    "1. Find a web site with the 10-day forecast for your city, including high and low temperatures.\n",
    "2. Create a series with the high temperatures\n",
    "3. Create another series with the low temperatures\n",
    "4. Create a new series showing how much higher the high temp is each day."
   ]
  },
  {
   "cell_type": "code",
   "execution_count": 26,
   "metadata": {},
   "outputs": [],
   "source": [
    "# we're working on this exercise for about 5 minutes... that's why it's quiet... but you can ask in the Q&A!"
   ]
  },
  {
   "cell_type": "code",
   "execution_count": 27,
   "metadata": {},
   "outputs": [],
   "source": [
    "high_temps = Series([18, 20, 21, 23, 25, 25, 26, 23, 23, 24])\n",
    "low_temps = Series([14, 14, 13, 13, 14, 15, 15, 14, 14, 14])\n"
   ]
  },
  {
   "cell_type": "code",
   "execution_count": 28,
   "metadata": {},
   "outputs": [
    {
     "data": {
      "text/plain": [
       "0    18\n",
       "1    20\n",
       "2    21\n",
       "3    23\n",
       "4    25\n",
       "5    25\n",
       "6    26\n",
       "7    23\n",
       "8    23\n",
       "9    24\n",
       "dtype: int64"
      ]
     },
     "execution_count": 28,
     "metadata": {},
     "output_type": "execute_result"
    }
   ],
   "source": [
    "high_temps"
   ]
  },
  {
   "cell_type": "code",
   "execution_count": 29,
   "metadata": {},
   "outputs": [
    {
     "data": {
      "text/plain": [
       "0    14\n",
       "1    14\n",
       "2    13\n",
       "3    13\n",
       "4    14\n",
       "5    15\n",
       "6    15\n",
       "7    14\n",
       "8    14\n",
       "9    14\n",
       "dtype: int64"
      ]
     },
     "execution_count": 29,
     "metadata": {},
     "output_type": "execute_result"
    }
   ],
   "source": [
    "low_temps"
   ]
  },
  {
   "cell_type": "code",
   "execution_count": 30,
   "metadata": {},
   "outputs": [
    {
     "data": {
      "text/plain": [
       "0     4\n",
       "1     6\n",
       "2     8\n",
       "3    10\n",
       "4    11\n",
       "5    10\n",
       "6    11\n",
       "7     9\n",
       "8     9\n",
       "9    10\n",
       "dtype: int64"
      ]
     },
     "execution_count": 30,
     "metadata": {},
     "output_type": "execute_result"
    }
   ],
   "source": [
    "high_temps - low_temps"
   ]
  },
  {
   "cell_type": "markdown",
   "metadata": {},
   "source": [
    "# Next up\n",
    "\n",
    "1. Descriptive statistics\n",
    "2. Aggregate methods we can run on a series\n",
    "3. Setting and retreiving values with .loc, fancy indexing, and slices"
   ]
  },
  {
   "cell_type": "markdown",
   "metadata": {},
   "source": [
    "# Random data\n",
    "\n",
    "We will use some manually entered data in this course, especially today and next week.  But sometimes I'll just want to show you some basic data, and using random data is useful.\n",
    "\n",
    "NumPy (the lower-level library) can create an array of random integers very easily.  We can say:\n",
    "\n",
    "    np.random.randint(0, 100, 5) \n",
    "    \n",
    "The above code returns 5 integers, from 0 up to and not including 100.      We can hand that to `Series`:\n",
    "\n"
   ]
  },
  {
   "cell_type": "code",
   "execution_count": 35,
   "metadata": {},
   "outputs": [
    {
     "data": {
      "text/plain": [
       "0    44\n",
       "1    47\n",
       "2    64\n",
       "3    67\n",
       "4    67\n",
       "dtype: int64"
      ]
     },
     "execution_count": 35,
     "metadata": {},
     "output_type": "execute_result"
    }
   ],
   "source": [
    "np.random.seed(0)    # reset the random-number system to a known state\n",
    "\n",
    "s = Series(np.random.randint(0, 100, 5))\n",
    "s"
   ]
  },
  {
   "cell_type": "code",
   "execution_count": 36,
   "metadata": {},
   "outputs": [
    {
     "data": {
      "text/plain": [
       "0    44\n",
       "1    47\n",
       "2    64\n",
       "3    67\n",
       "4    67\n",
       "5     9\n",
       "6    83\n",
       "7    21\n",
       "8    36\n",
       "9    87\n",
       "dtype: int64"
      ]
     },
     "execution_count": 36,
     "metadata": {},
     "output_type": "execute_result"
    }
   ],
   "source": [
    "# let's create a series of 10 numbers\n",
    "\n",
    "np.random.seed(0)    # seed the pseudo-random function with a known starting point, so that we'll known what numbers it'll give us\n",
    "s = Series(np.random.randint(0, 100, 10))\n",
    "\n",
    "s"
   ]
  },
  {
   "cell_type": "markdown",
   "metadata": {},
   "source": [
    "# Descriptive statistics\n",
    "\n",
    "We see our numbers in `s`, but how would we describe them? What attributes can we describe in our series that'll be useful to someone else?\n",
    "\n",
    "What can we say about our data that would be useful to someone who wants to understand it better? Remember that this is a collection of numbers. So anything general we say will be a little wrong, but it will help with overall understanding.\n",
    "\n",
    "We could list:\n",
    "- The lowest number\n",
    "- The highest number\n",
    "- The middle number\n",
    "- How much do the numbers spread out from the middle?\n",
    "\n",
    "Indeed, these numbers are exactly what we're going to use to describe our data. They are actually known as \"descriptive statistics,\" giving us a numeric picture of our data."
   ]
  }
 ],
 "metadata": {
  "kernelspec": {
   "display_name": "Python 3 (ipykernel)",
   "language": "python",
   "name": "python3"
  },
  "language_info": {
   "codemirror_mode": {
    "name": "ipython",
    "version": 3
   },
   "file_extension": ".py",
   "mimetype": "text/x-python",
   "name": "python",
   "nbconvert_exporter": "python",
   "pygments_lexer": "ipython3",
   "version": "3.11.0"
  }
 },
 "nbformat": 4,
 "nbformat_minor": 4
}
