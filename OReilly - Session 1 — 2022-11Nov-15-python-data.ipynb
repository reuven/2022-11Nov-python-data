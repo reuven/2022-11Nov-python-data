{
 "cells": [
  {
   "cell_type": "markdown",
   "metadata": {},
   "source": [
    "# Agenda: The full course\n",
    "\n",
    "1. Getting started\n",
    "    - What is data analytics?\n",
    "    - What is Pandas?\n",
    "    - Descriptive statistics\n",
    "    - Pandas series \n",
    "    - Retrieving values\n",
    "    - Setting values\n",
    "    - Broadcasting operations\n",
    "    - Mask arrays (boolean arrays) for retrieving selected values\n",
    "    - Indexes\n",
    "    - Some useful methods\n",
    "2. Data frames, for 2-dimensional data\n",
    "3. \n",
    "4. \n",
    "5. \n",
    "\n"
   ]
  },
  {
   "cell_type": "code",
   "execution_count": null,
   "metadata": {},
   "outputs": [],
   "source": []
  }
 ],
 "metadata": {
  "kernelspec": {
   "display_name": "Python 3 (ipykernel)",
   "language": "python",
   "name": "python3"
  },
  "language_info": {
   "codemirror_mode": {
    "name": "ipython",
    "version": 3
   },
   "file_extension": ".py",
   "mimetype": "text/x-python",
   "name": "python",
   "nbconvert_exporter": "python",
   "pygments_lexer": "ipython3",
   "version": "3.11.0"
  }
 },
 "nbformat": 4,
 "nbformat_minor": 4
}
