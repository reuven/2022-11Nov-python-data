{
 "cells": [
  {
   "cell_type": "markdown",
   "metadata": {},
   "source": [
    "# Agenda: The full course\n",
    "\n",
    "1. Getting started\n",
    "    - What is data analytics?\n",
    "    - What is Pandas?\n",
    "    - Descriptive statistics\n",
    "    - Pandas series \n",
    "    - Retrieving values\n",
    "    - Setting values\n",
    "    - Broadcasting operations\n",
    "    - Mask arrays (boolean arrays) for retrieving selected values\n",
    "    - Indexes\n",
    "    - Some useful methods\n",
    "2. Data frames, for 2-dimensional data\n",
    "3. Real-world data\n",
    "4. Text data and date/time data\n",
    "5. Visualization"
   ]
  },
  {
   "cell_type": "markdown",
   "metadata": {},
   "source": [
    "# Jupyter\n",
    "\n",
    "I see Jupyter as my Python laboratory -- I can try things, and then if they don't work, I can modify my experiment and try again.\n",
    "\n",
    "Everything in Jupyter is done in a \"cell.\" We have two types of cells:\n",
    "\n",
    "- Code cells, in which we can run Python code\n",
    "- Markdown cells, in which we have Markdown text, which turns into HTML very nicely\n",
    "\n",
    "When I press Enter, I go down one line. But when I press shift+Enter together, the cell executes -- which, if it's a code cell, actually runs the Python.  And if it's a Markdown cell, then it gets formatted."
   ]
  },
  {
   "cell_type": "markdown",
   "metadata": {},
   "source": [
    "# Two modes in Jupyter\n",
    "\n",
    "- Edit mode -- this allows us to type into Jupyter. The cell has a green outline. We can get into edit mode by clicking in the cell or by press ENTER.\n",
    "- Command mode -- this allows us to give Jupyter commands, typically one character long. The cell has a blue outline in this case. We can get into command mode by clicking to the left of the cell or pressing ESC.\n",
    "\n",
    "What can I do in command mode?\n",
    "\n",
    "- `m` -- turn the cell into a Markdown cell, for text\n",
    "- `y` -- turn the cell into a Python code cell, for programming\n",
    "- `c` -- copy the current cell\n",
    "- `x` -- cut the current cell\n",
    "- `v` -- paste the copied/cut cell\n",
    "- `h` -- get help, a full list of commands\n",
    "- `a` -- create a new cell *above* the current one\n",
    "- `b` -- create a new cell *below* the current one"
   ]
  },
  {
   "cell_type": "code",
   "execution_count": 2,
   "metadata": {},
   "outputs": [
    {
     "name": "stdout",
     "output_type": "stream",
     "text": [
      "Hello!\n"
     ]
    }
   ],
   "source": [
    "# this is Python code\n",
    "\n",
    "print('Hello!')   # shift+enter sends the cell's contents to the back-end Python process, where it runs"
   ]
  },
  {
   "cell_type": "code",
   "execution_count": null,
   "metadata": {},
   "outputs": [],
   "source": []
  }
 ],
 "metadata": {
  "kernelspec": {
   "display_name": "Python 3 (ipykernel)",
   "language": "python",
   "name": "python3"
  },
  "language_info": {
   "codemirror_mode": {
    "name": "ipython",
    "version": 3
   },
   "file_extension": ".py",
   "mimetype": "text/x-python",
   "name": "python",
   "nbconvert_exporter": "python",
   "pygments_lexer": "ipython3",
   "version": "3.11.0"
  }
 },
 "nbformat": 4,
 "nbformat_minor": 4
}
