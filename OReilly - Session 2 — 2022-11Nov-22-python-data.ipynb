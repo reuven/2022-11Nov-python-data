{
 "cells": [
  {
   "cell_type": "markdown",
   "id": "8d424297",
   "metadata": {},
   "source": [
    "# Agenda, week 2\n",
    "\n",
    "\n",
    "1. Recap and Q&A\n",
    "2. dtypes in Pandas\n",
    "     - What are they?\n",
    "     - How do they work?\n",
    "     - How do we change them?\n",
    "     - Why do we care?\n",
    "3. `NaN` -- \"not a number\"\n",
    "    - What is it?\n",
    "    - Why do we need it?\n",
    "    - How do we work with it?\n",
    "4. Data frames    \n",
    "    - Creating data frames\n",
    "    - Retrieving from them (rows vs. columns)\n",
    "    - `.loc` and `.iloc`\n",
    "5. Adding and removing data\n",
    "    - Add rows\n",
    "    - Add columns\n",
    "    - Remove rows\n",
    "    - Remove columns\n",
    "6. Useful methods and attributes    \n",
    "7. Using boolean (\"mask\") indexes to retrieve interesting data\n",
    "    - Using `.loc` with a row specifier + column specifier\n",
    "8. Reading data from CSV     "
   ]
  },
  {
   "cell_type": "markdown",
   "id": "f3a22dc8",
   "metadata": {},
   "source": [
    "# A quick review of last week's topics\n",
    "\n",
    "1. A series is a one-dimensional data structure\n",
    "2. The values in a series can be anything -- typically, text (strings), integers, or floats.\n",
    "3. The index of a series is, by default, just like in Python, starting at 0 and going to the length-1.  \n",
    "4. We can set the index of a series to be any values we want -- most typically integers, but we can use strings, too.\n",
    "5. Unlike most Python data structures, the index of a series can have repeated values."
   ]
  },
  {
   "cell_type": "code",
   "execution_count": 1,
   "id": "23fb9da7",
   "metadata": {},
   "outputs": [],
   "source": [
    "import numpy as np\n",
    "import pandas as pd\n",
    "from pandas import Series, DataFrame"
   ]
  },
  {
   "cell_type": "code",
   "execution_count": 3,
   "id": "fcc0cc4a",
   "metadata": {},
   "outputs": [],
   "source": [
    "np.random.seed(0)\n",
    "s1 = Series(np.random.randint(0, 100, 10),\n",
    "           index=list('abcdefghij'))\n",
    "s2 = Series(np.random.randint(0, 100, 10),\n",
    "           index=list('fghijfghij'))\n"
   ]
  },
  {
   "cell_type": "code",
   "execution_count": 4,
   "id": "2dd355ab",
   "metadata": {},
   "outputs": [
    {
     "data": {
      "text/plain": [
       "a    44\n",
       "b    47\n",
       "c    64\n",
       "d    67\n",
       "e    67\n",
       "f     9\n",
       "g    83\n",
       "h    21\n",
       "i    36\n",
       "j    87\n",
       "dtype: int64"
      ]
     },
     "execution_count": 4,
     "metadata": {},
     "output_type": "execute_result"
    }
   ],
   "source": [
    "s1"
   ]
  },
  {
   "cell_type": "code",
   "execution_count": 5,
   "id": "4fda8aa2",
   "metadata": {},
   "outputs": [
    {
     "data": {
      "text/plain": [
       "f    70\n",
       "g    88\n",
       "h    88\n",
       "i    12\n",
       "j    58\n",
       "f    65\n",
       "g    39\n",
       "h    87\n",
       "i    46\n",
       "j    88\n",
       "dtype: int64"
      ]
     },
     "execution_count": 5,
     "metadata": {},
     "output_type": "execute_result"
    }
   ],
   "source": [
    "s2"
   ]
  },
  {
   "cell_type": "code",
   "execution_count": 6,
   "id": "8c410581",
   "metadata": {},
   "outputs": [
    {
     "data": {
      "text/plain": [
       "47"
      ]
     },
     "execution_count": 6,
     "metadata": {},
     "output_type": "execute_result"
    }
   ],
   "source": [
    "s1.loc['b']"
   ]
  },
  {
   "cell_type": "code",
   "execution_count": 7,
   "id": "166d58fa",
   "metadata": {},
   "outputs": [
    {
     "data": {
      "text/plain": [
       "b    47\n",
       "d    67\n",
       "dtype: int64"
      ]
     },
     "execution_count": 7,
     "metadata": {},
     "output_type": "execute_result"
    }
   ],
   "source": [
    "s1.loc[['b', 'd']]"
   ]
  },
  {
   "cell_type": "code",
   "execution_count": 8,
   "id": "6652eea9",
   "metadata": {},
   "outputs": [
    {
     "ename": "KeyError",
     "evalue": "'b'",
     "output_type": "error",
     "traceback": [
      "\u001b[0;31m---------------------------------------------------------------------------\u001b[0m",
      "\u001b[0;31mKeyError\u001b[0m                                  Traceback (most recent call last)",
      "File \u001b[0;32m/usr/local/lib/python3.11/site-packages/pandas/core/indexes/base.py:3803\u001b[0m, in \u001b[0;36mIndex.get_loc\u001b[0;34m(self, key, method, tolerance)\u001b[0m\n\u001b[1;32m   3802\u001b[0m \u001b[38;5;28;01mtry\u001b[39;00m:\n\u001b[0;32m-> 3803\u001b[0m     \u001b[38;5;28;01mreturn\u001b[39;00m \u001b[38;5;28;43mself\u001b[39;49m\u001b[38;5;241;43m.\u001b[39;49m\u001b[43m_engine\u001b[49m\u001b[38;5;241;43m.\u001b[39;49m\u001b[43mget_loc\u001b[49m\u001b[43m(\u001b[49m\u001b[43mcasted_key\u001b[49m\u001b[43m)\u001b[49m\n\u001b[1;32m   3804\u001b[0m \u001b[38;5;28;01mexcept\u001b[39;00m \u001b[38;5;167;01mKeyError\u001b[39;00m \u001b[38;5;28;01mas\u001b[39;00m err:\n",
      "File \u001b[0;32m/usr/local/lib/python3.11/site-packages/pandas/_libs/index.pyx:138\u001b[0m, in \u001b[0;36mpandas._libs.index.IndexEngine.get_loc\u001b[0;34m()\u001b[0m\n",
      "File \u001b[0;32m/usr/local/lib/python3.11/site-packages/pandas/_libs/index.pyx:162\u001b[0m, in \u001b[0;36mpandas._libs.index.IndexEngine.get_loc\u001b[0;34m()\u001b[0m\n",
      "File \u001b[0;32m/usr/local/lib/python3.11/site-packages/pandas/_libs/index.pyx:203\u001b[0m, in \u001b[0;36mpandas._libs.index.IndexEngine._get_loc_duplicates\u001b[0;34m()\u001b[0m\n",
      "File \u001b[0;32m/usr/local/lib/python3.11/site-packages/pandas/_libs/index.pyx:211\u001b[0m, in \u001b[0;36mpandas._libs.index.IndexEngine._maybe_get_bool_indexer\u001b[0;34m()\u001b[0m\n",
      "File \u001b[0;32m/usr/local/lib/python3.11/site-packages/pandas/_libs/index.pyx:107\u001b[0m, in \u001b[0;36mpandas._libs.index._unpack_bool_indexer\u001b[0;34m()\u001b[0m\n",
      "\u001b[0;31mKeyError\u001b[0m: 'b'",
      "\nThe above exception was the direct cause of the following exception:\n",
      "\u001b[0;31mKeyError\u001b[0m                                  Traceback (most recent call last)",
      "Cell \u001b[0;32mIn [8], line 1\u001b[0m\n\u001b[0;32m----> 1\u001b[0m \u001b[43ms2\u001b[49m\u001b[38;5;241;43m.\u001b[39;49m\u001b[43mloc\u001b[49m\u001b[43m[\u001b[49m\u001b[38;5;124;43m'\u001b[39;49m\u001b[38;5;124;43mb\u001b[39;49m\u001b[38;5;124;43m'\u001b[39;49m\u001b[43m]\u001b[49m\n",
      "File \u001b[0;32m/usr/local/lib/python3.11/site-packages/pandas/core/indexing.py:1073\u001b[0m, in \u001b[0;36m_LocationIndexer.__getitem__\u001b[0;34m(self, key)\u001b[0m\n\u001b[1;32m   1070\u001b[0m axis \u001b[38;5;241m=\u001b[39m \u001b[38;5;28mself\u001b[39m\u001b[38;5;241m.\u001b[39maxis \u001b[38;5;129;01mor\u001b[39;00m \u001b[38;5;241m0\u001b[39m\n\u001b[1;32m   1072\u001b[0m maybe_callable \u001b[38;5;241m=\u001b[39m com\u001b[38;5;241m.\u001b[39mapply_if_callable(key, \u001b[38;5;28mself\u001b[39m\u001b[38;5;241m.\u001b[39mobj)\n\u001b[0;32m-> 1073\u001b[0m \u001b[38;5;28;01mreturn\u001b[39;00m \u001b[38;5;28;43mself\u001b[39;49m\u001b[38;5;241;43m.\u001b[39;49m\u001b[43m_getitem_axis\u001b[49m\u001b[43m(\u001b[49m\u001b[43mmaybe_callable\u001b[49m\u001b[43m,\u001b[49m\u001b[43m \u001b[49m\u001b[43maxis\u001b[49m\u001b[38;5;241;43m=\u001b[39;49m\u001b[43maxis\u001b[49m\u001b[43m)\u001b[49m\n",
      "File \u001b[0;32m/usr/local/lib/python3.11/site-packages/pandas/core/indexing.py:1312\u001b[0m, in \u001b[0;36m_LocIndexer._getitem_axis\u001b[0;34m(self, key, axis)\u001b[0m\n\u001b[1;32m   1310\u001b[0m \u001b[38;5;66;03m# fall thru to straight lookup\u001b[39;00m\n\u001b[1;32m   1311\u001b[0m \u001b[38;5;28mself\u001b[39m\u001b[38;5;241m.\u001b[39m_validate_key(key, axis)\n\u001b[0;32m-> 1312\u001b[0m \u001b[38;5;28;01mreturn\u001b[39;00m \u001b[38;5;28;43mself\u001b[39;49m\u001b[38;5;241;43m.\u001b[39;49m\u001b[43m_get_label\u001b[49m\u001b[43m(\u001b[49m\u001b[43mkey\u001b[49m\u001b[43m,\u001b[49m\u001b[43m \u001b[49m\u001b[43maxis\u001b[49m\u001b[38;5;241;43m=\u001b[39;49m\u001b[43maxis\u001b[49m\u001b[43m)\u001b[49m\n",
      "File \u001b[0;32m/usr/local/lib/python3.11/site-packages/pandas/core/indexing.py:1260\u001b[0m, in \u001b[0;36m_LocIndexer._get_label\u001b[0;34m(self, label, axis)\u001b[0m\n\u001b[1;32m   1258\u001b[0m \u001b[38;5;28;01mdef\u001b[39;00m \u001b[38;5;21m_get_label\u001b[39m(\u001b[38;5;28mself\u001b[39m, label, axis: \u001b[38;5;28mint\u001b[39m):\n\u001b[1;32m   1259\u001b[0m     \u001b[38;5;66;03m# GH#5567 this will fail if the label is not present in the axis.\u001b[39;00m\n\u001b[0;32m-> 1260\u001b[0m     \u001b[38;5;28;01mreturn\u001b[39;00m \u001b[38;5;28;43mself\u001b[39;49m\u001b[38;5;241;43m.\u001b[39;49m\u001b[43mobj\u001b[49m\u001b[38;5;241;43m.\u001b[39;49m\u001b[43mxs\u001b[49m\u001b[43m(\u001b[49m\u001b[43mlabel\u001b[49m\u001b[43m,\u001b[49m\u001b[43m \u001b[49m\u001b[43maxis\u001b[49m\u001b[38;5;241;43m=\u001b[39;49m\u001b[43maxis\u001b[49m\u001b[43m)\u001b[49m\n",
      "File \u001b[0;32m/usr/local/lib/python3.11/site-packages/pandas/core/generic.py:4056\u001b[0m, in \u001b[0;36mNDFrame.xs\u001b[0;34m(self, key, axis, level, drop_level)\u001b[0m\n\u001b[1;32m   4054\u001b[0m             new_index \u001b[38;5;241m=\u001b[39m index[loc]\n\u001b[1;32m   4055\u001b[0m \u001b[38;5;28;01melse\u001b[39;00m:\n\u001b[0;32m-> 4056\u001b[0m     loc \u001b[38;5;241m=\u001b[39m \u001b[43mindex\u001b[49m\u001b[38;5;241;43m.\u001b[39;49m\u001b[43mget_loc\u001b[49m\u001b[43m(\u001b[49m\u001b[43mkey\u001b[49m\u001b[43m)\u001b[49m\n\u001b[1;32m   4058\u001b[0m     \u001b[38;5;28;01mif\u001b[39;00m \u001b[38;5;28misinstance\u001b[39m(loc, np\u001b[38;5;241m.\u001b[39mndarray):\n\u001b[1;32m   4059\u001b[0m         \u001b[38;5;28;01mif\u001b[39;00m loc\u001b[38;5;241m.\u001b[39mdtype \u001b[38;5;241m==\u001b[39m np\u001b[38;5;241m.\u001b[39mbool_:\n",
      "File \u001b[0;32m/usr/local/lib/python3.11/site-packages/pandas/core/indexes/base.py:3805\u001b[0m, in \u001b[0;36mIndex.get_loc\u001b[0;34m(self, key, method, tolerance)\u001b[0m\n\u001b[1;32m   3803\u001b[0m     \u001b[38;5;28;01mreturn\u001b[39;00m \u001b[38;5;28mself\u001b[39m\u001b[38;5;241m.\u001b[39m_engine\u001b[38;5;241m.\u001b[39mget_loc(casted_key)\n\u001b[1;32m   3804\u001b[0m \u001b[38;5;28;01mexcept\u001b[39;00m \u001b[38;5;167;01mKeyError\u001b[39;00m \u001b[38;5;28;01mas\u001b[39;00m err:\n\u001b[0;32m-> 3805\u001b[0m     \u001b[38;5;28;01mraise\u001b[39;00m \u001b[38;5;167;01mKeyError\u001b[39;00m(key) \u001b[38;5;28;01mfrom\u001b[39;00m \u001b[38;5;21;01merr\u001b[39;00m\n\u001b[1;32m   3806\u001b[0m \u001b[38;5;28;01mexcept\u001b[39;00m \u001b[38;5;167;01mTypeError\u001b[39;00m:\n\u001b[1;32m   3807\u001b[0m     \u001b[38;5;66;03m# If we have a listlike key, _check_indexing_error will raise\u001b[39;00m\n\u001b[1;32m   3808\u001b[0m     \u001b[38;5;66;03m#  InvalidIndexError. Otherwise we fall through and re-raise\u001b[39;00m\n\u001b[1;32m   3809\u001b[0m     \u001b[38;5;66;03m#  the TypeError.\u001b[39;00m\n\u001b[1;32m   3810\u001b[0m     \u001b[38;5;28mself\u001b[39m\u001b[38;5;241m.\u001b[39m_check_indexing_error(key)\n",
      "\u001b[0;31mKeyError\u001b[0m: 'b'"
     ]
    }
   ],
   "source": [
    "s2.loc['b']"
   ]
  },
  {
   "cell_type": "code",
   "execution_count": 10,
   "id": "9219bdbd",
   "metadata": {},
   "outputs": [
    {
     "data": {
      "text/plain": [
       "f    70\n",
       "f    65\n",
       "dtype: int64"
      ]
     },
     "execution_count": 10,
     "metadata": {},
     "output_type": "execute_result"
    }
   ],
   "source": [
    "s2.loc['f']"
   ]
  },
  {
   "cell_type": "code",
   "execution_count": 11,
   "id": "3f334f97",
   "metadata": {},
   "outputs": [
    {
     "data": {
      "text/plain": [
       "a      NaN\n",
       "b      NaN\n",
       "c      NaN\n",
       "d      NaN\n",
       "e      NaN\n",
       "f     79.0\n",
       "f     74.0\n",
       "g    171.0\n",
       "g    122.0\n",
       "h    109.0\n",
       "h    108.0\n",
       "i     48.0\n",
       "i     82.0\n",
       "j    145.0\n",
       "j    175.0\n",
       "dtype: float64"
      ]
     },
     "execution_count": 11,
     "metadata": {},
     "output_type": "execute_result"
    }
   ],
   "source": [
    "s1 + s2"
   ]
  },
  {
   "cell_type": "code",
   "execution_count": 12,
   "id": "95210280",
   "metadata": {},
   "outputs": [
    {
     "data": {
      "text/plain": [
       "a    44\n",
       "b    47\n",
       "c    64\n",
       "d    67\n",
       "e    67\n",
       "f     9\n",
       "g    83\n",
       "h    21\n",
       "i    36\n",
       "j    87\n",
       "dtype: int64"
      ]
     },
     "execution_count": 12,
     "metadata": {},
     "output_type": "execute_result"
    }
   ],
   "source": [
    "s1"
   ]
  },
  {
   "cell_type": "code",
   "execution_count": 13,
   "id": "05da08eb",
   "metadata": {},
   "outputs": [
    {
     "data": {
      "text/plain": [
       "52.5"
      ]
     },
     "execution_count": 13,
     "metadata": {},
     "output_type": "execute_result"
    }
   ],
   "source": [
    "s1.mean()"
   ]
  },
  {
   "cell_type": "code",
   "execution_count": 14,
   "id": "37d0a79f",
   "metadata": {},
   "outputs": [
    {
     "data": {
      "text/plain": [
       "a    False\n",
       "b    False\n",
       "c     True\n",
       "d     True\n",
       "e     True\n",
       "f    False\n",
       "g     True\n",
       "h    False\n",
       "i    False\n",
       "j     True\n",
       "dtype: bool"
      ]
     },
     "execution_count": 14,
     "metadata": {},
     "output_type": "execute_result"
    }
   ],
   "source": [
    "# which elements of s1 are bigger than s1's mean?\n",
    "s1 > s1.mean()"
   ]
  },
  {
   "cell_type": "code",
   "execution_count": 15,
   "id": "8dccf2b0",
   "metadata": {},
   "outputs": [
    {
     "data": {
      "text/plain": [
       "c    64\n",
       "d    67\n",
       "e    67\n",
       "g    83\n",
       "j    87\n",
       "dtype: int64"
      ]
     },
     "execution_count": 15,
     "metadata": {},
     "output_type": "execute_result"
    }
   ],
   "source": [
    "# now let's apply that boolean series back to s1\n",
    "\n",
    "# the series we get back contains all elements of s1 \n",
    "# whose values are greater than s1's mean.\n",
    "# notice that the index is kept along with the elements\n",
    "\n",
    "s1.loc[s1 > s1.mean()]"
   ]
  },
  {
   "cell_type": "code",
   "execution_count": 16,
   "id": "0a549656",
   "metadata": {},
   "outputs": [
    {
     "data": {
      "text/plain": [
       "a    44\n",
       "b    47\n",
       "dtype: int64"
      ]
     },
     "execution_count": 16,
     "metadata": {},
     "output_type": "execute_result"
    }
   ],
   "source": [
    "s1.head(2)"
   ]
  },
  {
   "cell_type": "code",
   "execution_count": 17,
   "id": "7518350d",
   "metadata": {},
   "outputs": [
    {
     "data": {
      "text/plain": [
       "67    2\n",
       "44    1\n",
       "47    1\n",
       "64    1\n",
       "9     1\n",
       "83    1\n",
       "21    1\n",
       "36    1\n",
       "87    1\n",
       "dtype: int64"
      ]
     },
     "execution_count": 17,
     "metadata": {},
     "output_type": "execute_result"
    }
   ],
   "source": [
    "# when we run s1.value_counts(), the result is a series\n",
    "# whose index contains the unique values from s1\n",
    "# whose values are the number of times that each of s1's elements appeared\n",
    "\n",
    "s1.value_counts()"
   ]
  },
  {
   "cell_type": "code",
   "execution_count": 18,
   "id": "2f4e9edf",
   "metadata": {},
   "outputs": [
    {
     "data": {
      "text/plain": [
       "a    44\n",
       "b    47\n",
       "c    64\n",
       "d    67\n",
       "e    67\n",
       "f     9\n",
       "g    83\n",
       "h    21\n",
       "i    36\n",
       "j    87\n",
       "dtype: int64"
      ]
     },
     "execution_count": 18,
     "metadata": {},
     "output_type": "execute_result"
    }
   ],
   "source": [
    "s1"
   ]
  },
  {
   "cell_type": "code",
   "execution_count": 19,
   "id": "97f78f2f",
   "metadata": {},
   "outputs": [
    {
     "data": {
      "text/plain": [
       "a    10\n",
       "b    20\n",
       "c    30\n",
       "d    40\n",
       "e    50\n",
       "dtype: int64"
      ]
     },
     "execution_count": 19,
     "metadata": {},
     "output_type": "execute_result"
    }
   ],
   "source": [
    "# let's talk about dtypes!\n",
    "\n",
    "s = Series([10, 20, 30, 40, 50],\n",
    "          index=list('abcde'))\n",
    "s\n"
   ]
  },
  {
   "cell_type": "markdown",
   "id": "f5fdbb07",
   "metadata": {},
   "source": [
    "# What are dtypes?  \n",
    "\n",
    "Python is not an obviously good candidate for data analysis. That's because each number in Python is actually an object, one that's very large (in memory usage). If you are dealing with many billions of numbers, this will quickly use up the RAM on your system, and will also make your programs very slow.\n",
    "\n",
    "The advantage of Pandas (and of NumPy, which sits behind the scenes) is that it doesn't use Python's numbers. Rather, it uses C's numbers, which are VERY VERY small in comparison.\n",
    "\n",
    "The good news is that Pandas is thus very efficient in both memory usage and speed.\n",
    "\n",
    "The bad news is that we have to do more work. We have to choose which *type* of integer, or float, or other value (but usually ints and floats) we want to use.\n",
    "\n",
    "The big choice? How many bits they should contain.\n",
    "\n",
    "By default, Pandas will use `int64` for our integers. That is: 64-bit integers.\n",
    "\n",
    "Meaning, that we get 2\\*\\*64 different integers.\n",
    "\n",
    "What if my numbers are all small? For example, what if I'm tracking ages in a population? I'm unlkely to have someone several quadrillion years old. It might make more sense to save memory, without messing up the accuracy of our data, by choosing a different dtype."
   ]
  },
  {
   "cell_type": "code",
   "execution_count": 20,
   "id": "73b2b1a1",
   "metadata": {},
   "outputs": [
    {
     "data": {
      "text/plain": [
       "18446744073709551616"
      ]
     },
     "execution_count": 20,
     "metadata": {},
     "output_type": "execute_result"
    }
   ],
   "source": [
    "2**64"
   ]
  },
  {
   "cell_type": "markdown",
   "id": "e04a4a1d",
   "metadata": {},
   "source": [
    "# Valid dtypes\n",
    "\n",
    "When you choose a dtype, you have to balance the size/speed with your data needs, because if you choose a dtype that's too small, you will lose data and never know it.\n",
    "\n",
    "## Integers\n",
    "- `np.int64` (*default*)\n",
    "- `np.int32`\n",
    "- `np.int16`\n",
    "- `np.int8`\n",
    "- `np.uint64`\n",
    "- `np.uint32`\n",
    "- `np.uint16`\n",
    "- `np.uint8`\n",
    "\n",
    "## Floats\n",
    "- `np.float128`\n",
    "- `np.float64`  (*default*)\n",
    "- `np.float32`\n",
    "- `np.float16`"
   ]
  },
  {
   "cell_type": "code",
   "execution_count": null,
   "id": "07b501a1",
   "metadata": {},
   "outputs": [],
   "source": [
    "np.float"
   ]
  },
  {
   "cell_type": "code",
   "execution_count": 21,
   "id": "2799a035",
   "metadata": {},
   "outputs": [
    {
     "data": {
      "text/plain": [
       "256"
      ]
     },
     "execution_count": 21,
     "metadata": {},
     "output_type": "execute_result"
    }
   ],
   "source": [
    "# int8 can, in theory, have numbers from 0-255, because 2**8 is 256.\n",
    "# but that's not the case, because we also need negative numbers -- so we really get -127 to 126\n",
    "# if you know you're only going to have positive numbers, you can double the range with uint types\n",
    "\n",
    "2**8"
   ]
  },
  {
   "cell_type": "code",
   "execution_count": 22,
   "id": "38bf4976",
   "metadata": {},
   "outputs": [],
   "source": [
    "# I can set the dtype when I create a series\n",
    "\n",
    "\n",
    "\n",
    "s = Series([10, 20, 30, 40, 50], dtype=np.int8)"
   ]
  },
  {
   "cell_type": "code",
   "execution_count": 23,
   "id": "9fda7e5a",
   "metadata": {},
   "outputs": [
    {
     "data": {
      "text/plain": [
       "0    10\n",
       "1    20\n",
       "2    30\n",
       "3    40\n",
       "4    50\n",
       "dtype: int8"
      ]
     },
     "execution_count": 23,
     "metadata": {},
     "output_type": "execute_result"
    }
   ],
   "source": [
    "s"
   ]
  },
  {
   "cell_type": "code",
   "execution_count": 24,
   "id": "4258432d",
   "metadata": {},
   "outputs": [],
   "source": [
    "# how much memory did I just save?\n",
    "# int8 == 8 bits, or 1 byte, per integer\n",
    "# int64 == 64 bits, or 8 bytes, per integer\n",
    "\n",
    "# in this series, I saved 5*8 - 5*1 = 35 bytes"
   ]
  },
  {
   "cell_type": "code",
   "execution_count": 25,
   "id": "38d79c16",
   "metadata": {},
   "outputs": [
    {
     "data": {
      "text/plain": [
       "0    100\n",
       "1   -112\n",
       "2   -124\n",
       "3     64\n",
       "4    -60\n",
       "dtype: int8"
      ]
     },
     "execution_count": 25,
     "metadata": {},
     "output_type": "execute_result"
    }
   ],
   "source": [
    "s**2   # put s to the 2nd power"
   ]
  },
  {
   "cell_type": "code",
   "execution_count": null,
   "id": "b7af0a37",
   "metadata": {},
   "outputs": [],
   "source": []
  }
 ],
 "metadata": {
  "kernelspec": {
   "display_name": "Python 3 (ipykernel)",
   "language": "python",
   "name": "python3"
  },
  "language_info": {
   "codemirror_mode": {
    "name": "ipython",
    "version": 3
   },
   "file_extension": ".py",
   "mimetype": "text/x-python",
   "name": "python",
   "nbconvert_exporter": "python",
   "pygments_lexer": "ipython3",
   "version": "3.11.0"
  }
 },
 "nbformat": 4,
 "nbformat_minor": 5
}
