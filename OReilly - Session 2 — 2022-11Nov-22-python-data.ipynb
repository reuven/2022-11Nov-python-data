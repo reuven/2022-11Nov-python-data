{
 "cells": [
  {
   "cell_type": "markdown",
   "id": "93f407e1",
   "metadata": {},
   "source": [
    "# Agenda, week 2\n",
    "\n",
    "\n",
    "1. Recap and Q&A\n",
    "2. dtypes in Pandas\n",
    "     - What are they?\n",
    "     - How do they work?\n",
    "     - How do we change them?\n",
    "     - Why do we care?\n",
    "3. `NaN` -- \"not a number\"\n",
    "    - What is it?\n",
    "    - Why do we need it?\n",
    "    - How do we "
   ]
  },
  {
   "cell_type": "code",
   "execution_count": null,
   "id": "d714fb3d",
   "metadata": {},
   "outputs": [],
   "source": []
  }
 ],
 "metadata": {
  "kernelspec": {
   "display_name": "Python 3 (ipykernel)",
   "language": "python",
   "name": "python3"
  },
  "language_info": {
   "codemirror_mode": {
    "name": "ipython",
    "version": 3
   },
   "file_extension": ".py",
   "mimetype": "text/x-python",
   "name": "python",
   "nbconvert_exporter": "python",
   "pygments_lexer": "ipython3",
   "version": "3.11.0"
  }
 },
 "nbformat": 4,
 "nbformat_minor": 5
}
